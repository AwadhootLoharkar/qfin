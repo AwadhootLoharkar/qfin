{
 "cells": [
  {
   "cell_type": "code",
   "execution_count": null,
   "metadata": {},
   "outputs": [],
   "source": [
    "# Setting import path\n",
    "import sys, os\n",
    "sys.path.append(os.path.join(os.getcwd(), '..', 'quantum_optimization'))"
   ]
  },
  {
   "cell_type": "code",
   "execution_count": null,
   "metadata": {},
   "outputs": [],
   "source": [
    "import matplotlib.pyplot as plt\n",
    "from visualizer import print_result, display_stocks_graph"
   ]
  },
  {
   "cell_type": "code",
   "execution_count": null,
   "metadata": {},
   "outputs": [],
   "source": [
    "import os\n",
    "from import_stocks import read_stock_symbols\n",
    "from get_stocks_data import get_yahoo_data\n",
    "\n",
    "# Define the base path relative to the current working directory\n",
    "base_path = os.path.abspath(os.path.join(os.getcwd(), '..', '..', 'assets'))\n",
    "stocks_symbol_list_path = os.path.join(base_path, 'nasdaq_100_stocks.csv')\n",
    "\n",
    "\n",
    "######### Define no of stocks ###############3\n",
    "no_of_stocks = 6\n",
    "start_date=(2018, 1, 1)\n",
    "end_date=(2020, 1, 1)\n",
    "stocks = read_stock_symbols(stocks_symbol_list_path, num_symbols=no_of_stocks)\n",
    "\n",
    "data, tickers, mu, sigma = get_yahoo_data(stocks, start_date, end_date)\n",
    "\n",
    "print(\"Stocks: \", stocks)\n",
    "print(\"Mean return: \", mu)\n",
    "print(\"Covariance: \", sigma)"
   ]
  },
  {
   "cell_type": "code",
   "execution_count": null,
   "metadata": {},
   "outputs": [],
   "source": [
    "# plot sigma\n",
    "plt.imshow(sigma, interpolation=\"nearest\")\n",
    "plt.show()"
   ]
  },
  {
   "cell_type": "code",
   "execution_count": null,
   "metadata": {},
   "outputs": [],
   "source": [
    "display_stocks_graph(data)"
   ]
  },
  {
   "cell_type": "code",
   "execution_count": null,
   "metadata": {},
   "outputs": [],
   "source": [
    "from portfolio import define_portfolio_optimization_problem\n",
    "\n",
    "q = 0.5  # set risk factor\n",
    "budget = 3  # set budget\n",
    "\n",
    "portfolio, portfolio_quadratic_program = define_portfolio_optimization_problem(expected_returns=mu, covariances=sigma, risk_factor=q, budget=budget)\n",
    "print(\"Portfolio Quadratic Program: \", portfolio_quadratic_program)"
   ]
  },
  {
   "cell_type": "code",
   "execution_count": null,
   "metadata": {},
   "outputs": [],
   "source": [
    "from solver import solve_using_sampling_vqe\n",
    "\n",
    "num_stocks = len(stocks)\n",
    "result = solve_using_sampling_vqe(portfolio_quadratic_program, num_stocks)\n",
    "\n",
    "print_result(stocks, portfolio, result)"
   ]
  },
  {
   "cell_type": "code",
   "execution_count": null,
   "metadata": {},
   "outputs": [],
   "source": [
    "from solver import solve_using_qaoa\n",
    "\n",
    "num_stocks = len(stocks)\n",
    "result = solve_using_qaoa(portfolio_quadratic_program)\n",
    "\n",
    "print_result(stocks, portfolio, result)"
   ]
  },
  {
   "cell_type": "code",
   "execution_count": null,
   "metadata": {},
   "outputs": [],
   "source": [
    "import pandas as pd\n",
    "import numpy as np\n",
    "import yfinance as yf\n",
    "import matplotlib.pyplot as plt\n",
    "from datetime import datetime\n",
    "from get_optimal_stocks import *\n",
    "\n",
    "\n",
    "\n",
    "def fetch_stock_data(stock_symbols, start, end):\n",
    "    stock_data = {}\n",
    "    for stock_symbol in stock_symbols:\n",
    "        try:\n",
    "            stock_df = yf.download(stock_symbol, start=start, end=end)\n",
    "            stock_df['Normed Return'] = stock_df['Adj Close'] / stock_df.iloc[0]['Adj Close']\n",
    "            stock_data[stock_symbol] = stock_df\n",
    "        except Exception as e:\n",
    "            print(f\"Error retrieving data for symbol: {stock_symbol}. Error message: {e}\")\n",
    "    return stock_data\n",
    "\n",
    "def calculate_portfolio_stats(stock_data, confidence_level, num_ports=5000):\n",
    "    stock_symbols = list(stock_data.keys())\n",
    "    close_data = {symbol: stock_data[symbol]['Adj Close'] for symbol in stock_symbols}\n",
    "    stocks = pd.DataFrame(close_data)\n",
    "    log_ret = np.log(stocks / stocks.shift(1))\n",
    "\n",
    "    np.random.seed(101)\n",
    "    all_weights = np.zeros((num_ports, len(stock_symbols)))\n",
    "    ret_arr = np.zeros(num_ports)\n",
    "    vol_arr = np.zeros(num_ports)\n",
    "    sharpe_arr = np.zeros(num_ports)\n",
    "    cvar_arr = np.zeros(num_ports)\n",
    "\n",
    "    for ind in range(num_ports):\n",
    "        weights = np.random.random(len(stock_symbols))\n",
    "        # print(\"Random Weights: \", weights)\n",
    "        # weights = np.array([0.4, 0.4, 0.2])\n",
    "        weights /= np.sum(weights)\n",
    "        \n",
    "        all_weights[ind, :] = weights\n",
    "        ret_arr[ind] = np.sum((log_ret.mean() * weights) * 252)\n",
    "        vol_arr[ind] = np.sqrt(np.dot(weights.T, np.dot(log_ret.cov() * 252, weights)))\n",
    "        sharpe_arr[ind] = ret_arr[ind] / vol_arr[ind]\n",
    "        \n",
    "        portfolio_returns = log_ret.dot(weights).dropna()\n",
    "        VaR = np.percentile(portfolio_returns, (1-confidence_level) * 100)\n",
    "        cvar_arr[ind] = portfolio_returns[portfolio_returns <= VaR].mean()\n",
    "\n",
    "    max_sr_idx = sharpe_arr.argmax()\n",
    "    optimal_weights = all_weights[max_sr_idx, :]\n",
    "\n",
    "    return {\n",
    "        \"optimal_weights\": optimal_weights,\n",
    "        \"expected_return\": ret_arr[max_sr_idx],\n",
    "        \"expected_volatility\": vol_arr[max_sr_idx],\n",
    "        \"sharpe_ratio\": sharpe_arr[max_sr_idx],\n",
    "        \"cvar\": cvar_arr[max_sr_idx],\n",
    "        \"all_weights\": all_weights,\n",
    "        \"ret_arr\": ret_arr,\n",
    "        \"vol_arr\": vol_arr,\n",
    "        \"sharpe_arr\": sharpe_arr\n",
    "    }"
   ]
  },
  {
   "cell_type": "code",
   "execution_count": null,
   "metadata": {},
   "outputs": [],
   "source": [
    "def main():\n",
    "    stock_symbols = get_optimal_stocks(tickers, result)\n",
    "    start = datetime(*start_date)\n",
    "    end = datetime(*end_date)\n",
    "    Portfolio_total_value = 1000000  # Total portfolio value in dollars\n",
    "    confidence_level = 0.95\n",
    "\n",
    "    stock_data = fetch_stock_data(stock_symbols, start, end)\n",
    "    results = calculate_portfolio_stats(stock_data, confidence_level)\n",
    "\n",
    "    print(f\"Optimal Weights: {results['optimal_weights']}\")\n",
    "    print(f\"Expected Return: {results['expected_return'] * 100:.2f}%\")\n",
    "    print(f\"Expected Volatility: {results['expected_volatility'] * 100:.2f}%\")\n",
    "    print(f\"Sharpe Ratio: {results['sharpe_ratio']:.2f}\")\n",
    "    print(f\"CVaR (95%): {results['cvar'] * 100:.2f}%\")\n",
    "    print(f\"Values to be invested in each stock for portfolio of value {Portfolio_total_value} $\")\n",
    "    for i, symbol in enumerate(stock_symbols):\n",
    "        print(f'{symbol} : ${results[\"optimal_weights\"][i] * Portfolio_total_value:.2f}')\n",
    "\n",
    "    # Visualization\n",
    "    plt.figure(figsize=(17, 9))\n",
    "    plt.scatter(results['vol_arr'], results['ret_arr'], c=results['sharpe_arr'], cmap='plasma')\n",
    "    plt.colorbar(label='Sharpe Ratio')\n",
    "    plt.xlabel('Volatility')\n",
    "    plt.ylabel('Return')\n",
    "    plt.scatter(results['vol_arr'][results['sharpe_arr'].argmax()], results['ret_arr'][results['sharpe_arr'].argmax()], c='red', s=50, edgecolors='black')\n",
    "    plt.title('Portfolio Optimization')\n",
    "    plt.show()\n",
    "\n",
    "    # Combine the position values into a single DataFrame and calculate the total position\n",
    "    portfolio_val = pd.concat([stock_data[symbol]['Normed Return'] * results['optimal_weights'][i] * Portfolio_total_value for i, symbol in enumerate(stock_symbols)], axis=1)\n",
    "    portfolio_val.columns = [f\"{symbol} Pos\" for symbol in stock_symbols]\n",
    "    portfolio_val['Total Pos'] = portfolio_val.sum(axis=1)\n",
    "\n",
    "    # Plot the total portfolio value\n",
    "    portfolio_val['Total Pos'].plot(figsize=(10, 8))\n",
    "    plt.title('Total Portfolio Value')\n",
    "    plt.xlabel('Date')\n",
    "    plt.ylabel('Portfolio Value')\n",
    "    plt.show()\n",
    "\n",
    "    # Plot the individual stock position values\n",
    "    portfolio_val.drop('Total Pos', axis=1).plot(kind='line', figsize=(10, 8))\n",
    "    plt.title('Individual Stock Position Values')\n",
    "    plt.xlabel('Date')\n",
    "    plt.ylabel('Position Value')\n",
    "    plt.show()\n",
    "\n",
    "    portfolio_val['Daily Return'] = portfolio_val['Total Pos'].pct_change(1)\n",
    "    cum_ret = 100 * (portfolio_val['Total Pos'][-1] / portfolio_val['Total Pos'][0] - 1)\n",
    "    print('Our cumulative return is {} percent!'.format(cum_ret))\n",
    "\n",
    "if __name__ == \"__main__\":\n",
    "    main()"
   ]
  }
 ],
 "metadata": {
  "kernelspec": {
   "display_name": "Python 3",
   "language": "python",
   "name": "python3"
  },
  "language_info": {
   "codemirror_mode": {
    "name": "ipython",
    "version": 3
   },
   "file_extension": ".py",
   "mimetype": "text/x-python",
   "name": "python",
   "nbconvert_exporter": "python",
   "pygments_lexer": "ipython3",
   "version": "3.10.12"
  }
 },
 "nbformat": 4,
 "nbformat_minor": 2
}
