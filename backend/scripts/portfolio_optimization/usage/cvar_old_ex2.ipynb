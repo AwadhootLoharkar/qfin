{
 "cells": [
  {
   "cell_type": "code",
   "execution_count": null,
   "metadata": {},
   "outputs": [],
   "source": [
    "# Setting import path\n",
    "import sys, os\n",
    "sys.path.append(os.path.join(os.getcwd(), '..', 'quantum_optimization'))"
   ]
  },
  {
   "cell_type": "code",
   "execution_count": null,
   "metadata": {},
   "outputs": [],
   "source": [
    "import matplotlib.pyplot as plt\n",
    "from visualizer import print_result, display_stocks_graph\n",
    "import pandas as pd\n",
    "import numpy as np\n",
    "from get_optimal_stocks import *"
   ]
  },
  {
   "cell_type": "code",
   "execution_count": null,
   "metadata": {},
   "outputs": [],
   "source": [
    "Portfolio_total_value = 1000000  # This is in dollar"
   ]
  },
  {
   "cell_type": "markdown",
   "metadata": {},
   "source": [
    "### Get Stocks Dataframe"
   ]
  },
  {
   "cell_type": "code",
   "execution_count": null,
   "metadata": {},
   "outputs": [],
   "source": [
    "from get_stocks_data import get_stocks_dataframe\n",
    "\n",
    "# Define the stock symbols (Yahoo Finance uses different symbols compared to Quandl)\n",
    "stock_symbols = ['AAPL', 'MSFT', 'AMZN']\n",
    "start_date = (2018, 1, 1)\n",
    "end_date = (2020, 1, 1)\n",
    "\n",
    "stock_data = get_stocks_dataframe(stock_symbols, start_date, end_date)"
   ]
  },
  {
   "cell_type": "markdown",
   "metadata": {},
   "source": [
    "#### Visualizing the fetched dataframe"
   ]
  },
  {
   "cell_type": "code",
   "execution_count": null,
   "metadata": {},
   "outputs": [],
   "source": [
    "# Access and display dataframes (similar to the original loop)\n",
    "for stock_name, stock_df in stock_data.items():\n",
    "    print(f\"\\n{stock_name} DataFrame Head:\")\n",
    "    print(stock_df.head())\n"
   ]
  },
  {
   "cell_type": "markdown",
   "metadata": {},
   "source": [
    "#### Adding the following columns to the dataframe:\n",
    "- **'Allocation'** : The percentage of the total investment in the stock\n",
    "- **'Position Value'** : The value of the investment in the stock"
   ]
  },
  {
   "cell_type": "code",
   "execution_count": null,
   "metadata": {},
   "outputs": [],
   "source": [
    "# Generate random allocations\n",
    "allocations = np.random.rand(len(stock_symbols))\n",
    "# Normalize allocations so they add up to 1\n",
    "allocations /= allocations.sum()\n",
    "print(allocations)\n",
    "\n",
    "# Calculate and add position values to each dataframe\n",
    "for stock_symbol, allocation in zip(stock_symbols, allocations):\n",
    "    stock_df = stock_data[stock_symbol]\n",
    "    stock_df['Allocation'] = stock_df['Normed Return'] * allocation\n",
    "    stock_df['Position Values'] = stock_df['Allocation'] * Portfolio_total_value\n",
    "\n",
    "# Display the head of the JPM dataframe with allocation and position values\n",
    "print(\"\\nJPM DataFrame with Allocation and Position Values Head:\")\n",
    "print(stock_data[stock_symbols[0]].head())"
   ]
  },
  {
   "cell_type": "markdown",
   "metadata": {},
   "source": [
    "#### Creating a Portfolio Value column to visualize the total value of the portfolio"
   ]
  },
  {
   "cell_type": "code",
   "execution_count": null,
   "metadata": {},
   "outputs": [],
   "source": [
    "# Combine the position values into a single DataFrame and calculate the total position\n",
    "portfolio_val = pd.concat([stock_data[symbol]['Position Values'] for symbol in stock_symbols], axis=1)\n",
    "portfolio_val.columns = [f\"{symbol} Pos\" for symbol in stock_symbols]\n",
    "portfolio_val['Total Pos'] = portfolio_val.sum(axis=1)\n"
   ]
  },
  {
   "cell_type": "markdown",
   "metadata": {},
   "source": [
    "#### Visualization of Portfolio Value"
   ]
  },
  {
   "cell_type": "code",
   "execution_count": null,
   "metadata": {},
   "outputs": [],
   "source": [
    "# Display the head of the portfolio valuation DataFrame\n",
    "print(\"\\nPortfolio Valuation DataFrame Head:\")\n",
    "print(portfolio_val.head())"
   ]
  },
  {
   "cell_type": "code",
   "execution_count": null,
   "metadata": {},
   "outputs": [],
   "source": [
    "# Plot the total portfolio value\n",
    "portfolio_val['Total Pos'].plot(figsize=(10, 8))\n",
    "plt.title('Total Portfolio Value')\n",
    "plt.xlabel('Date')\n",
    "plt.ylabel('Portfolio Value')\n",
    "plt.show()"
   ]
  },
  {
   "cell_type": "code",
   "execution_count": null,
   "metadata": {},
   "outputs": [],
   "source": [
    "# Plot the individual stock position values\n",
    "portfolio_val.drop('Total Pos', axis=1).plot(kind='line', figsize=(10, 8))\n",
    "plt.title('Individual Stock Position Values')\n",
    "plt.xlabel('Date')\n",
    "plt.ylabel('Position Value')\n",
    "plt.show()\n",
    "\n",
    "portfolio_val['Daily Return'] = portfolio_val['Total Pos'].pct_change(1)"
   ]
  },
  {
   "cell_type": "markdown",
   "metadata": {},
   "source": [
    "### Cumulative Returns"
   ]
  },
  {
   "cell_type": "code",
   "execution_count": null,
   "metadata": {},
   "outputs": [],
   "source": [
    "# Calculate the cumulative return\n",
    "cum_ret = 100 * (portfolio_val['Total Pos'][-1] / portfolio_val['Total Pos'][0] - 1)\n",
    "print('Our cumulative return is {} percent!'.format(cum_ret))"
   ]
  },
  {
   "cell_type": "markdown",
   "metadata": {},
   "source": [
    "### Mean daily return and standard deviation"
   ]
  },
  {
   "cell_type": "code",
   "execution_count": null,
   "metadata": {},
   "outputs": [],
   "source": [
    "# Calculate mean daily return and standard deviation\n",
    "mean_daily_return = portfolio_val['Daily Return'].mean()\n",
    "std_daily_return = portfolio_val['Daily Return'].std()\n",
    "\n",
    "print('Our mean daily return is {} percent and our standard deviation is {} percent!'.format(mean_daily_return, std_daily_return))"
   ]
  },
  {
   "cell_type": "markdown",
   "metadata": {},
   "source": [
    "### Sharpe Ratio"
   ]
  },
  {
   "cell_type": "code",
   "execution_count": null,
   "metadata": {},
   "outputs": [],
   "source": [
    "# Calculate Sharpe Ratio\n",
    "SR = mean_daily_return / std_daily_return\n",
    "ASR = (252**0.5) * SR\n",
    "print('Annualized Sharpe Ratio:', ASR)"
   ]
  },
  {
   "cell_type": "markdown",
   "metadata": {},
   "source": [
    "### Daily Returns"
   ]
  },
  {
   "cell_type": "code",
   "execution_count": null,
   "metadata": {},
   "outputs": [],
   "source": [
    "# Extract and combine the adjusted close prices into a single DataFrame for daily returns\n",
    "close_data = {symbol: stock_data[symbol]['Adj Close'] for symbol in stock_symbols}\n",
    "stocks = pd.DataFrame(close_data)\n",
    "\n",
    "# Calculate logarithmic returns\n",
    "log_ret = np.log(stocks / stocks.shift(1))\n",
    "\n",
    "# One iteration example\n",
    "np.random.seed(101)\n",
    "weights = np.random.random(len(stock_symbols))\n",
    "weights /= np.sum(weights)\n",
    "\n",
    "exp_ret = np.sum(log_ret.mean() * weights) * 252\n",
    "exp_vol = np.sqrt(np.dot(weights.T, np.dot(log_ret.cov() * 252, weights)))\n",
    "SR = exp_ret / exp_vol"
   ]
  },
  {
   "cell_type": "markdown",
   "metadata": {},
   "source": [
    "### Monte Carlo Simulation"
   ]
  },
  {
   "cell_type": "code",
   "execution_count": null,
   "metadata": {},
   "outputs": [],
   "source": [
    "# Monte Carlo simulation\n",
    "from monte_carlo_simulation import run_monte_carlo_simulation\n",
    "\n",
    "num_ports = 20000\n",
    "\n",
    "all_weights, ret_arr, vol_arr, sharpe_arr, cvar_arr = run_monte_carlo_simulation(num_ports, stock_symbols, stocks, log_ret)\n",
    "\n",
    "print('Weights of the stocks in the portfolios: ', all_weights)\n",
    "print('Returns of the portfolios: ', ret_arr)\n",
    "print('Volatility of the portfolios: ', vol_arr)\n",
    "print('Sharpe Ratio of the portfolios: ', sharpe_arr)\n",
    "print('Conditional Value at Risk of the portfolios: ', cvar_arr)"
   ]
  },
  {
   "cell_type": "code",
   "execution_count": null,
   "metadata": {},
   "outputs": [],
   "source": [
    "import pandas as pd\n",
    "import numpy as np\n",
    "\n",
    "\n",
    "def calculate_portfolio_stats(stock_data, confidence_level):\n",
    "  \"\"\"\n",
    "  This function calculates expected return, expected volatility, and CVaR for a portfolio.\n",
    "\n",
    "  Args:\n",
    "      stock_data: A dictionary where keys are stock symbols and values are lists of adjusted closing prices.\n",
    "      confidence_level: The confidence level for CVaR calculation (e.g., 0.95).\n",
    "\n",
    "  Returns:\n",
    "      A dictionary containing expected return, expected volatility, and CVaR.\n",
    "  \"\"\"\n",
    "\n",
    "  np.random.seed(101)\n",
    "  stock_symbols = list(stock_data.keys())\n",
    "\n",
    "  # Extract and combine closing prices\n",
    "  close_data = {symbol: stock_data[symbol]['Adj Close'] for symbol in stock_symbols}\n",
    "  stocks = pd.DataFrame(close_data)\n",
    "\n",
    "  # Calculate logarithmic returns\n",
    "  log_ret = np.log(stocks / stocks.shift(1))\n",
    "\n",
    "    # Perform portfolio optimization to get weights\n",
    "  optimal_portfolio = optimize_portfolio(stock_data)\n",
    "  weights = optimal_portfolio[\"weights\"]\n",
    "\n",
    "  # Calculate expected return and volatility using optimal weights\n",
    "  exp_ret = np.sum(log_ret.mean() * weights) * 252\n",
    "  exp_vol = np.sqrt(np.dot(weights.T, np.dot(log_ret.cov() * 252, weights)))\n",
    "\n",
    "  # Calculate CVaR\n",
    "  # Sort the returns from lowest to highest\n",
    "  sorted_returns = log_ret.sort_values(ascending=True)\n",
    "\n",
    "  # Define the number of observations for VaR calculation based on confidence level\n",
    "  num_var_observations = int(len(sorted_returns) * confidence_level)\n",
    "\n",
    "  # Calculate VaR\n",
    "  var = sorted_returns.iloc[num_var_observations - 1] * 252\n",
    "\n",
    "  # Calculate CVaR - average of returns below VaR\n",
    "  cvar = np.mean(sorted_returns[:num_var_observations]) * 252\n",
    "\n",
    "  return {\n",
    "      \"expected_return\": exp_ret,\n",
    "      \"expected_volatility\": exp_vol,\n",
    "      \"cvar\": cvar\n",
    "  }\n",
    "\n",
    "# Example usage\n",
    "stock_data = {'AAPL': {'Adj Close': [100, 101, 99]},\n",
    "              'IBM': {'Adj Close': [105, 103, 102]},\n",
    "              'MSFT': {'Adj Close': [95, 98, 97]}}\n",
    "\n",
    "results = calculate_portfolio_stats(stock_data, 0.95)\n",
    "print(f\"Expected Return: {results['expected_return']:.2f}\")\n",
    "print(f\"Expected Volatility: {results['expected_volatility']:.2f}\")\n",
    "print(f\"CVaR (95%): {results['cvar']:.2f}\")\n"
   ]
  },
  {
   "cell_type": "code",
   "execution_count": null,
   "metadata": {},
   "outputs": [],
   "source": [
    "results = calculate_portfolio_stats(stock_data, 0.95)\n",
    "print(f\"Expected Return: {results['expected_return']:.2f}\")\n",
    "print(f\"Expected Volatility: {results['expected_volatility']:.2f}\")\n",
    "print(f\"CVaR (95%): {results['cvar']:.2f}\")\n"
   ]
  },
  {
   "cell_type": "code",
   "execution_count": null,
   "metadata": {},
   "outputs": [],
   "source": [
    "import datetime\n",
    "# Identify the portfolio with the highest Sharpe Ratio\n",
    "max_sr_idx = sharpe_arr.argmax()\n",
    "optimal_weights = all_weights[max_sr_idx, :]\n",
    "\n",
    "start=datetime.datetime(start_date[0], start_date[1], start_date[2])\n",
    "end=datetime.datetime(end_date[0], end_date[1], end_date[2])\n",
    "\n",
    "# Calculate additional metrics\n",
    "years = (end - start).days / 365.25\n",
    "total_return = portfolio_val['Total Pos'][-1] / portfolio_val['Total Pos'][0] - 1\n",
    "annualized_return = (1 + total_return) ** (1 / years) - 1\n",
    "annualized_volatility = vol_arr[max_sr_idx]\n",
    "cagr = (portfolio_val['Total Pos'][-1] / portfolio_val['Total Pos'][0]) ** (1 / years) - 1\n",
    "\n",
    "# Print results\n",
    "print(f'Optimal Weights: {optimal_weights}')\n",
    "print(f'Expected Return: {ret_arr[max_sr_idx] * 100:.2f}%')\n",
    "print(f'Expected Volatility: {vol_arr[max_sr_idx] * 100:.2f}%')\n",
    "print(f'Sharpe Ratio: {sharpe_arr[max_sr_idx]:.2f}')\n",
    "print(f'CVaR: {cvar_arr[max_sr_idx] * 100:.2f}%')\n",
    "print(f'Annualized Return: {annualized_return * 100:.2f}%')\n",
    "print(f'CAGR: {cagr * 100:.2f}%')\n",
    "print(f'Annualized Volatility (Risk): {annualized_volatility * 100:.2f}%')\n",
    "\n",
    "# Plotting the results\n",
    "plt.figure(figsize=(17, 9))\n",
    "plt.scatter(vol_arr, ret_arr, c=sharpe_arr, cmap='plasma')\n",
    "plt.colorbar(label='Sharpe Ratio')\n",
    "plt.xlabel('Volatility')\n",
    "plt.ylabel('Return')\n",
    "plt.scatter(vol_arr[max_sr_idx], ret_arr[max_sr_idx], c='red', s=50, edgecolors='black')\n",
    "plt.title('Portfolio Optimization')\n",
    "plt.show()\n",
    "\n",
    "# Output the portfolio weights\n",
    "print(f'Values to be invested in each stock for portfolio of value {Portfolio_total_value} $')\n",
    "for i, symbol in enumerate(stock_symbols):\n",
    "    print(f'{symbol} : ${optimal_weights[i] * Portfolio_total_value}')"
   ]
  },
  {
   "cell_type": "code",
   "execution_count": null,
   "metadata": {},
   "outputs": [],
   "source": [
    "import pandas as pd\n",
    "import numpy as np\n",
    "import yfinance as yf\n",
    "import matplotlib.pyplot as plt\n",
    "from datetime import datetime\n",
    "\n",
    "def fetch_stock_data(stock_symbols, start, end):\n",
    "    stock_data = {}\n",
    "    for stock_symbol in stock_symbols:\n",
    "        try:\n",
    "            stock_df = yf.download(stock_symbol, start=start, end=end)\n",
    "            stock_df['Normed Return'] = stock_df['Adj Close'] / stock_df.iloc[0]['Adj Close']\n",
    "            stock_data[stock_symbol] = stock_df\n",
    "        except Exception as e:\n",
    "            print(f\"Error retrieving data for symbol: {stock_symbol}. Error message: {e}\")\n",
    "    return stock_data\n",
    "\n"
   ]
  },
  {
   "cell_type": "code",
   "execution_count": null,
   "metadata": {},
   "outputs": [],
   "source": [
    "def calculate_portfolio_stats(stock_data, confidence_level, num_ports=20000):\n",
    "    stock_symbols = list(stock_data.keys())\n",
    "\n",
    "    close_data = {symbol: stock_data[symbol]['Adj Close'] for symbol in stock_symbols}\n",
    "    stocks = pd.DataFrame(close_data)\n",
    "    log_ret = np.log(stocks / stocks.shift(1))\n",
    "\n",
    "    np.random.seed(101)\n",
    "    all_weights = np.zeros((num_ports, len(stock_symbols)))\n",
    "    ret_arr = np.zeros(num_ports)\n",
    "    vol_arr = np.zeros(num_ports)\n",
    "    sharpe_arr = np.zeros(num_ports)\n",
    "    cvar_arr = np.zeros(num_ports)\n",
    "\n",
    "    for ind in range(num_ports):\n",
    "        weights = np.random.random(len(stock_symbols))\n",
    "        weights /= np.sum(weights)\n",
    "        \n",
    "        all_weights[ind, :] = weights\n",
    "        ret_arr[ind] = np.sum((log_ret.mean() * weights) * 252)\n",
    "        vol_arr[ind] = np.sqrt(np.dot(weights.T, np.dot(log_ret.cov() * 252, weights)))\n",
    "        sharpe_arr[ind] = ret_arr[ind] / vol_arr[ind]\n",
    "        \n",
    "        portfolio_returns = log_ret.dot(weights).dropna()\n",
    "        VaR = np.percentile(portfolio_returns, (1-confidence_level) * 100)\n",
    "        cvar_arr[ind] = portfolio_returns[portfolio_returns <= VaR].mean()\n",
    "\n",
    "    max_sr_idx = sharpe_arr.argmax()\n",
    "    optimal_weights = all_weights[max_sr_idx, :]\n",
    "\n",
    "    return {\n",
    "        \"optimal_weights\": optimal_weights,\n",
    "        \"expected_return\": ret_arr[max_sr_idx],\n",
    "        \"expected_volatility\": vol_arr[max_sr_idx],\n",
    "        \"sharpe_ratio\": sharpe_arr[max_sr_idx],\n",
    "        \"cvar\": cvar_arr[max_sr_idx]\n",
    "    }\n",
    "\n"
   ]
  },
  {
   "cell_type": "code",
   "execution_count": null,
   "metadata": {},
   "outputs": [],
   "source": [
    "def main():\n",
    "    stock_symbols = ['AAPL', 'MSFT', 'AMZN']\n",
    "    start = datetime(2018, 1, 1)\n",
    "    end = datetime(2023, 1, 1)\n",
    "    Portfolio_total_value = 1000000  # Total portfolio value in dollars\n",
    "    confidence_level = 0.95\n",
    "\n",
    "    stock_data = fetch_stock_data(stock_symbols, start, end)\n",
    "    results = calculate_portfolio_stats(stock_data, confidence_level)\n",
    "\n",
    "    print(f\"Optimal Weights: {results['optimal_weights']}\")\n",
    "    print(f\"Expected Return: {results['expected_return'] * 100:.2f}%\")\n",
    "    print(f\"Expected Volatility: {results['expected_volatility'] * 100:.2f}%\")\n",
    "    print(f\"Sharpe Ratio: {results['sharpe_ratio']:.2f}\")\n",
    "    print(f\"CVaR (95%): {results['cvar'] * 100:.2f}%\")\n",
    "    print(f\"Values to be invested in each stock for portfolio of value {Portfolio_total_value} $\")\n",
    "    for i, symbol in enumerate(stock_symbols):\n",
    "        print(f'{symbol} : ${results[\"optimal_weights\"][i] * Portfolio_total_value:.2f}')\n",
    "\n",
    "if __name__ == \"__main__\":\n",
    "    main()\n"
   ]
  },
  {
   "cell_type": "code",
   "execution_count": null,
   "metadata": {},
   "outputs": [],
   "source": [
    "import pandas as pd\n",
    "import numpy as np\n",
    "import yfinance as yf\n",
    "import matplotlib.pyplot as plt\n",
    "from datetime import datetime\n",
    "\n",
    "def fetch_stock_data(stock_symbols, start, end):\n",
    "    stock_data = {}\n",
    "    for stock_symbol in stock_symbols:\n",
    "        try:\n",
    "            stock_df = yf.download(stock_symbol, start=start, end=end)\n",
    "            stock_df['Normed Return'] = stock_df['Adj Close'] / stock_df.iloc[0]['Adj Close']\n",
    "            stock_data[stock_symbol] = stock_df\n",
    "        except Exception as e:\n",
    "            print(f\"Error retrieving data for symbol: {stock_symbol}. Error message: {e}\")\n",
    "    return stock_data\n",
    "\n",
    "def calculate_portfolio_stats(stock_data, confidence_level, num_ports=20000):\n",
    "    stock_symbols = list(stock_data.keys())\n",
    "    close_data = {symbol: stock_data[symbol]['Adj Close'] for symbol in stock_symbols}\n",
    "    stocks = pd.DataFrame(close_data)\n",
    "    log_ret = np.log(stocks / stocks.shift(1))\n",
    "\n",
    "    np.random.seed(101)\n",
    "    all_weights = np.zeros((num_ports, len(stock_symbols)))\n",
    "    ret_arr = np.zeros(num_ports)\n",
    "    vol_arr = np.zeros(num_ports)\n",
    "    sharpe_arr = np.zeros(num_ports)\n",
    "    cvar_arr = np.zeros(num_ports)\n",
    "\n",
    "    for ind in range(num_ports):\n",
    "        weights = np.random.random(len(stock_symbols))\n",
    "        weights /= np.sum(weights)\n",
    "        \n",
    "        all_weights[ind, :] = weights\n",
    "        ret_arr[ind] = np.sum((log_ret.mean() * weights) * 252)\n",
    "        vol_arr[ind] = np.sqrt(np.dot(weights.T, np.dot(log_ret.cov() * 252, weights)))\n",
    "        sharpe_arr[ind] = ret_arr[ind] / vol_arr[ind]\n",
    "        \n",
    "        portfolio_returns = log_ret.dot(weights).dropna()\n",
    "        VaR = np.percentile(portfolio_returns, (1-confidence_level) * 100)\n",
    "        cvar_arr[ind] = portfolio_returns[portfolio_returns <= VaR].mean()\n",
    "\n",
    "    max_sr_idx = sharpe_arr.argmax()\n",
    "    optimal_weights = all_weights[max_sr_idx, :]\n",
    "\n",
    "    return {\n",
    "        \"optimal_weights\": optimal_weights,\n",
    "        \"expected_return\": ret_arr[max_sr_idx],\n",
    "        \"expected_volatility\": vol_arr[max_sr_idx],\n",
    "        \"sharpe_ratio\": sharpe_arr[max_sr_idx],\n",
    "        \"cvar\": cvar_arr[max_sr_idx],\n",
    "        \"all_weights\": all_weights,\n",
    "        \"ret_arr\": ret_arr,\n",
    "        \"vol_arr\": vol_arr,\n",
    "        \"sharpe_arr\": sharpe_arr\n",
    "    }\n",
    "\n",
    "def main():\n",
    "    stock_symbols = ['AAPL', 'MSFT', 'AMZN']\n",
    "    start = datetime(2018, 1, 1)\n",
    "    end = datetime(2023, 1, 1)\n",
    "    Portfolio_total_value = 1000000  # Total portfolio value in dollars\n",
    "    confidence_level = 0.95\n",
    "\n",
    "    stock_data = fetch_stock_data(stock_symbols, start, end)\n",
    "    results = calculate_portfolio_stats(stock_data, confidence_level)\n",
    "\n",
    "    print(f\"Optimal Weights: {results['optimal_weights']}\")\n",
    "    print(f\"Expected Return: {results['expected_return'] * 100:.2f}%\")\n",
    "    print(f\"Expected Volatility: {results['expected_volatility'] * 100:.2f}%\")\n",
    "    print(f\"Sharpe Ratio: {results['sharpe_ratio']:.2f}\")\n",
    "    print(f\"CVaR (95%): {results['cvar'] * 100:.2f}%\")\n",
    "    print(f\"Values to be invested in each stock for portfolio of value {Portfolio_total_value} $\")\n",
    "    for i, symbol in enumerate(stock_symbols):\n",
    "        print(f'{symbol} : ${results[\"optimal_weights\"][i] * Portfolio_total_value:.2f}')\n",
    "\n",
    "    # Visualization\n",
    "    plt.figure(figsize=(17, 9))\n",
    "    plt.scatter(results['vol_arr'], results['ret_arr'], c=results['sharpe_arr'], cmap='plasma')\n",
    "    plt.colorbar(label='Sharpe Ratio')\n",
    "    plt.xlabel('Volatility')\n",
    "    plt.ylabel('Return')\n",
    "    plt.scatter(results['vol_arr'][results['sharpe_arr'].argmax()], results['ret_arr'][results['sharpe_arr'].argmax()], c='red', s=50, edgecolors='black')\n",
    "    plt.title('Portfolio Optimization')\n",
    "    plt.show()\n",
    "\n",
    "    # Combine the position values into a single DataFrame and calculate the total position\n",
    "    portfolio_val = pd.concat([stock_data[symbol]['Normed Return'] * results['optimal_weights'][i] * Portfolio_total_value for i, symbol in enumerate(stock_symbols)], axis=1)\n",
    "    portfolio_val.columns = [f\"{symbol} Pos\" for symbol in stock_symbols]\n",
    "    portfolio_val['Total Pos'] = portfolio_val.sum(axis=1)\n",
    "\n",
    "    # Plot the total portfolio value\n",
    "    portfolio_val['Total Pos'].plot(figsize=(10, 8))\n",
    "    plt.title('Total Portfolio Value')\n",
    "    plt.xlabel('Date')\n",
    "    plt.ylabel('Portfolio Value')\n",
    "    plt.show()\n",
    "\n",
    "    # Plot the individual stock position values\n",
    "    portfolio_val.drop('Total Pos', axis=1).plot(kind='line', figsize=(10, 8))\n",
    "    plt.title('Individual Stock Position Values')\n",
    "    plt.xlabel('Date')\n",
    "    plt.ylabel('Position Value')\n",
    "    plt.show()\n",
    "\n",
    "    portfolio_val['Daily Return'] = portfolio_val['Total Pos'].pct_change(1)\n",
    "    cum_ret = 100 * (portfolio_val['Total Pos'][-1] / portfolio_val['Total Pos'][0] - 1)\n",
    "    print('Our cumulative return is {} percent!'.format(cum_ret))\n",
    "\n",
    "if __name__ == \"__main__\":\n",
    "    main()\n"
   ]
  },
  {
   "cell_type": "code",
   "execution_count": null,
   "metadata": {},
   "outputs": [],
   "source": []
  }
 ],
 "metadata": {
  "kernelspec": {
   "display_name": "Python 3",
   "language": "python",
   "name": "python3"
  },
  "language_info": {
   "codemirror_mode": {
    "name": "ipython",
    "version": 3
   },
   "file_extension": ".py",
   "mimetype": "text/x-python",
   "name": "python",
   "nbconvert_exporter": "python",
   "pygments_lexer": "ipython3",
   "version": "3.10.12"
  }
 },
 "nbformat": 4,
 "nbformat_minor": 2
}
