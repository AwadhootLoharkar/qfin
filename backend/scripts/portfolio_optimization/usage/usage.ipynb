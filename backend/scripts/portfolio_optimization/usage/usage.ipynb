{
 "cells": [
  {
   "cell_type": "markdown",
   "metadata": {},
   "source": [
    "### Imports"
   ]
  },
  {
   "cell_type": "code",
   "execution_count": 1,
   "metadata": {},
   "outputs": [],
   "source": [
    "# Setting import path\n",
    "import sys, os\n",
    "sys.path.append(os.path.join(os.getcwd(), '..', 'quantum_optimization'))"
   ]
  },
  {
   "cell_type": "code",
   "execution_count": 2,
   "metadata": {},
   "outputs": [],
   "source": [
    "import pprint\n",
    "from save_result import save_result\n",
    "from import_stocks import read_stock_symbols\n",
    "from script_runner import CVARScriptRunner, MVOScriptRunner"
   ]
  },
  {
   "cell_type": "markdown",
   "metadata": {},
   "source": [
    "## Settings"
   ]
  },
  {
   "cell_type": "code",
   "execution_count": 3,
   "metadata": {},
   "outputs": [],
   "source": [
    "# Create a PrettyPrinter instance\n",
    "pp = pprint.PrettyPrinter(indent=4)"
   ]
  },
  {
   "cell_type": "code",
   "execution_count": 4,
   "metadata": {},
   "outputs": [],
   "source": [
    "mcs_num_iters = 5000 # Number of iterations for Monte Carlo simulation.\n",
    "print_info = False\n",
    "display_plots = False\n",
    "output_csv_file_name = 'results_01.csv'"
   ]
  },
  {
   "cell_type": "markdown",
   "metadata": {},
   "source": [
    "#### Data"
   ]
  },
  {
   "cell_type": "code",
   "execution_count": 5,
   "metadata": {},
   "outputs": [],
   "source": [
    "# Define the base path relative to the current working directory\n",
    "base_path = os.path.abspath(os.path.join(os.getcwd(), '..', '..', 'assets'))\n",
    "stocks_symbol_list_path = os.path.join(base_path, 'nasdaq_100_stocks.csv')"
   ]
  },
  {
   "cell_type": "code",
   "execution_count": 6,
   "metadata": {},
   "outputs": [],
   "source": [
    "no_of_stocks = 6\n",
    "stocks = read_stock_symbols(stocks_symbol_list_path, num_symbols=no_of_stocks)"
   ]
  },
  {
   "cell_type": "code",
   "execution_count": 7,
   "metadata": {},
   "outputs": [],
   "source": [
    "start_date=(2018, 1, 1) # Start date for fetching the stock data.\n",
    "end_date=(2020, 1, 1) # End date for fetching the stock data.\n",
    "portfolio_total_value = 1000000  # Total portfolio value in dollars\n",
    "budget = 3 # The budget, i.e. the number of assets to be selected.\n",
    "risk_factor = 0.5  # The risk factor, i.e. the maximum risk that can be taken by the investor.\n",
    "confidence_level = 0.95 # Confidence level for the CVaR calculation."
   ]
  },
  {
   "cell_type": "markdown",
   "metadata": {},
   "source": [
    "#### Run on `numpy_minimum_eigensolver` solver"
   ]
  },
  {
   "cell_type": "code",
   "execution_count": 8,
   "metadata": {},
   "outputs": [],
   "source": [
    "solver = 'numpy_minimum_eigensolver'"
   ]
  },
  {
   "cell_type": "code",
   "execution_count": 9,
   "metadata": {},
   "outputs": [
    {
     "name": "stderr",
     "output_type": "stream",
     "text": [
      "[*********************100%%**********************]  1 of 1 completed\n",
      "[*********************100%%**********************]  1 of 1 completed\n",
      "[*********************100%%**********************]  1 of 1 completed\n",
      "/home/ag/qfin/backend/scripts/portfolio_optimization/usage/../quantum_optimization/script_runner.py:128: FutureWarning: Series.__getitem__ treating keys as positions is deprecated. In a future version, integer keys will always be treated as labels (consistent with DataFrame behavior). To access a value by position, use `ser.iloc[pos]`\n",
      "  cum_ret = 100 * (portfolio_val['Total Pos'][-1] / portfolio_val['Total Pos'][0] - 1)\n"
     ]
    }
   ],
   "source": [
    "cvar_numpy_minimum_eigensolver_results = CVARScriptRunner(\n",
    "    stocks=stocks,\n",
    "    solver=solver,\n",
    "    start_date=start_date,\n",
    "    end_date=end_date,\n",
    "    portfolio_total_value=portfolio_total_value,\n",
    "    budget=budget,\n",
    "    risk_factor=risk_factor,\n",
    "    confidence_level=confidence_level,\n",
    "    print_info=print_info,\n",
    "    display_plots=display_plots\n",
    ")"
   ]
  },
  {
   "cell_type": "code",
   "execution_count": 10,
   "metadata": {},
   "outputs": [
    {
     "name": "stdout",
     "output_type": "stream",
     "text": [
      "{   'CVaR': -0.03559148487540889,\n",
      "    'Confidence Level': 0.95,\n",
      "    'Cumulative Return': 87.30123842848221,\n",
      "    'Duration': 730,\n",
      "    'End Date': (2020, 1, 1),\n",
      "    'Expected Return': 0.3148061701772137,\n",
      "    'Expected Volatility': 0.2372341042477932,\n",
      "    'How many Stocks to select?': 3,\n",
      "    'Optimal Stocks': ['AAPL', 'MSFT', 'AMZN'],\n",
      "    'Optimal Weights': array([0.13828433, 0.85562342, 0.00609225]),\n",
      "    'Portfolio Value': 1000000,\n",
      "    'Recomended Investment': {   'AAPL': 138284.32814438338,\n",
      "                                 'AMZN': 6092.246941506552,\n",
      "                                 'MSFT': 855623.42491411},\n",
      "    'Risk Factor': 0.5,\n",
      "    'Selected Stocks By User': [   'AAPL',\n",
      "                                   'MSFT',\n",
      "                                   'GOOG',\n",
      "                                   'GOOGL',\n",
      "                                   'AMZN',\n",
      "                                   'NVDA'],\n",
      "    'Sharpe Ratio': 1.3269853049812592,\n",
      "    'Solver': 'numpy_minimum_eigensolver',\n",
      "    'Start Date': (2018, 1, 1)}\n"
     ]
    }
   ],
   "source": [
    "pp.pprint(cvar_numpy_minimum_eigensolver_results)"
   ]
  },
  {
   "cell_type": "code",
   "execution_count": 11,
   "metadata": {},
   "outputs": [
    {
     "name": "stderr",
     "output_type": "stream",
     "text": [
      "[*********************100%%**********************]  1 of 1 completed\n",
      "[*********************100%%**********************]  1 of 1 completed\n",
      "[*********************100%%**********************]  1 of 1 completed\n",
      "/home/ag/qfin/backend/scripts/portfolio_optimization/usage/../quantum_optimization/script_runner.py:273: FutureWarning: Series.__getitem__ treating keys as positions is deprecated. In a future version, integer keys will always be treated as labels (consistent with DataFrame behavior). To access a value by position, use `ser.iloc[pos]`\n",
      "  cum_ret = 100 * (portfolio_val['Total Pos'][-1] / portfolio_val['Total Pos'][0] - 1)\n"
     ]
    }
   ],
   "source": [
    "mvo_numpy_minimum_eigensolver_results = MVOScriptRunner(\n",
    "    stocks=stocks,\n",
    "    solver=solver,\n",
    "    start_date=start_date,\n",
    "    end_date=end_date,\n",
    "    portfolio_total_value=portfolio_total_value,\n",
    "    budget=budget,\n",
    "    risk_factor=risk_factor,\n",
    "    confidence_level=confidence_level,\n",
    "    num_iters=mcs_num_iters,\n",
    "    print_info=print_info,\n",
    "    display_plots=display_plots\n",
    ")"
   ]
  },
  {
   "cell_type": "code",
   "execution_count": 12,
   "metadata": {},
   "outputs": [
    {
     "name": "stdout",
     "output_type": "stream",
     "text": [
      "{   'Adjusted Sharpe Ratio': 1.318162607927774,\n",
      "    'CVaR': array([-0.03944787, -0.03686008, -0.04460696, ..., -0.03731646,\n",
      "       -0.03757231, -0.03737314]),\n",
      "    'Confidence Level': 0.95,\n",
      "    'Cumulative Return': 76.66773969230015,\n",
      "    'Duration': 730,\n",
      "    'End Date': (2020, 1, 1),\n",
      "    'Expected Return': 0.0012469398957307796,\n",
      "    'Expected Volatility': 0.015016779466084906,\n",
      "    'How many Stocks to select?': 3,\n",
      "    'Logarithmic Returns':                 AAPL      MSFT      AMZN\n",
      "Date                                    \n",
      "2018-01-02       NaN       NaN       NaN\n",
      "2018-01-03 -0.000174  0.004643  0.012694\n",
      "2018-01-04  0.004634  0.008763  0.004466\n",
      "2018-01-05  0.011321  0.012322  0.016033\n",
      "2018-01-08 -0.003721  0.001020  0.014322\n",
      "...              ...       ...       ...\n",
      "2019-12-24  0.000950 -0.000191 -0.002116\n",
      "2019-12-26  0.019646  0.008163  0.043506\n",
      "2019-12-27 -0.000380  0.001826  0.000551\n",
      "2019-12-30  0.005918 -0.008656 -0.012328\n",
      "2019-12-31  0.007280  0.000698  0.000514\n",
      "\n",
      "[503 rows x 3 columns],\n",
      "    'Mean Logarithmic Returns': AAPL    0.282721\n",
      "MSFT    0.320657\n",
      "AMZN    0.221326\n",
      "dtype: float64,\n",
      "    'Optimal Stocks': ['AAPL', 'MSFT', 'AMZN'],\n",
      "    'Optimal Weights': array([0.71308967, 0.03270916, 0.25420117]),\n",
      "    'Pairwise Covariance':           AAPL      MSFT      AMZN\n",
      "AAPL  0.076300  0.044668  0.051801\n",
      "MSFT  0.044668  0.059527  0.055720\n",
      "AMZN  0.051801  0.055720  0.091403,\n",
      "    'Portfolio Value': 1000000,\n",
      "    'Recomended Investment': {   'AAPL': 713089.6690528769,\n",
      "                                 'AMZN': 254201.16801880955,\n",
      "                                 'MSFT': 32709.16292831362},\n",
      "    'Risk Factor': 0.5,\n",
      "    'Selected Stocks By User': [   'AAPL',\n",
      "                                   'MSFT',\n",
      "                                   'GOOG',\n",
      "                                   'GOOGL',\n",
      "                                   'AMZN',\n",
      "                                   'NVDA'],\n",
      "    'Sharpe Ratio': 0.08303643924098161,\n",
      "    'Solver': 'numpy_minimum_eigensolver',\n",
      "    'Start Date': (2018, 1, 1)}\n"
     ]
    }
   ],
   "source": [
    "pp.pprint(mvo_numpy_minimum_eigensolver_results)"
   ]
  },
  {
   "cell_type": "markdown",
   "metadata": {},
   "source": [
    "#### Run on `qaoa` solver"
   ]
  },
  {
   "cell_type": "code",
   "execution_count": 13,
   "metadata": {},
   "outputs": [],
   "source": [
    "solver = 'qaoa'"
   ]
  },
  {
   "cell_type": "code",
   "execution_count": 14,
   "metadata": {},
   "outputs": [
    {
     "name": "stderr",
     "output_type": "stream",
     "text": [
      "[*********************100%%**********************]  1 of 1 completed\n",
      "[*********************100%%**********************]  1 of 1 completed\n",
      "[*********************100%%**********************]  1 of 1 completed\n",
      "/home/ag/qfin/backend/scripts/portfolio_optimization/usage/../quantum_optimization/script_runner.py:128: FutureWarning: Series.__getitem__ treating keys as positions is deprecated. In a future version, integer keys will always be treated as labels (consistent with DataFrame behavior). To access a value by position, use `ser.iloc[pos]`\n",
      "  cum_ret = 100 * (portfolio_val['Total Pos'][-1] / portfolio_val['Total Pos'][0] - 1)\n"
     ]
    }
   ],
   "source": [
    "cvar_qaoa_results = CVARScriptRunner(\n",
    "    stocks=stocks,\n",
    "    solver=solver,\n",
    "    start_date=start_date,\n",
    "    end_date=end_date,\n",
    "    portfolio_total_value=portfolio_total_value,\n",
    "    budget=budget,\n",
    "    risk_factor=risk_factor,\n",
    "    confidence_level=confidence_level,\n",
    "    print_info=print_info,\n",
    "    display_plots=display_plots\n",
    ")"
   ]
  },
  {
   "cell_type": "code",
   "execution_count": 15,
   "metadata": {},
   "outputs": [
    {
     "name": "stdout",
     "output_type": "stream",
     "text": [
      "{   'CVaR': -0.03559148487540889,\n",
      "    'Confidence Level': 0.95,\n",
      "    'Cumulative Return': 87.30123842848221,\n",
      "    'Duration': 730,\n",
      "    'End Date': (2020, 1, 1),\n",
      "    'Expected Return': 0.3148061701772137,\n",
      "    'Expected Volatility': 0.2372341042477932,\n",
      "    'How many Stocks to select?': 3,\n",
      "    'Optimal Stocks': ['AAPL', 'MSFT', 'AMZN'],\n",
      "    'Optimal Weights': array([0.13828433, 0.85562342, 0.00609225]),\n",
      "    'Portfolio Value': 1000000,\n",
      "    'Recomended Investment': {   'AAPL': 138284.32814438338,\n",
      "                                 'AMZN': 6092.246941506552,\n",
      "                                 'MSFT': 855623.42491411},\n",
      "    'Risk Factor': 0.5,\n",
      "    'Selected Stocks By User': [   'AAPL',\n",
      "                                   'MSFT',\n",
      "                                   'GOOG',\n",
      "                                   'GOOGL',\n",
      "                                   'AMZN',\n",
      "                                   'NVDA'],\n",
      "    'Sharpe Ratio': 1.3269853049812592,\n",
      "    'Solver': 'qaoa',\n",
      "    'Start Date': (2018, 1, 1)}\n"
     ]
    }
   ],
   "source": [
    "pp.pprint(cvar_qaoa_results)"
   ]
  },
  {
   "cell_type": "code",
   "execution_count": 16,
   "metadata": {},
   "outputs": [
    {
     "name": "stderr",
     "output_type": "stream",
     "text": [
      "[*********************100%%**********************]  1 of 1 completed\n",
      "[*********************100%%**********************]  1 of 1 completed\n",
      "[*********************100%%**********************]  1 of 1 completed\n",
      "/home/ag/qfin/backend/scripts/portfolio_optimization/usage/../quantum_optimization/script_runner.py:273: FutureWarning: Series.__getitem__ treating keys as positions is deprecated. In a future version, integer keys will always be treated as labels (consistent with DataFrame behavior). To access a value by position, use `ser.iloc[pos]`\n",
      "  cum_ret = 100 * (portfolio_val['Total Pos'][-1] / portfolio_val['Total Pos'][0] - 1)\n"
     ]
    }
   ],
   "source": [
    "mvo_qaoa_results = MVOScriptRunner(\n",
    "    stocks=stocks,\n",
    "    solver=solver,\n",
    "    start_date=start_date,\n",
    "    end_date=end_date,\n",
    "    portfolio_total_value=portfolio_total_value,\n",
    "    budget=budget,\n",
    "    risk_factor=risk_factor,\n",
    "    confidence_level=confidence_level,\n",
    "    num_iters=mcs_num_iters,\n",
    "    print_info=print_info,\n",
    "    display_plots=display_plots\n",
    ")"
   ]
  },
  {
   "cell_type": "code",
   "execution_count": 17,
   "metadata": {},
   "outputs": [
    {
     "name": "stdout",
     "output_type": "stream",
     "text": [
      "{   'Adjusted Sharpe Ratio': 1.318162607927774,\n",
      "    'CVaR': array([-0.03944787, -0.03686008, -0.04460696, ..., -0.03731646,\n",
      "       -0.03757231, -0.03737314]),\n",
      "    'Confidence Level': 0.95,\n",
      "    'Cumulative Return': 76.66773969230015,\n",
      "    'Duration': 730,\n",
      "    'End Date': (2020, 1, 1),\n",
      "    'Expected Return': 0.0012469398957307796,\n",
      "    'Expected Volatility': 0.015016779466084906,\n",
      "    'How many Stocks to select?': 3,\n",
      "    'Logarithmic Returns':                 AAPL      MSFT      AMZN\n",
      "Date                                    \n",
      "2018-01-02       NaN       NaN       NaN\n",
      "2018-01-03 -0.000174  0.004643  0.012694\n",
      "2018-01-04  0.004634  0.008763  0.004466\n",
      "2018-01-05  0.011321  0.012322  0.016033\n",
      "2018-01-08 -0.003721  0.001020  0.014322\n",
      "...              ...       ...       ...\n",
      "2019-12-24  0.000950 -0.000191 -0.002116\n",
      "2019-12-26  0.019646  0.008163  0.043506\n",
      "2019-12-27 -0.000380  0.001826  0.000551\n",
      "2019-12-30  0.005918 -0.008656 -0.012328\n",
      "2019-12-31  0.007280  0.000698  0.000514\n",
      "\n",
      "[503 rows x 3 columns],\n",
      "    'Mean Logarithmic Returns': AAPL    0.282721\n",
      "MSFT    0.320657\n",
      "AMZN    0.221326\n",
      "dtype: float64,\n",
      "    'Optimal Stocks': ['AAPL', 'MSFT', 'AMZN'],\n",
      "    'Optimal Weights': array([0.71308967, 0.03270916, 0.25420117]),\n",
      "    'Pairwise Covariance':           AAPL      MSFT      AMZN\n",
      "AAPL  0.076300  0.044668  0.051801\n",
      "MSFT  0.044668  0.059527  0.055720\n",
      "AMZN  0.051801  0.055720  0.091403,\n",
      "    'Portfolio Value': 1000000,\n",
      "    'Recomended Investment': {   'AAPL': 713089.6690528769,\n",
      "                                 'AMZN': 254201.16801880955,\n",
      "                                 'MSFT': 32709.16292831362},\n",
      "    'Risk Factor': 0.5,\n",
      "    'Selected Stocks By User': [   'AAPL',\n",
      "                                   'MSFT',\n",
      "                                   'GOOG',\n",
      "                                   'GOOGL',\n",
      "                                   'AMZN',\n",
      "                                   'NVDA'],\n",
      "    'Sharpe Ratio': 0.08303643924098161,\n",
      "    'Solver': 'qaoa',\n",
      "    'Start Date': (2018, 1, 1)}\n"
     ]
    }
   ],
   "source": [
    "pp.pprint(mvo_qaoa_results)"
   ]
  },
  {
   "cell_type": "markdown",
   "metadata": {},
   "source": [
    "#### Run on `sampling_vqe` solver"
   ]
  },
  {
   "cell_type": "code",
   "execution_count": 18,
   "metadata": {},
   "outputs": [],
   "source": [
    "solver = 'sampling_vqe'"
   ]
  },
  {
   "cell_type": "code",
   "execution_count": 19,
   "metadata": {},
   "outputs": [
    {
     "name": "stderr",
     "output_type": "stream",
     "text": [
      "[*********************100%%**********************]  1 of 1 completed\n",
      "[*********************100%%**********************]  1 of 1 completed\n",
      "[*********************100%%**********************]  1 of 1 completed\n",
      "/home/ag/qfin/backend/scripts/portfolio_optimization/usage/../quantum_optimization/script_runner.py:128: FutureWarning: Series.__getitem__ treating keys as positions is deprecated. In a future version, integer keys will always be treated as labels (consistent with DataFrame behavior). To access a value by position, use `ser.iloc[pos]`\n",
      "  cum_ret = 100 * (portfolio_val['Total Pos'][-1] / portfolio_val['Total Pos'][0] - 1)\n"
     ]
    }
   ],
   "source": [
    "cvar_sampling_vqe_results = CVARScriptRunner(\n",
    "    stocks=stocks,\n",
    "    solver=solver,\n",
    "    start_date=start_date,\n",
    "    end_date=end_date,\n",
    "    portfolio_total_value=portfolio_total_value,\n",
    "    budget=budget,\n",
    "    risk_factor=risk_factor,\n",
    "    confidence_level=confidence_level,\n",
    "    print_info=print_info,\n",
    "    display_plots=display_plots\n",
    ")"
   ]
  },
  {
   "cell_type": "code",
   "execution_count": 20,
   "metadata": {},
   "outputs": [
    {
     "name": "stdout",
     "output_type": "stream",
     "text": [
      "{   'CVaR': -0.03559148487540889,\n",
      "    'Confidence Level': 0.95,\n",
      "    'Cumulative Return': 87.30123842848221,\n",
      "    'Duration': 730,\n",
      "    'End Date': (2020, 1, 1),\n",
      "    'Expected Return': 0.3148061701772137,\n",
      "    'Expected Volatility': 0.2372341042477932,\n",
      "    'How many Stocks to select?': 3,\n",
      "    'Optimal Stocks': ['AAPL', 'MSFT', 'AMZN'],\n",
      "    'Optimal Weights': array([0.13828433, 0.85562342, 0.00609225]),\n",
      "    'Portfolio Value': 1000000,\n",
      "    'Recomended Investment': {   'AAPL': 138284.32814438338,\n",
      "                                 'AMZN': 6092.246941506552,\n",
      "                                 'MSFT': 855623.42491411},\n",
      "    'Risk Factor': 0.5,\n",
      "    'Selected Stocks By User': [   'AAPL',\n",
      "                                   'MSFT',\n",
      "                                   'GOOG',\n",
      "                                   'GOOGL',\n",
      "                                   'AMZN',\n",
      "                                   'NVDA'],\n",
      "    'Sharpe Ratio': 1.3269853049812592,\n",
      "    'Solver': 'sampling_vqe',\n",
      "    'Start Date': (2018, 1, 1)}\n"
     ]
    }
   ],
   "source": [
    "pp.pprint(cvar_sampling_vqe_results)"
   ]
  },
  {
   "cell_type": "code",
   "execution_count": 21,
   "metadata": {},
   "outputs": [
    {
     "name": "stderr",
     "output_type": "stream",
     "text": [
      "[*********************100%%**********************]  1 of 1 completed\n",
      "[*********************100%%**********************]  1 of 1 completed\n",
      "[*********************100%%**********************]  1 of 1 completed\n",
      "/home/ag/qfin/backend/scripts/portfolio_optimization/usage/../quantum_optimization/script_runner.py:273: FutureWarning: Series.__getitem__ treating keys as positions is deprecated. In a future version, integer keys will always be treated as labels (consistent with DataFrame behavior). To access a value by position, use `ser.iloc[pos]`\n",
      "  cum_ret = 100 * (portfolio_val['Total Pos'][-1] / portfolio_val['Total Pos'][0] - 1)\n"
     ]
    }
   ],
   "source": [
    "mvo_sampling_vqe_results = MVOScriptRunner(\n",
    "    stocks=stocks,\n",
    "    solver=solver,\n",
    "    start_date=start_date,\n",
    "    end_date=end_date,\n",
    "    portfolio_total_value=portfolio_total_value,\n",
    "    budget=budget,\n",
    "    risk_factor=risk_factor,\n",
    "    confidence_level=confidence_level,\n",
    "    num_iters=mcs_num_iters,\n",
    "    print_info=print_info,\n",
    "    display_plots=display_plots\n",
    ")"
   ]
  },
  {
   "cell_type": "code",
   "execution_count": 22,
   "metadata": {},
   "outputs": [
    {
     "name": "stdout",
     "output_type": "stream",
     "text": [
      "{   'Adjusted Sharpe Ratio': 1.2762900835040085,\n",
      "    'CVaR': array([-0.03849062, -0.03620183, -0.03928899, ..., -0.03564682,\n",
      "       -0.03590114, -0.03564474]),\n",
      "    'Confidence Level': 0.95,\n",
      "    'Cumulative Return': 70.33856644710592,\n",
      "    'Duration': 730,\n",
      "    'End Date': (2020, 1, 1),\n",
      "    'Expected Return': 0.0011668372668553074,\n",
      "    'Expected Volatility': 0.014513132720293946,\n",
      "    'How many Stocks to select?': 3,\n",
      "    'Logarithmic Returns':                 AAPL      MSFT      GOOG\n",
      "Date                                    \n",
      "2018-01-02       NaN       NaN       NaN\n",
      "2018-01-03 -0.000174  0.004643  0.016280\n",
      "2018-01-04  0.004634  0.008763  0.003615\n",
      "2018-01-05  0.011321  0.012322  0.014466\n",
      "2018-01-08 -0.003721  0.001020  0.004264\n",
      "...              ...       ...       ...\n",
      "2019-12-24  0.000950 -0.000191 -0.003922\n",
      "2019-12-26  0.019646  0.008163  0.012456\n",
      "2019-12-27 -0.000380  0.001826 -0.006275\n",
      "2019-12-30  0.005918 -0.008656 -0.011719\n",
      "2019-12-31  0.007280  0.000698  0.000658\n",
      "\n",
      "[503 rows x 3 columns],\n",
      "    'Mean Logarithmic Returns': AAPL    0.282721\n",
      "MSFT    0.320657\n",
      "GOOG    0.114187\n",
      "dtype: float64,\n",
      "    'Optimal Stocks': ['AAPL', 'MSFT', 'GOOG'],\n",
      "    'Optimal Weights': array([0.71308967, 0.03270916, 0.25420117]),\n",
      "    'Pairwise Covariance':           AAPL      MSFT      GOOG\n",
      "AAPL  0.076300  0.044668  0.045450\n",
      "MSFT  0.044668  0.059527  0.047879\n",
      "GOOG  0.045450  0.047879  0.068679,\n",
      "    'Portfolio Value': 1000000,\n",
      "    'Recomended Investment': {   'AAPL': 713089.6690528769,\n",
      "                                 'GOOG': 254201.16801880955,\n",
      "                                 'MSFT': 32709.16292831362},\n",
      "    'Risk Factor': 0.5,\n",
      "    'Selected Stocks By User': [   'AAPL',\n",
      "                                   'MSFT',\n",
      "                                   'GOOG',\n",
      "                                   'GOOGL',\n",
      "                                   'AMZN',\n",
      "                                   'NVDA'],\n",
      "    'Sharpe Ratio': 0.08039871813641586,\n",
      "    'Solver': 'sampling_vqe',\n",
      "    'Start Date': (2018, 1, 1)}\n"
     ]
    }
   ],
   "source": [
    "pp.pprint(mvo_sampling_vqe_results)"
   ]
  },
  {
   "cell_type": "markdown",
   "metadata": {},
   "source": [
    "#### Saving results"
   ]
  },
  {
   "cell_type": "code",
   "execution_count": 23,
   "metadata": {},
   "outputs": [],
   "source": [
    "results = {\n",
    "            'Selected Stocks By User': stocks,\n",
    "            'How many Stocks to select?': budget,\n",
    "            'Start Date': start_date,\n",
    "            'End Date': end_date,\n",
    "            'Duration': cvar_qaoa_results['Duration'],\n",
    "            'Portfolio Value': portfolio_total_value,\n",
    "            'Risk Factor': risk_factor,\n",
    "            'Confidence Level': confidence_level,\n",
    "                \n",
    "            'Optimal Stocks Selected by Numpy': cvar_numpy_minimum_eigensolver_results['Optimal Stocks'],\n",
    "            'Optimal weigths by MVO for Numpy': mvo_numpy_minimum_eigensolver_results['Optimal Weights'].tolist(),\n",
    "            'Amount to Invest in each Stock by MVO for Numpy': mvo_numpy_minimum_eigensolver_results['Recomended Investment'],\n",
    "            'Optimal weigths by CVAR for Numpy': cvar_numpy_minimum_eigensolver_results['Optimal Weights'].tolist(),\n",
    "            'Amount to Invest in each Stock by CVAR for Numpy': cvar_numpy_minimum_eigensolver_results['Recomended Investment'],\n",
    "                \n",
    "            'Optimal Stocks Selected by QAOA': cvar_qaoa_results['Optimal Stocks'],\n",
    "            'Optimal weigths by MVO for QAOA': mvo_qaoa_results['Optimal Weights'].tolist(),\n",
    "            'Amount to Invest in each Stock by MVO for QAOA': mvo_qaoa_results['Recomended Investment'],\n",
    "            'Optimal weigths by CVAR for QAOA': cvar_qaoa_results['Optimal Weights'].tolist(),\n",
    "            'Amount to Invest in each Stock by CVAR for QAOA': cvar_qaoa_results['Recomended Investment'],\n",
    "            \n",
    "            'Optimal Stocks Selected by Sampling VQE': cvar_sampling_vqe_results['Optimal Stocks'],\n",
    "            'Optimal weigths by MVO for Sampling VQE': mvo_sampling_vqe_results['Optimal Weights'].tolist(),\n",
    "            'Amount to Invest in each Stock by MVO for Sampling VQE': mvo_sampling_vqe_results['Recomended Investment'],\n",
    "            'Optimal weigths by CVAR for Sampling VQE': cvar_sampling_vqe_results['Optimal Weights'].tolist(),\n",
    "            'Amount to Invest in each Stock by CVAR for Sampling VQE': cvar_sampling_vqe_results['Recomended Investment'],\n",
    "        }"
   ]
  },
  {
   "cell_type": "code",
   "execution_count": 24,
   "metadata": {},
   "outputs": [],
   "source": [
    "save_result(file_name=output_csv_file_name, result=results)"
   ]
  },
  {
   "cell_type": "code",
   "execution_count": null,
   "metadata": {},
   "outputs": [],
   "source": []
  }
 ],
 "metadata": {
  "kernelspec": {
   "display_name": ".venv",
   "language": "python",
   "name": "python3"
  },
  "language_info": {
   "codemirror_mode": {
    "name": "ipython",
    "version": 3
   },
   "file_extension": ".py",
   "mimetype": "text/x-python",
   "name": "python",
   "nbconvert_exporter": "python",
   "pygments_lexer": "ipython3",
   "version": "3.10.12"
  }
 },
 "nbformat": 4,
 "nbformat_minor": 2
}
