{
 "cells": [
  {
   "cell_type": "code",
   "execution_count": null,
   "metadata": {},
   "outputs": [],
   "source": [
    "import pandas as pd\n",
    "import numpy as np\n",
    "import yfinance as yf\n",
    "from requests.exceptions import HTTPError\n"
   ]
  },
  {
   "cell_type": "code",
   "execution_count": null,
   "metadata": {},
   "outputs": [],
   "source": [
    "ticker_symbols = [\n",
    "    \"RELIANCE.NS\",\n",
    "    \"TCS.NS\",\n",
    "    \"HDB\",\n",
    "    \"IBN\",\n",
    "    \"INFY\",\n",
    "    \"SBIN.NS\",\n",
    "    \"LICI.NS\",\n",
    "    \"BHARTIARTL.NS\",\n",
    "    \"HINDUNILVR.NS\",\n",
    "    \"ITC.NS\"]"
   ]
  },
  {
   "cell_type": "code",
   "execution_count": null,
   "metadata": {},
   "outputs": [],
   "source": [
    "# Counters\n",
    "total_companies = len(ticker_symbols)\n",
    "discarded_companies = 0\n",
    "available_companies = 0\n",
    "\n",
    "# Set start and end dates\n",
    "start_date = '2014-01-01'\n",
    "end_date = '2024-01-01'\n",
    "\n",
    "# Create an empty DataFrame to store data for companies with sector and industry\n",
    "all_stock_data = pd.DataFrame()\n",
    "\n",
    "# Loop through each ticker symbol\n",
    "for ticker_symbol in ticker_symbols:\n",
    "    try:\n",
    "        # Create a Ticker object\n",
    "        ticker = yf.Ticker(ticker_symbol)\n",
    "\n",
    "        # Get the info dictionary containing various information including sector and industry\n",
    "        info = ticker.info\n",
    "\n",
    "        # Get sector and industry information\n",
    "        sector = info.get('sector')\n",
    "        industry = info.get('industry')\n",
    "\n",
    "        # Check if both sector and industry are not None\n",
    "        if sector is not None and industry is not None:\n",
    "            # Download historical data for the current ticker symbol\n",
    "            stock_data = yf.download(ticker_symbol, start=start_date, end=end_date)\n",
    "\n",
    "            # Add stock information as columns to the DataFrame\n",
    "            stock_data['Company Name'] = info['longName']\n",
    "            stock_data['Sector'] = sector\n",
    "            stock_data['Industry'] = industry\n",
    "\n",
    "            # Append the stock data to the DataFrame for all stocks\n",
    "            all_stock_data = pd.concat([all_stock_data, stock_data])\n",
    "\n",
    "            available_companies += 1\n",
    "        else:\n",
    "            discarded_companies += 1\n",
    "    except HTTPError as e:\n",
    "        if e.response.status_code == 404:\n",
    "            print(f\"Error 404: Ticker {ticker_symbol} not found. Discarding...\")\n",
    "            discarded_companies += 1\n",
    "\n",
    "# Print summary\n",
    "print(\"Summary:\")\n",
    "print(\"Total companies input:\", total_companies)\n",
    "print(\"Number of companies discarded:\", discarded_companies)\n",
    "print(\"Number of companies available with sector and industry:\", available_companies)\n",
    "\n",
    "# Display the DataFrame\n",
    "print(\"\\nStock Data:\")\n",
    "print(all_stock_data)"
   ]
  },
  {
   "cell_type": "code",
   "execution_count": null,
   "metadata": {},
   "outputs": [],
   "source": [
    "df = pd.DataFrame(all_stock_data)\n",
    "df\n",
    "\n",
    "\n",
    "# ### Count of trading days for each company."
   ]
  },
  {
   "cell_type": "code",
   "execution_count": null,
   "metadata": {},
   "outputs": [],
   "source": [
    "company_counts = df['company_counts'] = df['Company Name'].value_counts()\n",
    "company_counts"
   ]
  },
  {
   "cell_type": "code",
   "execution_count": null,
   "metadata": {},
   "outputs": [],
   "source": [
    "num_companies_with_2465 = (company_counts == 2465).sum()\n",
    "num_companies_with_2465"
   ]
  },
  {
   "cell_type": "code",
   "execution_count": null,
   "metadata": {},
   "outputs": [],
   "source": [
    "selected_companies = []\n",
    "for Company_Name, days_count in df.groupby('Company Name')['Days_Count'].first().items():\n",
    "    if days_count == 2465:\n",
    "        selected_companies.append(Company_Name)\n",
    "df1 = df[df['company'].isin(selected_companies)]\n",
    "df1\n",
    "df1.drop(columns=['company_counts'], inplace=True)"
   ]
  },
  {
   "cell_type": "code",
   "execution_count": null,
   "metadata": {},
   "outputs": [],
   "source": []
  }
 ],
 "metadata": {
  "kernelspec": {
   "display_name": "Python 3",
   "language": "python",
   "name": "python3"
  },
  "language_info": {
   "codemirror_mode": {
    "name": "ipython",
    "version": 3
   },
   "file_extension": ".py",
   "mimetype": "text/x-python",
   "name": "python",
   "nbconvert_exporter": "python",
   "pygments_lexer": "ipython3",
   "version": "3.12.0"
  }
 },
 "nbformat": 4,
 "nbformat_minor": 2
}
