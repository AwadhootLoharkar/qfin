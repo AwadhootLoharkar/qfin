{
 "cells": [
  {
   "cell_type": "code",
   "execution_count": 5,
   "metadata": {},
   "outputs": [],
   "source": [
    "import numpy as np\n",
    "import pandas as pd\n",
    "import matplotlib.pyplot as plt\n",
    "from pandas_datareader import data\n",
    "\n"
   ]
  },
  {
   "cell_type": "markdown",
   "metadata": {},
   "source": [
    "# Fetching Data"
   ]
  },
  {
   "cell_type": "code",
   "execution_count": null,
   "metadata": {},
   "outputs": [],
   "source": [
    "def fetch_historical_data(start_date, end_date, symbols):\n",
    "    df_prices = data.DataReader(symbols, start=start_date, end=end_date, data_source='yahoo')\n",
    "    df_prices = df_prices[['Adj Close']]\n",
    "    df_prices.columns = [' '.join(col).strip() for col in df_prices.columns.values]\n",
    "    return df_prices"
   ]
  },
  {
   "cell_type": "markdown",
   "metadata": {},
   "source": [
    "# Calculating Metrices"
   ]
  },
  {
   "cell_type": "code",
   "execution_count": null,
   "metadata": {},
   "outputs": [],
   "source": [
    "def calculate_portfolio_weights(symbols, portfolio_value, price_at_end_date):\n",
    "    portfolio_weights_random = np.random.dirichlet(np.ones(len(symbols)), size=1)[0]\n",
    "    no_of_shares = [round((x * portfolio_value) / price, 5) for x,\n",
    "    price in zip(portfolio_weights_random, price_at_end_date)]\n",
    "    return portfolio_weights_random, no_of_shares\n",
    "\n",
    "def calculate_metrics(df_returns, df_mean_stdev, risk_free_rate):\n",
    "    mu = np.array(df_mean_stdev[\"Mean Log Daily Return\"].values.tolist())\n",
    "    sigma = np.array(df_mean_stdev[\"StdDev Log Daily Return\"].values.tolist())\n",
    "\n",
    "    iteration_std_dev = df_mean_stdev.tail(1).values[0][2]\n",
    "    iteration_mean = df_mean_stdev.tail(1).values[0][1]\n",
    "\n",
    "    negative_returns_only = df_returns[df_returns['Log Daily Returns Adj Close Portfolio'] < 0]\n",
    "    iteration_negative_returns_std_dev = negative_returns_only['Log Daily Returns Adj Close Portfolio'].std()\n",
    "\n",
    "    iteration_sharpe_ratio = round(((np.exp(iteration_mean) - 1) - risk_free_rate) / (np.exp(iteration_std_dev) - 1), 3)\n",
    "    iteration_sortino_ratio = round(((np.exp(iteration_mean) - 1) - risk_free_rate) / (np.exp(iteration_negative_returns_std_dev) - 1), 3)\n",
    "\n",
    "    return iteration_sharpe_ratio, iteration_sortino_ratio, iteration_std_dev, iteration_mean\n"
   ]
  },
  {
   "cell_type": "markdown",
   "metadata": {},
   "source": [
    "# Monte Carlo Simulations"
   ]
  },
  {
   "cell_type": "code",
   "execution_count": null,
   "metadata": {},
   "outputs": [],
   "source": [
    "def efficient_portfolio_historical(start_date, end_date, symbols, portfolio_value, no_of_iterations_mc, annual_risk_free_rate, image_counter, target_folder):\n",
    "    risk_free_rate = (1 + annual_risk_free_rate) ** (1/252) - 1\n",
    "    \n",
    "    df_prices = fetch_historical_data(start_date, end_date, symbols)\n",
    "    price_at_end_date = [df_prices[[f'Adj Close {symbol}']][-1:].values[0][0] for symbol in symbols]\n",
    "    \n",
    "    results_table = []\n",
    "\n",
    "    for _ in range(no_of_iterations_mc):\n",
    "        portfolio_weights_random, no_of_shares = calculate_portfolio_weights(symbols, portfolio_value, price_at_end_date)\n",
    "\n",
    "        df_prices_inner = df_prices.copy()\n",
    "        df_prices_inner[\"Adj Close Portfolio\"] = df_prices_inner.mul(no_of_shares).sum(1)\n",
    "\n",
    "        df_returns, df_mean_stdev = calc_returns(df_prices_inner, symbols)\n",
    "\n",
    "        iteration_sharpe_ratio, iteration_sortino_ratio, iteration_std_dev, iteration_mean = calculate_metrics(df_returns, df_mean_stdev, risk_free_rate)\n",
    "\n",
    "        results_table.append([portfolio_weights_random, iteration_std_dev, iteration_mean, iteration_sharpe_ratio, iteration_sortino_ratio])\n",
    "\n",
    "        df_prices_inner.drop('Adj Close Portfolio', inplace=True, axis=1)\n",
    "\n",
    "    final_results_table = pd.DataFrame(results_table, columns=[\"Weights\", \"Std Dev\", \"Mean\", \"Sharpe Ratio\", \"Sortino Ratio\"])\n",
    "\n",
    "    historical_df_returns, historical_df_mean_stdev = calc_returns(df_prices, symbols)\n",
    "    historical_df_mean_stdev = historical_df_mean_stdev[['Stock', 'StdDev Log Daily Return', 'Mean Log Daily Return']]\n",
    "    historical_df_mean_stdev.columns = ['Stock', 'Std Dev', 'Mean']\n",
    "\n",
    "    fig, ax = plt.subplots(figsize=(10, 5))\n",
    "    final_results_table.plot.scatter(x=\"Std Dev\", y='Mean', ax=ax)\n",
    "    historical_df_mean_stdev.plot.scatter(x=\"Std Dev\", y='Mean', c='r', marker='x', ax=ax)\n",
    "\n",
    "    sharpe_std_dev = final_results_table.nlargest(1, ['Sharpe Ratio'])['Std Dev'].values[0]\n",
    "    sharpe_mean = final_results_table.nlargest(1, ['Sharpe Ratio'])['Mean'].values[0]\n",
    "    sharperounded_weights = [round(num, 4) for num in final_results_table.nlargest(1, ['Sharpe Ratio'])['Weights'].values[0]]\n",
    "    sharpeweight_string = [[symbol, weight] for symbol, weight in zip(symbols, sharperounded_weights)]\n",
    "    sharpe_label = \"Optimal Sharpe Ratio\"\n",
    "    sharpe_detail = f'Optimal Sharpe Ratio: {final_results_table.nlargest(1, [\"Sharpe Ratio\"])[\"Sharpe Ratio\"].values[0]} with Weights {sharpeweight_string}'\n",
    "\n",
    "    sortino_std_dev = final_results_table.nlargest(1, ['Sortino Ratio'])['Std Dev'].values[0]\n",
    "    sortino_mean = final_results_table.nlargest(1, ['Sortino Ratio'])['Mean'].values[0]\n",
    "    sortinorounded_weights = [round(num, 4) for num in final_results_table.nlargest(1, ['Sortino Ratio'])['Weights'].values[0]]\n",
    "    sortinoweight_string = [[symbol, weight] for symbol, weight in zip(symbols, sortinorounded_weights)]\n",
    "    sortino_label = 'Optimal Sortino Ratio'\n",
    "    sortino_detail = f'Optimal Sortino Ratio: {final_results_table.nlargest(1, [\"Sortino Ratio\"])[\"Sortino Ratio\"].values[0]} with Weights {sortinoweight_string}'\n",
    "\n",
    "    sharpe_sortino = pd.DataFrame(zip([sharpe_std_dev, sortino_std_dev], [sharpe_mean, sortino_mean]), index=['Optimal Sharpe', 'Optimal Sortino'], columns=['Std Dev', 'Mean'])\n",
    "    sharpe_sortino.plot.scatter(x=\"Std Dev\", y='Mean', c='g', marker='x', ax=ax)\n",
    "\n",
    "    txt = list(historical_df_mean_stdev['Stock']) + [sharpe_label, sortino_label]\n",
    "    z = list(historical_df_mean_stdev['Std Dev']) + [sharpe_std_dev, sortino_std_dev]\n",
    "    y = list(historical_df_mean_stdev['Mean']) + [sharpe_mean, sortino_mean]\n",
    "    for i, text in enumerate(txt):\n",
    "        ax.annotate(text, (z[i], y[i]))\n",
    "\n",
    "    plt.title(f\"Mean vs Std Dev Of Log Returns For {no_of_iterations_mc} Different Portfolio Weights\")\n",
    "    plt.savefig(f'static/{target_folder}/{image_counter}_efficientportfolio.png')\n",
    "    print(sharpe_detail)\n",
    "    print(sortino_detail)\n",
    "\n",
    "    final_results_table['Log Returns Std Dev'] = final_results_table['Std Dev']\n",
    "    final_results_table['Log Returns Mean'] = final_results_table['Mean']\n",
    "    final_results_table = final_results_table[['Weights', 'Log Returns Std Dev', 'Log Returns Mean', 'Sharpe Ratio', 'Sortino Ratio']]\n",
    "\n",
    "    return final_results"
   ]
  }
 ],
 "metadata": {
  "kernelspec": {
   "display_name": "Python 3",
   "language": "python",
   "name": "python3"
  },
  "language_info": {
   "codemirror_mode": {
    "name": "ipython",
    "version": 3
   },
   "file_extension": ".py",
   "mimetype": "text/x-python",
   "name": "python",
   "nbconvert_exporter": "python",
   "pygments_lexer": "ipython3",
   "version": "3.12.0"
  }
 },
 "nbformat": 4,
 "nbformat_minor": 2
}
