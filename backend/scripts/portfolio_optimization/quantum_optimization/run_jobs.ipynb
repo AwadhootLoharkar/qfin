{
 "cells": [
  {
   "cell_type": "code",
   "execution_count": 1,
   "metadata": {},
   "outputs": [],
   "source": [
    "from job_runner import run_jobs\n",
    "from save_result import save_multiple_results"
   ]
  },
  {
   "cell_type": "code",
   "execution_count": 2,
   "metadata": {},
   "outputs": [],
   "source": [
    "jobs_01 = [\n",
    "    { # series 1 A\n",
    "        'stocks': ['AAPL', 'MSFT', 'GOOG', 'AMZN', 'NVDA', 'META', 'TSLA', 'AVGO', 'ASML', 'COST'],\n",
    "        'start_date': (2018, 1, 1),\n",
    "        'end_date': (2018, 3, 1),\n",
    "        'portfolio_total_value': 1000000,\n",
    "        'budget': 5,\n",
    "        'risk_factor': 0.5,\n",
    "        'confidence_level': 0.95,\n",
    "        'method': '', # 'cvar' or 'mvo', if not provided, both will be run.\n",
    "        'solver': '', # 'numpy_minimum_eigensolver', 'qaoa', 'sampling_vqe', if not provided, all will be run.\n",
    "        \n",
    "    },\n",
    "    { # series 1 B\n",
    "        'stocks': ['AAPL', 'MSFT', 'GOOG', 'AMZN', 'NVDA', 'META', 'TSLA', 'AVGO', 'ASML', 'COST'],\n",
    "        'start_date': (2018, 1, 1),\n",
    "        'end_date': (2018, 6, 1),\n",
    "        'portfolio_total_value': 1000000,\n",
    "        'budget': 5,\n",
    "        'risk_factor': 0.5,\n",
    "        'confidence_level': 0.95,\n",
    "        'method': '', # 'cvar' or 'mvo', if not provided, both will be run.\n",
    "        'solver': '', # 'numpy_minimum_eigensolver', 'qaoa', 'sampling_vqe', if not provided, all will be run.\n",
    "        \n",
    "    },\n",
    "    { # series 1 C\n",
    "        'stocks': ['AAPL', 'MSFT', 'GOOG', 'AMZN', 'NVDA', 'META', 'TSLA', 'AVGO', 'ASML', 'COST'],\n",
    "        'start_date': (2018, 1, 1),\n",
    "        'end_date': (2018, 9, 1),\n",
    "        'portfolio_total_value': 1000000,\n",
    "        'budget': 5,\n",
    "        'risk_factor': 0.5,\n",
    "        'confidence_level': 0.95,\n",
    "        'method': '', # 'cvar' or 'mvo', if not provided, both will be run.\n",
    "        'solver': '', # 'numpy_minimum_eigensolver', 'qaoa', 'sampling_vqe', if not provided, all will be run.\n",
    "        \n",
    "    },\n",
    "    { # series 1 D\n",
    "        'stocks': ['AAPL', 'MSFT', 'GOOG', 'AMZN', 'NVDA', 'META', 'TSLA', 'AVGO', 'ASML', 'COST'],\n",
    "        'start_date': (2018, 1, 1),\n",
    "        'end_date': (2019, 1, 1),\n",
    "        'portfolio_total_value': 1000000,\n",
    "        'budget': 5,\n",
    "        'risk_factor': 0.5,\n",
    "        'confidence_level': 0.95,\n",
    "        'method': '', # 'cvar' or 'mvo', if not provided, both will be run.\n",
    "        'solver': '', # 'numpy_minimum_eigensolver', 'qaoa', 'sampling_vqe', if not provided, all will be run.\n",
    "        \n",
    "    },\n",
    "    { # series 1 E\n",
    "        'stocks': ['AAPL', 'MSFT', 'GOOG', 'AMZN', 'NVDA', 'META', 'TSLA', 'AVGO', 'ASML', 'COST'],\n",
    "        'start_date': (2018, 1, 1),\n",
    "        'end_date': (2019, 6, 1),\n",
    "        'portfolio_total_value': 1000000,\n",
    "        'budget': 5,\n",
    "        'risk_factor': 0.5,\n",
    "        'confidence_level': 0.95,\n",
    "        'method': '', # 'cvar' or 'mvo', if not provided, both will be run.\n",
    "        'solver': '', # 'numpy_minimum_eigensolver', 'qaoa', 'sampling_vqe', if not provided, all will be run.\n",
    "        \n",
    "    },\n",
    "    { # series 1 F\n",
    "        'stocks': ['AAPL', 'MSFT', 'GOOG', 'AMZN', 'NVDA', 'META', 'TSLA', 'AVGO', 'ASML', 'COST'],\n",
    "        'start_date': (2018, 1, 1),\n",
    "        'end_date': (2020, 1, 1),\n",
    "        'portfolio_total_value': 1000000,\n",
    "        'budget': 5,\n",
    "        'risk_factor': 0.5,\n",
    "        'confidence_level': 0.95,\n",
    "        'method': '', # 'cvar' or 'mvo', if not provided, both will be run.\n",
    "        'solver': '', # 'numpy_minimum_eigensolver', 'qaoa', 'sampling_vqe', if not provided, all will be run.\n",
    "        \n",
    "    },\n",
    "    { # series 1 G\n",
    "        'stocks': ['AAPL', 'MSFT', 'GOOG', 'AMZN', 'NVDA', 'META', 'TSLA', 'AVGO', 'ASML', 'COST'],\n",
    "        'start_date': (2018, 1, 1),\n",
    "        'end_date': (2021, 1, 1),\n",
    "        'portfolio_total_value': 1000000,\n",
    "        'budget': 5,\n",
    "        'risk_factor': 0.5,\n",
    "        'confidence_level': 0.95,\n",
    "        'method': '', # 'cvar' or 'mvo', if not provided, both will be run.\n",
    "        'solver': '', # 'numpy_minimum_eigensolver', 'qaoa', 'sampling_vqe', if not provided, all will be run.\n",
    "        \n",
    "    },\n",
    "    { # series 1 H\n",
    "        'stocks': ['AAPL', 'MSFT', 'GOOG', 'AMZN', 'NVDA', 'META', 'TSLA', 'AVGO', 'ASML', 'COST'],\n",
    "        'start_date': (2018, 1, 1),\n",
    "        'end_date': (2022, 1, 1),\n",
    "        'portfolio_total_value': 1000000,\n",
    "        'budget': 5,\n",
    "        'risk_factor': 0.5,\n",
    "        'confidence_level': 0.95,\n",
    "        'method': '', # 'cvar' or 'mvo', if not provided, both will be run.\n",
    "        'solver': '', # 'numpy_minimum_eigensolver', 'qaoa', 'sampling_vqe', if not provided, all will be run.\n",
    "        \n",
    "    },\n",
    "    { # series 2 A\n",
    "        'stocks': ['ADBE', 'PEP', 'AMD', 'CMCSA', 'NFLX', 'INTU', 'TXN', 'QCOM', 'PYPL', 'AMGN'],       'start_date': (2018, 1, 1),\n",
    "        'end_date': (2018, 3, 1),\n",
    "        'portfolio_total_value': 1000000,\n",
    "        'budget': 5,\n",
    "        'risk_factor': 0.5,\n",
    "        'confidence_level': 0.95,\n",
    "        'method': '', # 'cvar' or 'mvo', if not provided, both will be run.\n",
    "        'solver': '', # 'numpy_minimum_eigensolver', 'qaoa', 'sampling_vqe', if not provided, all will be run.\n",
    "        \n",
    "    },\n",
    "    { # series 2 B\n",
    "        'stocks': ['ADBE', 'PEP', 'AMD', 'CMCSA', 'NFLX', 'INTU', 'TXN', 'QCOM', 'PYPL', 'AMGN'],\n",
    "        'start_date': (2018, 1, 1),\n",
    "        'end_date': (2018, 6, 1),\n",
    "        'portfolio_total_value': 1000000,\n",
    "        'budget': 5,\n",
    "        'risk_factor': 0.5,\n",
    "        'confidence_level': 0.95,\n",
    "        'method': '', # 'cvar' or 'mvo', if not provided, both will be run.\n",
    "        'solver': '', # 'numpy_minimum_eigensolver', 'qaoa', 'sampling_vqe', if not provided, all will be run.\n",
    "        \n",
    "    },\n",
    "    { # series 2 C\n",
    "        'stocks': ['ADBE', 'PEP', 'AMD', 'CMCSA', 'NFLX', 'INTU', 'TXN', 'QCOM', 'PYPL', 'AMGN'],\n",
    "        'start_date': (2018, 1, 1),\n",
    "        'end_date': (2018, 9, 1),\n",
    "        'portfolio_total_value': 1000000,\n",
    "        'budget': 5,\n",
    "        'risk_factor': 0.5,\n",
    "        'confidence_level': 0.95,\n",
    "        'method': '', # 'cvar' or 'mvo', if not provided, both will be run.\n",
    "        'solver': '', # 'numpy_minimum_eigensolver', 'qaoa', 'sampling_vqe', if not provided, all will be run.\n",
    "        \n",
    "    },\n",
    "    { # series 2 D\n",
    "        'stocks': ['ADBE', 'PEP', 'AMD', 'CMCSA', 'NFLX', 'INTU', 'TXN', 'QCOM', 'PYPL', 'AMGN'],\n",
    "        'start_date': (2018, 1, 1),\n",
    "        'end_date': (2019, 1, 1),\n",
    "        'portfolio_total_value': 1000000,\n",
    "        'budget': 5,\n",
    "        'risk_factor': 0.5,\n",
    "        'confidence_level': 0.95,\n",
    "        'method': '', # 'cvar' or 'mvo', if not provided, both will be run.\n",
    "        'solver': '', # 'numpy_minimum_eigensolver', 'qaoa', 'sampling_vqe', if not provided, all will be run.\n",
    "        \n",
    "    },\n",
    "    { # series 2 E\n",
    "        'stocks': ['ADBE', 'PEP', 'AMD', 'CMCSA', 'NFLX', 'INTU', 'TXN', 'QCOM', 'PYPL', 'AMGN'],\n",
    "        'start_date': (2018, 1, 1),\n",
    "        'end_date': (2019, 6, 1),\n",
    "        'portfolio_total_value': 1000000,\n",
    "        'budget': 5,\n",
    "        'risk_factor': 0.5,\n",
    "        'confidence_level': 0.95,\n",
    "        'method': '', # 'cvar' or 'mvo', if not provided, both will be run.\n",
    "        'solver': '', # 'numpy_minimum_eigensolver', 'qaoa', 'sampling_vqe', if not provided, all will be run.\n",
    "        \n",
    "    },\n",
    "    { # series 2 F\n",
    "        'stocks': ['ADBE', 'PEP', 'AMD', 'CMCSA', 'NFLX', 'INTU', 'TXN', 'QCOM', 'PYPL', 'AMGN'],\n",
    "        'start_date': (2018, 1, 1),\n",
    "        'end_date': (2020, 1, 1),\n",
    "        'portfolio_total_value': 1000000,\n",
    "        'budget': 5,\n",
    "        'risk_factor': 0.5,\n",
    "        'confidence_level': 0.95,\n",
    "        'method': '', # 'cvar' or 'mvo', if not provided, both will be run.\n",
    "        'solver': '', # 'numpy_minimum_eigensolver', 'qaoa', 'sampling_vqe', if not provided, all will be run.\n",
    "        \n",
    "    },\n",
    "    { # series 2 G\n",
    "        'stocks': ['ADBE', 'PEP', 'AMD', 'CMCSA', 'NFLX', 'INTU', 'TXN', 'QCOM', 'PYPL', 'AMGN'],\n",
    "        'start_date': (2018, 1, 1),\n",
    "        'end_date': (2021, 1, 1),\n",
    "        'portfolio_total_value': 1000000,\n",
    "        'budget': 5,\n",
    "        'risk_factor': 0.5,\n",
    "        'confidence_level': 0.95,\n",
    "        'method': '', # 'cvar' or 'mvo', if not provided, both will be run.\n",
    "        'solver': '', # 'numpy_minimum_eigensolver', 'qaoa', 'sampling_vqe', if not provided, all will be run.\n",
    "        \n",
    "    },\n",
    "    { # series 2 H\n",
    "        'stocks': ['ADBE', 'PEP', 'AMD', 'CMCSA', 'NFLX', 'INTU', 'TXN', 'QCOM', 'PYPL', 'AMGN'],\n",
    "        'start_date': (2018, 1, 1),\n",
    "        'end_date': (2022, 1, 1),\n",
    "        'portfolio_total_value': 1000000,\n",
    "        'budget': 5,\n",
    "        'risk_factor': 0.5,\n",
    "        'confidence_level': 0.95,\n",
    "        'method': '', # 'cvar' or 'mvo', if not provided, both will be run.\n",
    "        'solver': '', # 'numpy_minimum_eigensolver', 'qaoa', 'sampling_vqe', if not provided, all will be run.\n",
    "        \n",
    "    },    \n",
    "    { # series 3 A\n",
    "        'stocks': ['SBUX', 'CHTR', 'MRNA', 'AMAT', 'MU', 'ADP', 'ADI', 'BKNG', 'LRCX', 'VRTX'],\n",
    "        'start_date': (2018, 1, 1),\n",
    "        'end_date': (2018, 3, 1),\n",
    "        'portfolio_total_value': 1000000,\n",
    "        'budget': 5,\n",
    "        'risk_factor': 0.5,\n",
    "        'confidence_level': 0.95,\n",
    "        'method': '', # 'cvar' or 'mvo', if not provided, both will be run.\n",
    "        'solver': '', # 'numpy_minimum_eigensolver', 'qaoa', 'sampling_vqe', if not provided, all will be run.\n",
    "        \n",
    "    },\n",
    "    { # series 3 B\n",
    "        'stocks': ['SBUX', 'CHTR', 'MRNA', 'AMAT', 'MU', 'ADP', 'ADI', 'BKNG', 'LRCX', 'VRTX'],\n",
    "        'start_date': (2018, 1, 1),\n",
    "        'end_date': (2018, 6, 1),\n",
    "        'portfolio_total_value': 1000000,\n",
    "        'budget': 5,\n",
    "        'risk_factor': 0.5,\n",
    "        'confidence_level': 0.95,\n",
    "        'method': '', # 'cvar' or 'mvo', if not provided, both will be run.\n",
    "        'solver': '', # 'numpy_minimum_eigensolver', 'qaoa', 'sampling_vqe', if not provided, all will be run.\n",
    "        \n",
    "    },\n",
    "    { # series 3 C\n",
    "        'stocks': ['SBUX', 'CHTR', 'MRNA', 'AMAT', 'MU', 'ADP', 'ADI', 'BKNG', 'LRCX', 'VRTX'],\n",
    "        'start_date': (2018, 1, 1),\n",
    "        'end_date': (2018, 9, 1),\n",
    "        'portfolio_total_value': 1000000,\n",
    "        'budget': 5,\n",
    "        'risk_factor': 0.5,\n",
    "        'confidence_level': 0.95,\n",
    "        'method': '', # 'cvar' or 'mvo', if not provided, both will be run.\n",
    "        'solver': '', # 'numpy_minimum_eigensolver', 'qaoa', 'sampling_vqe', if not provided, all will be run.\n",
    "        \n",
    "    },\n",
    "    { # series 3 D\n",
    "        'stocks': ['SBUX', 'CHTR', 'MRNA', 'AMAT', 'MU', 'ADP', 'ADI', 'BKNG', 'LRCX', 'VRTX'],\n",
    "        'start_date': (2018, 1, 1),\n",
    "        'end_date': (2019, 1, 1),\n",
    "        'portfolio_total_value': 1000000,\n",
    "        'budget': 5,\n",
    "        'risk_factor': 0.5,\n",
    "        'confidence_level': 0.95,\n",
    "        'method': '', # 'cvar' or 'mvo', if not provided, both will be run.\n",
    "        'solver': '', # 'numpy_minimum_eigensolver', 'qaoa', 'sampling_vqe', if not provided, all will be run.\n",
    "        \n",
    "    },\n",
    "    { # series 3 E\n",
    "        'stocks': ['SBUX', 'CHTR', 'MRNA', 'AMAT', 'MU', 'ADP', 'ADI', 'BKNG', 'LRCX', 'VRTX'],\n",
    "        'start_date': (2018, 1, 1),\n",
    "        'end_date': (2019, 6, 1),\n",
    "        'portfolio_total_value': 1000000,\n",
    "        'budget': 5,\n",
    "        'risk_factor': 0.5,\n",
    "        'confidence_level': 0.95,\n",
    "        'method': '', # 'cvar' or 'mvo', if not provided, both will be run.\n",
    "        'solver': '', # 'numpy_minimum_eigensolver', 'qaoa', 'sampling_vqe', if not provided, all will be run.\n",
    "        \n",
    "    },\n",
    "    { # series 3 F\n",
    "        'stocks': ['SBUX', 'CHTR', 'MRNA', 'AMAT', 'MU', 'ADP', 'ADI', 'BKNG', 'LRCX', 'VRTX'],\n",
    "        'start_date': (2018, 1, 1),\n",
    "        'end_date': (2020, 1, 1),\n",
    "        'portfolio_total_value': 1000000,\n",
    "        'budget': 5,\n",
    "        'risk_factor': 0.5,\n",
    "        'confidence_level': 0.95,\n",
    "        'method': '', # 'cvar' or 'mvo', if not provided, both will be run.\n",
    "        'solver': '', # 'numpy_minimum_eigensolver', 'qaoa', 'sampling_vqe', if not provided, all will be run.\n",
    "        \n",
    "    },\n",
    "    { # series 3 G\n",
    "        'stocks': ['SBUX', 'CHTR', 'MRNA', 'AMAT', 'MU', 'ADP', 'ADI', 'BKNG', 'LRCX', 'VRTX'],\n",
    "        'start_date': (2018, 1, 1),\n",
    "        'end_date': (2021, 1, 1),\n",
    "        'portfolio_total_value': 1000000,\n",
    "        'budget': 5,\n",
    "        'risk_factor': 0.5,\n",
    "        'confidence_level': 0.95,\n",
    "        'method': '', # 'cvar' or 'mvo', if not provided, both will be run.\n",
    "        'solver': '', # 'numpy_minimum_eigensolver', 'qaoa', 'sampling_vqe', if not provided, all will be run.\n",
    "        \n",
    "    },\n",
    "    { # series 3 H\n",
    "        'stocks': ['SBUX', 'CHTR', 'MRNA', 'AMAT', 'MU', 'ADP', 'ADI', 'BKNG', 'LRCX', 'VRTX'],\n",
    "        'start_date': (2018, 1, 1),\n",
    "        'end_date': (2022, 1, 1),\n",
    "        'portfolio_total_value': 1000000,\n",
    "        'budget': 5,\n",
    "        'risk_factor': 0.5,\n",
    "        'confidence_level': 0.95,\n",
    "        'method': '', # 'cvar' or 'mvo', if not provided, both will be run.\n",
    "        'solver': '', # 'numpy_minimum_eigensolver', 'qaoa', 'sampling_vqe', if not provided, all will be run.\n",
    "        \n",
    "    },    \n",
    "    { # series 4 A\n",
    "        'stocks': ['KLAC', 'REGN', 'MRVL', 'ILMN', 'GILD', 'MU', 'ISRG', 'DXCM', 'ROST', 'ORLY'],\n",
    "        'start_date': (2018, 1, 1),\n",
    "        'end_date': (2018, 3, 1),\n",
    "        'portfolio_total_value': 1000000,\n",
    "        'budget': 5,\n",
    "        'risk_factor': 0.5,\n",
    "        'confidence_level': 0.95,\n",
    "        'method': '', # 'cvar' or 'mvo', if not provided, both will be run.\n",
    "        'solver': '', # 'numpy_minimum_eigensolver', 'qaoa', 'sampling_vqe', if not provided, all will be run.\n",
    "        \n",
    "    },\n",
    "    { # series 4 B\n",
    "        'stocks': ['KLAC', 'REGN', 'MRVL', 'ILMN', 'GILD', 'MU', 'ISRG', 'DXCM', 'ROST', 'ORLY'],\n",
    "        'start_date': (2018, 1, 1),\n",
    "        'end_date': (2018, 6, 1),\n",
    "        'portfolio_total_value': 1000000,\n",
    "        'budget': 5,\n",
    "        'risk_factor': 0.5,\n",
    "        'confidence_level': 0.95,\n",
    "        'method': '', # 'cvar' or 'mvo', if not provided, both will be run.\n",
    "        'solver': '', # 'numpy_minimum_eigensolver', 'qaoa', 'sampling_vqe', if not provided, all will be run.\n",
    "        \n",
    "    },\n",
    "    { # series 4 C\n",
    "        'stocks': ['KLAC', 'REGN', 'MRVL', 'ILMN', 'GILD', 'MU', 'ISRG', 'DXCM', 'ROST', 'ORLY'],\n",
    "        'start_date': (2018, 1, 1),\n",
    "        'end_date': (2018, 9, 1),\n",
    "        'portfolio_total_value': 1000000,\n",
    "        'budget': 5,\n",
    "        'risk_factor': 0.5,\n",
    "        'confidence_level': 0.95,\n",
    "        'method': '', # 'cvar' or 'mvo', if not provided, both will be run.\n",
    "        'solver': '', # 'numpy_minimum_eigensolver', 'qaoa', 'sampling_vqe', if not provided, all will be run.\n",
    "        \n",
    "    },\n",
    "    { # series 4 D\n",
    "        'stocks': ['KLAC', 'REGN', 'MRVL', 'ILMN', 'GILD', 'MU', 'ISRG', 'DXCM', 'ROST', 'ORLY'],\n",
    "        'start_date': (2018, 1, 1),\n",
    "        'end_date': (2019, 1, 1),\n",
    "        'portfolio_total_value': 1000000,\n",
    "        'budget': 5,\n",
    "        'risk_factor': 0.5,\n",
    "        'confidence_level': 0.95,\n",
    "        'method': '', # 'cvar' or 'mvo', if not provided, both will be run.\n",
    "        'solver': '', # 'numpy_minimum_eigensolver', 'qaoa', 'sampling_vqe', if not provided, all will be run.\n",
    "        \n",
    "    },\n",
    "    { # series 4 E\n",
    "        'stocks': ['KLAC', 'REGN', 'MRVL', 'ILMN', 'GILD', 'MU', 'ISRG', 'DXCM', 'ROST', 'ORLY'],\n",
    "        'start_date': (2018, 1, 1),\n",
    "        'end_date': (2019, 6, 1),\n",
    "        'portfolio_total_value': 1000000,\n",
    "        'budget': 5,\n",
    "        'risk_factor': 0.5,\n",
    "        'confidence_level': 0.95,\n",
    "        'method': '', # 'cvar' or 'mvo', if not provided, both will be run.\n",
    "        'solver': '', # 'numpy_minimum_eigensolver', 'qaoa', 'sampling_vqe', if not provided, all will be run.\n",
    "        \n",
    "    },\n",
    "    { # series 4 F\n",
    "        'stocks': ['KLAC', 'REGN', 'MRVL', 'ILMN', 'GILD', 'MU', 'ISRG', 'DXCM', 'ROST', 'ORLY'],\n",
    "        'start_date': (2018, 1, 1),\n",
    "        'end_date': (2020, 1, 1),\n",
    "        'portfolio_total_value': 1000000,\n",
    "        'budget': 5,\n",
    "        'risk_factor': 0.5,\n",
    "        'confidence_level': 0.95,\n",
    "        'method': '', # 'cvar' or 'mvo', if not provided, both will be run.\n",
    "        'solver': '', # 'numpy_minimum_eigensolver', 'qaoa', 'sampling_vqe', if not provided, all will be run.\n",
    "        \n",
    "    },\n",
    "    { # series 4 G\n",
    "        'stocks': ['KLAC', 'REGN', 'MRVL', 'ILMN', 'GILD', 'MU', 'ISRG', 'DXCM', 'ROST', 'ORLY'],\n",
    "        'start_date': (2018, 1, 1),\n",
    "        'end_date': (2021, 1, 1),\n",
    "        'portfolio_total_value': 1000000,\n",
    "        'budget': 5,\n",
    "        'risk_factor': 0.5,\n",
    "        'confidence_level': 0.95,\n",
    "        'method': '', # 'cvar' or 'mvo', if not provided, both will be run.\n",
    "        'solver': '', # 'numpy_minimum_eigensolver', 'qaoa', 'sampling_vqe', if not provided, all will be run.\n",
    "        \n",
    "    },\n",
    "    { # series 4 H\n",
    "        'stocks': ['KLAC', 'REGN', 'MRVL', 'ILMN', 'GILD', 'MU', 'ISRG', 'DXCM', 'ROST', 'ORLY'],\n",
    "        'start_date': (2018, 1, 1),\n",
    "        'end_date': (2022, 1, 1),\n",
    "        'portfolio_total_value': 1000000,\n",
    "        'budget': 5,\n",
    "        'risk_factor': 0.5,\n",
    "        'confidence_level': 0.95,\n",
    "        'method': '', # 'cvar' or 'mvo', if not provided, both will be run.\n",
    "        'solver': '', # 'numpy_minimum_eigensolver', 'qaoa', 'sampling_vqe', if not provided, all will be run.\n",
    "        \n",
    "    },    \n",
    "    { # series 5 A\n",
    "        'stocks': ['ADSK', 'MELI', 'TEAM', 'PAYX', 'TTD', 'FISV', 'CSX', 'CDNS', 'WDAY', 'MNST'],\n",
    "        'start_date': (2018, 1, 1),\n",
    "        'end_date': (2018, 3, 1),\n",
    "        'portfolio_total_value': 1000000,\n",
    "        'budget': 5,\n",
    "        'risk_factor': 0.5,\n",
    "        'confidence_level': 0.95,\n",
    "        'method': '', # 'cvar' or 'mvo', if not provided, both will be run.\n",
    "        'solver': '', # 'numpy_minimum_eigensolver', 'qaoa', 'sampling_vqe', if not provided, all will be run.\n",
    "        \n",
    "    },\n",
    "    { # series 5 B\n",
    "        'stocks': ['ADSK', 'MELI', 'TEAM', 'PAYX', 'TTD', 'FISV', 'CSX', 'CDNS', 'WDAY', 'MNST'],\n",
    "        'start_date': (2018, 1, 1),\n",
    "        'end_date': (2018, 6, 1),\n",
    "        'portfolio_total_value': 1000000,\n",
    "        'budget': 5,\n",
    "        'risk_factor': 0.5,\n",
    "        'confidence_level': 0.95,\n",
    "        'method': '', # 'cvar' or 'mvo', if not provided, both will be run.\n",
    "        'solver': '', # 'numpy_minimum_eigensolver', 'qaoa', 'sampling_vqe', if not provided, all will be run.\n",
    "        \n",
    "    },\n",
    "    { # series 5 C\n",
    "        'stocks': ['ADSK', 'MELI', 'TEAM', 'PAYX', 'TTD', 'FISV', 'CSX', 'CDNS', 'WDAY', 'MNST'],\n",
    "        'start_date': (2018, 1, 1),\n",
    "        'end_date': (2018, 9, 1),\n",
    "        'portfolio_total_value': 1000000,\n",
    "        'budget': 5,\n",
    "        'risk_factor': 0.5,\n",
    "        'confidence_level': 0.95,\n",
    "        'method': '', # 'cvar' or 'mvo', if not provided, both will be run.\n",
    "        'solver': '', # 'numpy_minimum_eigensolver', 'qaoa', 'sampling_vqe', if not provided, all will be run.\n",
    "        \n",
    "    },\n",
    "    { # series 5 D\n",
    "        'stocks': ['ADSK', 'MELI', 'TEAM', 'PAYX', 'TTD', 'FISV', 'CSX', 'CDNS', 'WDAY', 'MNST'],\n",
    "        'start_date': (2018, 1, 1),\n",
    "        'end_date': (2019, 1, 1),\n",
    "        'portfolio_total_value': 1000000,\n",
    "        'budget': 5,\n",
    "        'risk_factor': 0.5,\n",
    "        'confidence_level': 0.95,\n",
    "        'method': '', # 'cvar' or 'mvo', if not provided, both will be run.\n",
    "        'solver': '', # 'numpy_minimum_eigensolver', 'qaoa', 'sampling_vqe', if not provided, all will be run.\n",
    "        \n",
    "    },\n",
    "    { # series 5 E\n",
    "        'stocks': ['ADSK', 'MELI', 'TEAM', 'PAYX', 'TTD', 'FISV', 'CSX', 'CDNS', 'WDAY', 'MNST'],\n",
    "        'start_date': (2018, 1, 1),\n",
    "        'end_date': (2019, 6, 1),\n",
    "        'portfolio_total_value': 1000000,\n",
    "        'budget': 5,\n",
    "        'risk_factor': 0.5,\n",
    "        'confidence_level': 0.95,\n",
    "        'method': '', # 'cvar' or 'mvo', if not provided, both will be run.\n",
    "        'solver': '', # 'numpy_minimum_eigensolver', 'qaoa', 'sampling_vqe', if not provided, all will be run.\n",
    "        \n",
    "    },\n",
    "    { # series 5 F\n",
    "        'stocks': ['ADSK', 'MELI', 'TEAM', 'PAYX', 'TTD', 'FISV', 'CSX', 'CDNS', 'WDAY', 'MNST'],\n",
    "        'start_date': (2018, 1, 1),\n",
    "        'end_date': (2020, 1, 1),\n",
    "        'portfolio_total_value': 1000000,\n",
    "        'budget': 5,\n",
    "        'risk_factor': 0.5,\n",
    "        'confidence_level': 0.95,\n",
    "        'method': '', # 'cvar' or 'mvo', if not provided, both will be run.\n",
    "        'solver': '', # 'numpy_minimum_eigensolver', 'qaoa', 'sampling_vqe', if not provided, all will be run.\n",
    "        \n",
    "    },\n",
    "    { # series 5 G\n",
    "        'stocks': ['ADSK', 'MELI', 'TEAM', 'PAYX', 'TTD', 'FISV', 'CSX', 'CDNS', 'WDAY', 'MNST'],\n",
    "        'start_date': (2018, 1, 1),\n",
    "        'end_date': (2021, 1, 1),\n",
    "        'portfolio_total_value': 1000000,\n",
    "        'budget': 5,\n",
    "        'risk_factor': 0.5,\n",
    "        'confidence_level': 0.95,\n",
    "        'method': '', # 'cvar' or 'mvo', if not provided, both will be run.\n",
    "        'solver': '', # 'numpy_minimum_eigensolver', 'qaoa', 'sampling_vqe', if not provided, all will be run.\n",
    "        \n",
    "    },\n",
    "    { # series 5 H\n",
    "        'stocks': ['ADSK', 'MELI', 'TEAM', 'PAYX', 'TTD', 'FISV', 'CSX', 'CDNS', 'WDAY', 'MNST'],\n",
    "        'start_date': (2018, 1, 1),\n",
    "        'end_date': (2022, 1, 1),\n",
    "        'portfolio_total_value': 1000000,\n",
    "        'budget': 5,\n",
    "        'risk_factor': 0.5,\n",
    "        'confidence_level': 0.95,\n",
    "        'method': '', # 'cvar' or 'mvo', if not provided, both will be run.\n",
    "        'solver': '', # 'numpy_minimum_eigensolver', 'qaoa', 'sampling_vqe', if not provided, all will be run.\n",
    "        \n",
    "    },    \n",
    "    { # series 6 A\n",
    "        'stocks': ['ADI', 'AEP', 'CPRT', 'FTNT', 'SNOW', 'ZM', 'ABNB', 'CRWD', 'DDOG', 'DOCU'],\n",
    "        'start_date': (2018, 1, 1),\n",
    "        'end_date': (2018, 3, 1),\n",
    "        'portfolio_total_value': 1000000,\n",
    "        'budget': 5,\n",
    "        'risk_factor': 0.5,\n",
    "        'confidence_level': 0.95,\n",
    "        'method': '', # 'cvar' or 'mvo', if not provided, both will be run.\n",
    "        'solver': '', # 'numpy_minimum_eigensolver', 'qaoa', 'sampling_vqe', if not provided, all will be run.\n",
    "        \n",
    "    },\n",
    "    { # series 6 B\n",
    "        'stocks': ['ADI', 'AEP', 'CPRT', 'FTNT', 'SNOW', 'ZM', 'ABNB', 'CRWD', 'DDOG', 'DOCU'],\n",
    "        'start_date': (2018, 1, 1),\n",
    "        'end_date': (2018, 6, 1),\n",
    "        'portfolio_total_value': 1000000,\n",
    "        'budget': 5,\n",
    "        'risk_factor': 0.5,\n",
    "        'confidence_level': 0.95,\n",
    "        'method': '', # 'cvar' or 'mvo', if not provided, both will be run.\n",
    "        'solver': '', # 'numpy_minimum_eigensolver', 'qaoa', 'sampling_vqe', if not provided, all will be run.\n",
    "        \n",
    "    },\n",
    "    { # series 6 C\n",
    "        'stocks': ['ADI', 'AEP', 'CPRT', 'FTNT', 'SNOW', 'ZM', 'ABNB', 'CRWD', 'DDOG', 'DOCU'],\n",
    "        'start_date': (2018, 1, 1),\n",
    "        'end_date': (2018, 9, 1),\n",
    "        'portfolio_total_value': 1000000,\n",
    "        'budget': 5,\n",
    "        'risk_factor': 0.5,\n",
    "        'confidence_level': 0.95,\n",
    "        'method': '', # 'cvar' or 'mvo', if not provided, both will be run.\n",
    "        'solver': '', # 'numpy_minimum_eigensolver', 'qaoa', 'sampling_vqe', if not provided, all will be run.\n",
    "        \n",
    "    },\n",
    "    { # series 6 D\n",
    "        'stocks': ['ADI', 'AEP', 'CPRT', 'FTNT', 'SNOW', 'ZM', 'ABNB', 'CRWD', 'DDOG', 'DOCU'],\n",
    "        'start_date': (2018, 1, 1),\n",
    "        'end_date': (2019, 1, 1),\n",
    "        'portfolio_total_value': 1000000,\n",
    "        'budget': 5,\n",
    "        'risk_factor': 0.5,\n",
    "        'confidence_level': 0.95,\n",
    "        'method': '', # 'cvar' or 'mvo', if not provided, both will be run.\n",
    "        'solver': '', # 'numpy_minimum_eigensolver', 'qaoa', 'sampling_vqe', if not provided, all will be run.\n",
    "        \n",
    "    },\n",
    "    { # series 6 E\n",
    "        'stocks': ['AAPL', 'MSFT', 'GOOG', 'AMZN', 'NVDA', 'META', 'TSLA', 'AVGO', 'ASML', 'COST'],\n",
    "        'start_date': (2018, 1, 1),\n",
    "        'end_date': (2019, 6, 1),\n",
    "        'portfolio_total_value': 1000000,\n",
    "        'budget': 5,\n",
    "        'risk_factor': 0.5,\n",
    "        'confidence_level': 0.95,\n",
    "        'method': '', # 'cvar' or 'mvo', if not provided, both will be run.\n",
    "        'solver': '', # 'numpy_minimum_eigensolver', 'qaoa', 'sampling_vqe', if not provided, all will be run.\n",
    "        \n",
    "    },\n",
    "    { # series 6 F\n",
    "        'stocks': ['ADI', 'AEP', 'CPRT', 'FTNT', 'SNOW', 'ZM', 'ABNB', 'CRWD', 'DDOG', 'DOCU'],\n",
    "        'start_date': (2018, 1, 1),\n",
    "        'end_date': (2020, 1, 1),\n",
    "        'portfolio_total_value': 1000000,\n",
    "        'budget': 5,\n",
    "        'risk_factor': 0.5,\n",
    "        'confidence_level': 0.95,\n",
    "        'method': '', # 'cvar' or 'mvo', if not provided, both will be run.\n",
    "        'solver': '', # 'numpy_minimum_eigensolver', 'qaoa', 'sampling_vqe', if not provided, all will be run.\n",
    "        \n",
    "    },\n",
    "    { # series 6 G\n",
    "        'stocks': ['ADI', 'AEP', 'CPRT', 'FTNT', 'SNOW', 'ZM', 'ABNB', 'CRWD', 'DDOG', 'DOCU'],\n",
    "        'start_date': (2018, 1, 1),\n",
    "        'end_date': (2021, 1, 1),\n",
    "        'portfolio_total_value': 1000000,\n",
    "        'budget': 5,\n",
    "        'risk_factor': 0.5,\n",
    "        'confidence_level': 0.95,\n",
    "        'method': '', # 'cvar' or 'mvo', if not provided, both will be run.\n",
    "        'solver': '', # 'numpy_minimum_eigensolver', 'qaoa', 'sampling_vqe', if not provided, all will be run.\n",
    "        \n",
    "    },\n",
    "    { # series 6 H\n",
    "        'stocks': ['ADI', 'AEP', 'CPRT', 'FTNT', 'SNOW', 'ZM', 'ABNB', 'CRWD', 'DDOG', 'DOCU'],\n",
    "        'start_date': (2018, 1, 1),\n",
    "        'end_date': (2022, 1, 1),\n",
    "        'portfolio_total_value': 1000000,\n",
    "        'budget': 5,\n",
    "        'risk_factor': 0.5,\n",
    "        'confidence_level': 0.95,\n",
    "        'method': '', # 'cvar' or 'mvo', if not provided, both will be run.\n",
    "        'solver': '', # 'numpy_minimum_eigensolver', 'qaoa', 'sampling_vqe', if not provided, all will be run.\n",
    "        \n",
    "    },    { # series7 A\n",
    "        'stocks': ['PDD', 'RNG', 'ROKU', 'SPLK', 'TWLO', 'UBER', 'OKTA', 'ZS', 'ESTC', 'NOW'],\n",
    "        'start_date': (2018, 1, 1),\n",
    "        'end_date': (2018, 3, 1),\n",
    "        'portfolio_total_value': 1000000,\n",
    "        'budget': 5,\n",
    "        'risk_factor': 0.5,\n",
    "        'confidence_level': 0.95,\n",
    "        'method': '', # 'cvar' or 'mvo', if not provided, both will be run.\n",
    "        'solver': '', # 'numpy_minimum_eigensolver', 'qaoa', 'sampling_vqe', if not provided, all will be run.\n",
    "        \n",
    "    },\n",
    "    { # series 7 B\n",
    "        'stocks': ['PDD', 'RNG', 'ROKU', 'SPLK', 'TWLO', 'UBER', 'OKTA', 'ZS', 'ESTC', 'NOW'],\n",
    "        'start_date': (2018, 1, 1),\n",
    "        'end_date': (2018, 6, 1),\n",
    "        'portfolio_total_value': 1000000,\n",
    "        'budget': 5,\n",
    "        'risk_factor': 0.5,\n",
    "        'confidence_level': 0.95,\n",
    "        'method': '', # 'cvar' or 'mvo', if not provided, both will be run.\n",
    "        'solver': '', # 'numpy_minimum_eigensolver', 'qaoa', 'sampling_vqe', if not provided, all will be run.\n",
    "        \n",
    "    },\n",
    "    { # series 7 C\n",
    "        'stocks': ['PDD', 'RNG', 'ROKU', 'SPLK', 'TWLO', 'UBER', 'OKTA', 'ZS', 'ESTC', 'NOW'],\n",
    "        'start_date': (2018, 1, 1),\n",
    "        'end_date': (2018, 9, 1),\n",
    "        'portfolio_total_value': 1000000,\n",
    "        'budget': 5,\n",
    "        'risk_factor': 0.5,\n",
    "        'confidence_level': 0.95,\n",
    "        'method': '', # 'cvar' or 'mvo', if not provided, both will be run.\n",
    "        'solver': '', # 'numpy_minimum_eigensolver', 'qaoa', 'sampling_vqe', if not provided, all will be run.\n",
    "        \n",
    "    },\n",
    "    { # series 7 D\n",
    "        'stocks': ['PDD', 'RNG', 'ROKU', 'SPLK', 'TWLO', 'UBER', 'OKTA', 'ZS', 'ESTC', 'NOW'],\n",
    "        'start_date': (2018, 1, 1),\n",
    "        'end_date': (2019, 1, 1),\n",
    "        'portfolio_total_value': 1000000,\n",
    "        'budget': 5,\n",
    "        'risk_factor': 0.5,\n",
    "        'confidence_level': 0.95,\n",
    "        'method': '', # 'cvar' or 'mvo', if not provided, both will be run.\n",
    "        'solver': '', # 'numpy_minimum_eigensolver', 'qaoa', 'sampling_vqe', if not provided, all will be run.\n",
    "        \n",
    "    },\n",
    "    { # series 7 E\n",
    "        'stocks': ['PDD', 'RNG', 'ROKU', 'SPLK', 'TWLO', 'UBER', 'OKTA', 'ZS', 'ESTC', 'NOW'],\n",
    "        'start_date': (2018, 1, 1),\n",
    "        'end_date': (2019, 6, 1),\n",
    "        'portfolio_total_value': 1000000,\n",
    "        'budget': 5,\n",
    "        'risk_factor': 0.5,\n",
    "        'confidence_level': 0.95,\n",
    "        'method': '', # 'cvar' or 'mvo', if not provided, both will be run.\n",
    "        'solver': '', # 'numpy_minimum_eigensolver', 'qaoa', 'sampling_vqe', if not provided, all will be run.\n",
    "        \n",
    "    },\n",
    "    { # series 7 F\n",
    "        'stocks': ['PDD', 'RNG', 'ROKU', 'SPLK', 'TWLO', 'UBER', 'OKTA', 'ZS', 'ESTC', 'NOW'],\n",
    "        'start_date': (2018, 1, 1),\n",
    "        'end_date': (2020, 1, 1),\n",
    "        'portfolio_total_value': 1000000,\n",
    "        'budget': 5,\n",
    "        'risk_factor': 0.5,\n",
    "        'confidence_level': 0.95,\n",
    "        'method': '', # 'cvar' or 'mvo', if not provided, both will be run.\n",
    "        'solver': '', # 'numpy_minimum_eigensolver', 'qaoa', 'sampling_vqe', if not provided, all will be run.\n",
    "        \n",
    "    },\n",
    "    { # series 7 G\n",
    "        'stocks': ['PDD', 'RNG', 'ROKU', 'SPLK', 'TWLO', 'UBER', 'OKTA', 'ZS', 'ESTC', 'NOW'],\n",
    "        'start_date': (2018, 1, 1),\n",
    "        'end_date': (2021, 1, 1),\n",
    "        'portfolio_total_value': 1000000,\n",
    "        'budget': 5,\n",
    "        'risk_factor': 0.5,\n",
    "        'confidence_level': 0.95,\n",
    "        'method': '', # 'cvar' or 'mvo', if not provided, both will be run.\n",
    "        'solver': '', # 'numpy_minimum_eigensolver', 'qaoa', 'sampling_vqe', if not provided, all will be run.\n",
    "        \n",
    "    },\n",
    "    { # series 7 H\n",
    "        'stocks': ['PDD', 'RNG', 'ROKU', 'SPLK', 'TWLO', 'UBER', 'OKTA', 'ZS', 'ESTC', 'NOW'],\n",
    "        'start_date': (2018, 1, 1),\n",
    "        'end_date': (2022, 1, 1),\n",
    "        'portfolio_total_value': 1000000,\n",
    "        'budget': 5,\n",
    "        'risk_factor': 0.5,\n",
    "        'confidence_level': 0.95,\n",
    "        'method': '', # 'cvar' or 'mvo', if not provided, both will be run.\n",
    "        'solver': '', # 'numpy_minimum_eigensolver', 'qaoa', 'sampling_vqe', if not provided, all will be run.\n",
    "        \n",
    "    },    \n",
    "    { # series 8 A\n",
    "        'stocks': ['NET', 'U', 'BILL', 'ASAN', 'VEEV', 'DOCU', 'PTON', 'ZI', 'HOOD', 'AFRM'],\n",
    "        'start_date': (2018, 1, 1),\n",
    "        'end_date': (2018, 3, 1),\n",
    "        'portfolio_total_value': 1000000,\n",
    "        'budget': 5,\n",
    "        'risk_factor': 0.5,\n",
    "        'confidence_level': 0.95,\n",
    "        'method': '', # 'cvar' or 'mvo', if not provided, both will be run.\n",
    "        'solver': '', # 'numpy_minimum_eigensolver', 'qaoa', 'sampling_vqe', if not provided, all will be run.\n",
    "        \n",
    "    },\n",
    "    { # series 8 B\n",
    "        'stocks': ['NET', 'U', 'BILL', 'ASAN', 'VEEV', 'DOCU', 'PTON', 'ZI', 'HOOD', 'AFRM'],\n",
    "        'start_date': (2018, 1, 1),\n",
    "        'end_date': (2018, 6, 1),\n",
    "        'portfolio_total_value': 1000000,\n",
    "        'budget': 5,\n",
    "        'risk_factor': 0.5,\n",
    "        'confidence_level': 0.95,\n",
    "        'method': '', # 'cvar' or 'mvo', if not provided, both will be run.\n",
    "        'solver': '', # 'numpy_minimum_eigensolver', 'qaoa', 'sampling_vqe', if not provided, all will be run.\n",
    "        \n",
    "    },\n",
    "    { # series 8 C\n",
    "        'stocks': ['NET', 'U', 'BILL', 'ASAN', 'VEEV', 'DOCU', 'PTON', 'ZI', 'HOOD', 'AFRM'],\n",
    "        'start_date': (2018, 1, 1),\n",
    "        'end_date': (2018, 9, 1),\n",
    "        'portfolio_total_value': 1000000,\n",
    "        'budget': 5,\n",
    "        'risk_factor': 0.5,\n",
    "        'confidence_level': 0.95,\n",
    "        'method': '', # 'cvar' or 'mvo', if not provided, both will be run.\n",
    "        'solver': '', # 'numpy_minimum_eigensolver', 'qaoa', 'sampling_vqe', if not provided, all will be run.\n",
    "        \n",
    "    },\n",
    "    { # series 8 D\n",
    "        'stocks': ['NET', 'U', 'BILL', 'ASAN', 'VEEV', 'DOCU', 'PTON', 'ZI', 'HOOD', 'AFRM'],\n",
    "        'start_date': (2018, 1, 1),\n",
    "        'end_date': (2019, 1, 1),\n",
    "        'portfolio_total_value': 1000000,\n",
    "        'budget': 5,\n",
    "        'risk_factor': 0.5,\n",
    "        'confidence_level': 0.95,\n",
    "        'method': '', # 'cvar' or 'mvo', if not provided, both will be run.\n",
    "        'solver': '', # 'numpy_minimum_eigensolver', 'qaoa', 'sampling_vqe', if not provided, all will be run.\n",
    "        \n",
    "    },\n",
    "    { # series 8 E\n",
    "        'stocks': ['NET', 'U', 'BILL', 'ASAN', 'VEEV', 'DOCU', 'PTON', 'ZI', 'HOOD', 'AFRM'],\n",
    "        'start_date': (2018, 1, 1),\n",
    "        'end_date': (2019, 6, 1),\n",
    "        'portfolio_total_value': 1000000,\n",
    "        'budget': 5,\n",
    "        'risk_factor': 0.5,\n",
    "        'confidence_level': 0.95,\n",
    "        'method': '', # 'cvar' or 'mvo', if not provided, both will be run.\n",
    "        'solver': '', # 'numpy_minimum_eigensolver', 'qaoa', 'sampling_vqe', if not provided, all will be run.\n",
    "        \n",
    "    },\n",
    "    { # series 8 F\n",
    "        'stocks': ['NET', 'U', 'BILL', 'ASAN', 'VEEV', 'DOCU', 'PTON', 'ZI', 'HOOD', 'AFRM'],\n",
    "        'start_date': (2018, 1, 1),\n",
    "        'end_date': (2020, 1, 1),\n",
    "        'portfolio_total_value': 1000000,\n",
    "        'budget': 5,\n",
    "        'risk_factor': 0.5,\n",
    "        'confidence_level': 0.95,\n",
    "        'method': '', # 'cvar' or 'mvo', if not provided, both will be run.\n",
    "        'solver': '', # 'numpy_minimum_eigensolver', 'qaoa', 'sampling_vqe', if not provided, all will be run.\n",
    "        \n",
    "    },\n",
    "    { # series 8 G\n",
    "        'stocks': ['NET', 'U', 'BILL', 'ASAN', 'VEEV', 'DOCU', 'PTON', 'ZI', 'HOOD', 'AFRM'],\n",
    "        'start_date': (2018, 1, 1),\n",
    "        'end_date': (2021, 1, 1),\n",
    "        'portfolio_total_value': 1000000,\n",
    "        'budget': 5,\n",
    "        'risk_factor': 0.5,\n",
    "        'confidence_level': 0.95,\n",
    "        'method': '', # 'cvar' or 'mvo', if not provided, both will be run.\n",
    "        'solver': '', # 'numpy_minimum_eigensolver', 'qaoa', 'sampling_vqe', if not provided, all will be run.\n",
    "        \n",
    "    },\n",
    "    { # series 8 H\n",
    "        'stocks': ['NET', 'U', 'BILL', 'ASAN', 'VEEV', 'DOCU', 'PTON', 'ZI', 'HOOD', 'AFRM'],\n",
    "        'start_date': (2018, 1, 1),\n",
    "        'end_date': (2022, 1, 1),\n",
    "        'portfolio_total_value': 1000000,\n",
    "        'budget': 5,\n",
    "        'risk_factor': 0.5,\n",
    "        'confidence_level': 0.95,\n",
    "        'method': '', # 'cvar' or 'mvo', if not provided, both will be run.\n",
    "        'solver': '', # 'numpy_minimum_eigensolver', 'qaoa', 'sampling_vqe', if not provided, all will be run.\n",
    "        \n",
    "    },    \n",
    "    { # series 9 A\n",
    "        'stocks': ['PLTR', 'SNOW', 'DATA', 'PATH', 'CFLT', 'AI', 'IOT', 'HCP', 'MNDY', 'GTLB'],\n",
    "        'start_date': (2018, 1, 1),\n",
    "        'end_date': (2018, 3, 1),\n",
    "        'portfolio_total_value': 1000000,\n",
    "        'budget': 5,\n",
    "        'risk_factor': 0.5,\n",
    "        'confidence_level': 0.95,\n",
    "        'method': '', # 'cvar' or 'mvo', if not provided, both will be run.\n",
    "        'solver': '', # 'numpy_minimum_eigensolver', 'qaoa', 'sampling_vqe', if not provided, all will be run.\n",
    "        \n",
    "    },\n",
    "    { # series 9 B\n",
    "        'stocks': ['PLTR', 'SNOW', 'DATA', 'PATH', 'CFLT', 'AI', 'IOT', 'HCP', 'MNDY', 'GTLB'],\n",
    "        'start_date': (2018, 1, 1),\n",
    "        'end_date': (2018, 6, 1),\n",
    "        'portfolio_total_value': 1000000,\n",
    "        'budget': 5,\n",
    "        'risk_factor': 0.5,\n",
    "        'confidence_level': 0.95,\n",
    "        'method': '', # 'cvar' or 'mvo', if not provided, both will be run.\n",
    "        'solver': '', # 'numpy_minimum_eigensolver', 'qaoa', 'sampling_vqe', if not provided, all will be run.\n",
    "        \n",
    "    },\n",
    "    { # series 9 C\n",
    "        'stocks': ['PLTR', 'SNOW', 'DATA', 'PATH', 'CFLT', 'AI', 'IOT', 'HCP', 'MNDY', 'GTLB'],\n",
    "        'start_date': (2018, 1, 1),\n",
    "        'end_date': (2018, 9, 1),\n",
    "        'portfolio_total_value': 1000000,\n",
    "        'budget': 5,\n",
    "        'risk_factor': 0.5,\n",
    "        'confidence_level': 0.95,\n",
    "        'method': '', # 'cvar' or 'mvo', if not provided, both will be run.\n",
    "        'solver': '', # 'numpy_minimum_eigensolver', 'qaoa', 'sampling_vqe', if not provided, all will be run.\n",
    "        \n",
    "    },\n",
    "    { # series 9 D\n",
    "        'stocks': ['PLTR', 'SNOW', 'DATA', 'PATH', 'CFLT', 'AI', 'IOT', 'HCP', 'MNDY', 'GTLB'],\n",
    "        'start_date': (2018, 1, 1),\n",
    "        'end_date': (2019, 1, 1),\n",
    "        'portfolio_total_value': 1000000,\n",
    "        'budget': 5,\n",
    "        'risk_factor': 0.5,\n",
    "        'confidence_level': 0.95,\n",
    "        'method': '', # 'cvar' or 'mvo', if not provided, both will be run.\n",
    "        'solver': '', # 'numpy_minimum_eigensolver', 'qaoa', 'sampling_vqe', if not provided, all will be run.\n",
    "        \n",
    "    },\n",
    "    { # series 9 E\n",
    "        'stocks': ['PLTR', 'SNOW', 'DATA', 'PATH', 'CFLT', 'AI', 'IOT', 'HCP', 'MNDY', 'GTLB'],\n",
    "        'start_date': (2018, 1, 1),\n",
    "        'end_date': (2019, 6, 1),\n",
    "        'portfolio_total_value': 1000000,\n",
    "        'budget': 5,\n",
    "        'risk_factor': 0.5,\n",
    "        'confidence_level': 0.95,\n",
    "        'method': '', # 'cvar' or 'mvo', if not provided, both will be run.\n",
    "        'solver': '', # 'numpy_minimum_eigensolver', 'qaoa', 'sampling_vqe', if not provided, all will be run.\n",
    "        \n",
    "    },\n",
    "    { # series 9 F\n",
    "        'stocks': ['PLTR', 'SNOW', 'DATA', 'PATH', 'CFLT', 'AI', 'IOT', 'HCP', 'MNDY', 'GTLB'],\n",
    "        'start_date': (2018, 1, 1),\n",
    "        'end_date': (2020, 1, 1),\n",
    "        'portfolio_total_value': 1000000,\n",
    "        'budget': 5,\n",
    "        'risk_factor': 0.5,\n",
    "        'confidence_level': 0.95,\n",
    "        'method': '', # 'cvar' or 'mvo', if not provided, both will be run.\n",
    "        'solver': '', # 'numpy_minimum_eigensolver', 'qaoa', 'sampling_vqe', if not provided, all will be run.\n",
    "        \n",
    "    },\n",
    "    { # series 9 G\n",
    "        'stocks': ['PLTR', 'SNOW', 'DATA', 'PATH', 'CFLT', 'AI', 'IOT', 'HCP', 'MNDY', 'GTLB'],\n",
    "        'start_date': (2018, 1, 1),\n",
    "        'end_date': (2021, 1, 1),\n",
    "        'portfolio_total_value': 1000000,\n",
    "        'budget': 5,\n",
    "        'risk_factor': 0.5,\n",
    "        'confidence_level': 0.95,\n",
    "        'method': '', # 'cvar' or 'mvo', if not provided, both will be run.\n",
    "        'solver': '', # 'numpy_minimum_eigensolver', 'qaoa', 'sampling_vqe', if not provided, all will be run.\n",
    "        \n",
    "    },\n",
    "    { # series 9 H\n",
    "        'stocks': ['PLTR', 'SNOW', 'DATA', 'PATH', 'CFLT', 'AI', 'IOT', 'HCP', 'MNDY', 'GTLB'],\n",
    "        'start_date': (2018, 1, 1),\n",
    "        'end_date': (2022, 1, 1),\n",
    "        'portfolio_total_value': 1000000,\n",
    "        'budget': 5,\n",
    "        'risk_factor': 0.5,\n",
    "        'confidence_level': 0.95,\n",
    "        'method': '', # 'cvar' or 'mvo', if not provided, both will be run.\n",
    "        'solver': '', # 'numpy_minimum_eigensolver', 'qaoa', 'sampling_vqe', if not provided, all will be run.\n",
    "        \n",
    "    },    { # series 10 A\n",
    "        'stocks': ['S', 'SQSP', 'BMBL', 'DUOL', 'COUR', 'NRDS', 'HIPO', 'PRCH', 'RDFN'],\n",
    "        'start_date': (2018, 1, 1),\n",
    "        'end_date': (2018, 3, 1),\n",
    "        'portfolio_total_value': 1000000,\n",
    "        'budget': 5,\n",
    "        'risk_factor': 0.5,\n",
    "        'confidence_level': 0.95,\n",
    "        'method': '', # 'cvar' or 'mvo', if not provided, both will be run.\n",
    "        'solver': '', # 'numpy_minimum_eigensolver', 'qaoa', 'sampling_vqe', if not provided, all will be run.\n",
    "        \n",
    "    },\n",
    "    { # series 10 B\n",
    "        'stocks': ['S', 'SQSP', 'BMBL', 'DUOL', 'COUR', 'NRDS', 'HIPO', 'PRCH', 'RDFN'],\n",
    "        'start_date': (2018, 1, 1),\n",
    "        'end_date': (2018, 6, 1),\n",
    "        'portfolio_total_value': 1000000,\n",
    "        'budget': 5,\n",
    "        'risk_factor': 0.5,\n",
    "        'confidence_level': 0.95,\n",
    "        'method': '', # 'cvar' or 'mvo', if not provided, both will be run.\n",
    "        'solver': '', # 'numpy_minimum_eigensolver', 'qaoa', 'sampling_vqe', if not provided, all will be run.\n",
    "        \n",
    "    },\n",
    "    { # series 10 C\n",
    "        'stocks': ['S', 'SQSP', 'BMBL', 'DUOL', 'COUR', 'NRDS', 'HIPO', 'PRCH', 'RDFN'],\n",
    "        'start_date': (2018, 1, 1),\n",
    "        'end_date': (2018, 9, 1),\n",
    "        'portfolio_total_value': 1000000,\n",
    "        'budget': 5,\n",
    "        'risk_factor': 0.5,\n",
    "        'confidence_level': 0.95,\n",
    "        'method': '', # 'cvar' or 'mvo', if not provided, both will be run.\n",
    "        'solver': '', # 'numpy_minimum_eigensolver', 'qaoa', 'sampling_vqe', if not provided, all will be run.\n",
    "        \n",
    "    },\n",
    "    { # series 10 D\n",
    "        'stocks': ['S', 'SQSP', 'BMBL', 'DUOL', 'COUR', 'NRDS', 'HIPO', 'PRCH', 'RDFN'],\n",
    "        'start_date': (2018, 1, 1),\n",
    "        'end_date': (2019, 1, 1),\n",
    "        'portfolio_total_value': 1000000,\n",
    "        'budget': 5,\n",
    "        'risk_factor': 0.5,\n",
    "        'confidence_level': 0.95,\n",
    "        'method': '', # 'cvar' or 'mvo', if not provided, both will be run.\n",
    "        'solver': '', # 'numpy_minimum_eigensolver', 'qaoa', 'sampling_vqe', if not provided, all will be run.\n",
    "        \n",
    "    },\n",
    "    { # series 10 E\n",
    "        'stocks': ['S', 'SQSP', 'BMBL', 'DUOL', 'COUR', 'NRDS', 'HIPO', 'PRCH', 'RDFN'],\n",
    "        'start_date': (2018, 1, 1),\n",
    "        'end_date': (2019, 6, 1),\n",
    "        'portfolio_total_value': 1000000,\n",
    "        'budget': 5,\n",
    "        'risk_factor': 0.5,\n",
    "        'confidence_level': 0.95,\n",
    "        'method': '', # 'cvar' or 'mvo', if not provided, both will be run.\n",
    "        'solver': '', # 'numpy_minimum_eigensolver', 'qaoa', 'sampling_vqe', if not provided, all will be run.\n",
    "        \n",
    "    },\n",
    "    { # series 10 F\n",
    "        'stocks': ['S', 'SQSP', 'BMBL', 'DUOL', 'COUR', 'NRDS', 'HIPO', 'PRCH', 'RDFN'],\n",
    "        'start_date': (2018, 1, 1),\n",
    "        'end_date': (2020, 1, 1),\n",
    "        'portfolio_total_value': 1000000,\n",
    "        'budget': 5,\n",
    "        'risk_factor': 0.5,\n",
    "        'confidence_level': 0.95,\n",
    "        'method': '', # 'cvar' or 'mvo', if not provided, both will be run.\n",
    "        'solver': '', # 'numpy_minimum_eigensolver', 'qaoa', 'sampling_vqe', if not provided, all will be run.\n",
    "        \n",
    "    },\n",
    "    { # series 10 G\n",
    "        'stocks': ['S', 'SQSP', 'BMBL', 'DUOL', 'COUR', 'NRDS', 'HIPO', 'PRCH', 'RDFN'],\n",
    "        'start_date': (2018, 1, 1),\n",
    "        'end_date': (2021, 1, 1),\n",
    "        'portfolio_total_value': 1000000,\n",
    "        'budget': 5,\n",
    "        'risk_factor': 0.5,\n",
    "        'confidence_level': 0.95,\n",
    "        'method': '', # 'cvar' or 'mvo', if not provided, both will be run.\n",
    "        'solver': '', # 'numpy_minimum_eigensolver', 'qaoa', 'sampling_vqe', if not provided, all will be run.\n",
    "        \n",
    "    },\n",
    "    { # series 10 H\n",
    "        'stocks': ['S', 'SQSP', 'BMBL', 'DUOL', 'COUR', 'NRDS', 'HIPO', 'PRCH', 'RDFN'],\n",
    "        'start_date': (2018, 1, 1),\n",
    "        'end_date': (2022, 1, 1),\n",
    "        'portfolio_total_value': 1000000,\n",
    "        'budget': 5,\n",
    "        'risk_factor': 0.5,\n",
    "        'confidence_level': 0.95,\n",
    "        'method': '', # 'cvar' or 'mvo', if not provided, both will be run.\n",
    "        'solver': '', # 'numpy_minimum_eigensolver', 'qaoa', 'sampling_vqe', if not provided, all will be run.\n",
    "        \n",
    "    },\n",
    "]"
   ]
  },
  {
   "cell_type": "code",
   "execution_count": 3,
   "metadata": {},
   "outputs": [
    {
     "name": "stdout",
     "output_type": "stream",
     "text": [
      "Using numpy minimum eigensolver...\n"
     ]
    },
    {
     "name": "stderr",
     "output_type": "stream",
     "text": [
      "[*********************100%%**********************]  1 of 1 completed\n",
      "[*********************100%%**********************]  1 of 1 completed\n",
      "[*********************100%%**********************]  1 of 1 completed\n",
      "[*********************100%%**********************]  1 of 1 completed\n",
      "[*********************100%%**********************]  1 of 1 completed\n",
      "/home/ag/qfin/backend/scripts/portfolio_optimization/quantum_optimization/script_runner.py:128: FutureWarning: Series.__getitem__ treating keys as positions is deprecated. In a future version, integer keys will always be treated as labels (consistent with DataFrame behavior). To access a value by position, use `ser.iloc[pos]`\n",
      "  cum_ret = 100 * (portfolio_val['Total Pos'][-1] / portfolio_val['Total Pos'][0] - 1)\n",
      "[*********************100%%**********************]  1 of 1 completed\n",
      "[*********************100%%**********************]  1 of 1 completed\n",
      "[*********************100%%**********************]  1 of 1 completed\n",
      "[*********************100%%**********************]  1 of 1 completed\n",
      "[*********************100%%**********************]  1 of 1 completed\n",
      "/home/ag/qfin/backend/scripts/portfolio_optimization/quantum_optimization/script_runner.py:273: FutureWarning: Series.__getitem__ treating keys as positions is deprecated. In a future version, integer keys will always be treated as labels (consistent with DataFrame behavior). To access a value by position, use `ser.iloc[pos]`\n",
      "  cum_ret = 100 * (portfolio_val['Total Pos'][-1] / portfolio_val['Total Pos'][0] - 1)\n"
     ]
    },
    {
     "name": "stdout",
     "output_type": "stream",
     "text": [
      "Using qaoa...\n"
     ]
    },
    {
     "name": "stderr",
     "output_type": "stream",
     "text": [
      "[*********************100%%**********************]  1 of 1 completed\n",
      "[*********************100%%**********************]  1 of 1 completed\n",
      "[*********************100%%**********************]  1 of 1 completed\n",
      "[*********************100%%**********************]  1 of 1 completed\n",
      "[*********************100%%**********************]  1 of 1 completed\n",
      "/home/ag/qfin/backend/scripts/portfolio_optimization/quantum_optimization/script_runner.py:128: FutureWarning: Series.__getitem__ treating keys as positions is deprecated. In a future version, integer keys will always be treated as labels (consistent with DataFrame behavior). To access a value by position, use `ser.iloc[pos]`\n",
      "  cum_ret = 100 * (portfolio_val['Total Pos'][-1] / portfolio_val['Total Pos'][0] - 1)\n",
      "[*********************100%%**********************]  1 of 1 completed\n",
      "[*********************100%%**********************]  1 of 1 completed\n",
      "[*********************100%%**********************]  1 of 1 completed\n",
      "[*********************100%%**********************]  1 of 1 completed\n",
      "[*********************100%%**********************]  1 of 1 completed\n",
      "/home/ag/qfin/backend/scripts/portfolio_optimization/quantum_optimization/script_runner.py:273: FutureWarning: Series.__getitem__ treating keys as positions is deprecated. In a future version, integer keys will always be treated as labels (consistent with DataFrame behavior). To access a value by position, use `ser.iloc[pos]`\n",
      "  cum_ret = 100 * (portfolio_val['Total Pos'][-1] / portfolio_val['Total Pos'][0] - 1)\n"
     ]
    },
    {
     "name": "stdout",
     "output_type": "stream",
     "text": [
      "Using sampling vqe...\n"
     ]
    },
    {
     "name": "stderr",
     "output_type": "stream",
     "text": [
      "[*********************100%%**********************]  1 of 1 completed\n",
      "[*********************100%%**********************]  1 of 1 completed\n",
      "[*********************100%%**********************]  1 of 1 completed\n",
      "[*********************100%%**********************]  1 of 1 completed\n",
      "[*********************100%%**********************]  1 of 1 completed\n",
      "/home/ag/qfin/backend/scripts/portfolio_optimization/quantum_optimization/script_runner.py:128: FutureWarning: Series.__getitem__ treating keys as positions is deprecated. In a future version, integer keys will always be treated as labels (consistent with DataFrame behavior). To access a value by position, use `ser.iloc[pos]`\n",
      "  cum_ret = 100 * (portfolio_val['Total Pos'][-1] / portfolio_val['Total Pos'][0] - 1)\n",
      "[*********************100%%**********************]  1 of 1 completed\n",
      "[*********************100%%**********************]  1 of 1 completed\n",
      "[*********************100%%**********************]  1 of 1 completed\n",
      "[*********************100%%**********************]  1 of 1 completed\n",
      "[*********************100%%**********************]  1 of 1 completed\n",
      "/home/ag/qfin/backend/scripts/portfolio_optimization/quantum_optimization/script_runner.py:273: FutureWarning: Series.__getitem__ treating keys as positions is deprecated. In a future version, integer keys will always be treated as labels (consistent with DataFrame behavior). To access a value by position, use `ser.iloc[pos]`\n",
      "  cum_ret = 100 * (portfolio_val['Total Pos'][-1] / portfolio_val['Total Pos'][0] - 1)\n"
     ]
    },
    {
     "name": "stdout",
     "output_type": "stream",
     "text": [
      "Using numpy minimum eigensolver...\n"
     ]
    },
    {
     "name": "stderr",
     "output_type": "stream",
     "text": [
      "[*********************100%%**********************]  1 of 1 completed\n",
      "[*********************100%%**********************]  1 of 1 completed\n",
      "[*********************100%%**********************]  1 of 1 completed\n",
      "[*********************100%%**********************]  1 of 1 completed\n",
      "[*********************100%%**********************]  1 of 1 completed\n",
      "/home/ag/qfin/backend/scripts/portfolio_optimization/quantum_optimization/script_runner.py:128: FutureWarning: Series.__getitem__ treating keys as positions is deprecated. In a future version, integer keys will always be treated as labels (consistent with DataFrame behavior). To access a value by position, use `ser.iloc[pos]`\n",
      "  cum_ret = 100 * (portfolio_val['Total Pos'][-1] / portfolio_val['Total Pos'][0] - 1)\n",
      "[*********************100%%**********************]  1 of 1 completed\n",
      "[*********************100%%**********************]  1 of 1 completed\n",
      "[*********************100%%**********************]  1 of 1 completed\n",
      "[*********************100%%**********************]  1 of 1 completed\n",
      "[*********************100%%**********************]  1 of 1 completed\n",
      "/home/ag/qfin/backend/scripts/portfolio_optimization/quantum_optimization/script_runner.py:273: FutureWarning: Series.__getitem__ treating keys as positions is deprecated. In a future version, integer keys will always be treated as labels (consistent with DataFrame behavior). To access a value by position, use `ser.iloc[pos]`\n",
      "  cum_ret = 100 * (portfolio_val['Total Pos'][-1] / portfolio_val['Total Pos'][0] - 1)\n"
     ]
    },
    {
     "name": "stdout",
     "output_type": "stream",
     "text": [
      "Using qaoa...\n"
     ]
    },
    {
     "name": "stderr",
     "output_type": "stream",
     "text": [
      "[*********************100%%**********************]  1 of 1 completed\n",
      "[*********************100%%**********************]  1 of 1 completed\n",
      "[*********************100%%**********************]  1 of 1 completed\n",
      "[*********************100%%**********************]  1 of 1 completed\n",
      "[*********************100%%**********************]  1 of 1 completed\n",
      "/home/ag/qfin/backend/scripts/portfolio_optimization/quantum_optimization/script_runner.py:128: FutureWarning: Series.__getitem__ treating keys as positions is deprecated. In a future version, integer keys will always be treated as labels (consistent with DataFrame behavior). To access a value by position, use `ser.iloc[pos]`\n",
      "  cum_ret = 100 * (portfolio_val['Total Pos'][-1] / portfolio_val['Total Pos'][0] - 1)\n",
      "[*********************100%%**********************]  1 of 1 completed\n",
      "[*********************100%%**********************]  1 of 1 completed\n",
      "[*********************100%%**********************]  1 of 1 completed\n",
      "[*********************100%%**********************]  1 of 1 completed\n",
      "[*********************100%%**********************]  1 of 1 completed\n",
      "/home/ag/qfin/backend/scripts/portfolio_optimization/quantum_optimization/script_runner.py:273: FutureWarning: Series.__getitem__ treating keys as positions is deprecated. In a future version, integer keys will always be treated as labels (consistent with DataFrame behavior). To access a value by position, use `ser.iloc[pos]`\n",
      "  cum_ret = 100 * (portfolio_val['Total Pos'][-1] / portfolio_val['Total Pos'][0] - 1)\n"
     ]
    },
    {
     "name": "stdout",
     "output_type": "stream",
     "text": [
      "Using sampling vqe...\n"
     ]
    },
    {
     "name": "stderr",
     "output_type": "stream",
     "text": [
      "[*********************100%%**********************]  1 of 1 completed\n",
      "[*********************100%%**********************]  1 of 1 completed\n",
      "[*********************100%%**********************]  1 of 1 completed\n",
      "[*********************100%%**********************]  1 of 1 completed\n",
      "[*********************100%%**********************]  1 of 1 completed\n",
      "/home/ag/qfin/backend/scripts/portfolio_optimization/quantum_optimization/script_runner.py:128: FutureWarning: Series.__getitem__ treating keys as positions is deprecated. In a future version, integer keys will always be treated as labels (consistent with DataFrame behavior). To access a value by position, use `ser.iloc[pos]`\n",
      "  cum_ret = 100 * (portfolio_val['Total Pos'][-1] / portfolio_val['Total Pos'][0] - 1)\n",
      "[*********************100%%**********************]  1 of 1 completed\n",
      "[*********************100%%**********************]  1 of 1 completed\n",
      "[*********************100%%**********************]  1 of 1 completed\n",
      "[*********************100%%**********************]  1 of 1 completed\n",
      "[*********************100%%**********************]  1 of 1 completed\n",
      "/home/ag/qfin/backend/scripts/portfolio_optimization/quantum_optimization/script_runner.py:273: FutureWarning: Series.__getitem__ treating keys as positions is deprecated. In a future version, integer keys will always be treated as labels (consistent with DataFrame behavior). To access a value by position, use `ser.iloc[pos]`\n",
      "  cum_ret = 100 * (portfolio_val['Total Pos'][-1] / portfolio_val['Total Pos'][0] - 1)\n"
     ]
    },
    {
     "name": "stdout",
     "output_type": "stream",
     "text": [
      "Using numpy minimum eigensolver...\n"
     ]
    },
    {
     "name": "stderr",
     "output_type": "stream",
     "text": [
      "[*********************100%%**********************]  1 of 1 completed\n",
      "[*********************100%%**********************]  1 of 1 completed\n",
      "[*********************100%%**********************]  1 of 1 completed\n",
      "[*********************100%%**********************]  1 of 1 completed\n",
      "[*********************100%%**********************]  1 of 1 completed\n",
      "/home/ag/qfin/backend/scripts/portfolio_optimization/quantum_optimization/script_runner.py:128: FutureWarning: Series.__getitem__ treating keys as positions is deprecated. In a future version, integer keys will always be treated as labels (consistent with DataFrame behavior). To access a value by position, use `ser.iloc[pos]`\n",
      "  cum_ret = 100 * (portfolio_val['Total Pos'][-1] / portfolio_val['Total Pos'][0] - 1)\n",
      "[*********************100%%**********************]  1 of 1 completed\n",
      "[*********************100%%**********************]  1 of 1 completed\n",
      "[*********************100%%**********************]  1 of 1 completed\n",
      "[*********************100%%**********************]  1 of 1 completed\n",
      "[*********************100%%**********************]  1 of 1 completed\n",
      "/home/ag/qfin/backend/scripts/portfolio_optimization/quantum_optimization/script_runner.py:273: FutureWarning: Series.__getitem__ treating keys as positions is deprecated. In a future version, integer keys will always be treated as labels (consistent with DataFrame behavior). To access a value by position, use `ser.iloc[pos]`\n",
      "  cum_ret = 100 * (portfolio_val['Total Pos'][-1] / portfolio_val['Total Pos'][0] - 1)\n"
     ]
    },
    {
     "name": "stdout",
     "output_type": "stream",
     "text": [
      "Using qaoa...\n"
     ]
    },
    {
     "name": "stderr",
     "output_type": "stream",
     "text": [
      "[*********************100%%**********************]  1 of 1 completed\n",
      "[*********************100%%**********************]  1 of 1 completed\n",
      "[*********************100%%**********************]  1 of 1 completed\n",
      "[*********************100%%**********************]  1 of 1 completed\n",
      "[*********************100%%**********************]  1 of 1 completed\n",
      "/home/ag/qfin/backend/scripts/portfolio_optimization/quantum_optimization/script_runner.py:128: FutureWarning: Series.__getitem__ treating keys as positions is deprecated. In a future version, integer keys will always be treated as labels (consistent with DataFrame behavior). To access a value by position, use `ser.iloc[pos]`\n",
      "  cum_ret = 100 * (portfolio_val['Total Pos'][-1] / portfolio_val['Total Pos'][0] - 1)\n",
      "[*********************100%%**********************]  1 of 1 completed\n",
      "[*********************100%%**********************]  1 of 1 completed\n",
      "[*********************100%%**********************]  1 of 1 completed\n",
      "[*********************100%%**********************]  1 of 1 completed\n",
      "[*********************100%%**********************]  1 of 1 completed\n",
      "/home/ag/qfin/backend/scripts/portfolio_optimization/quantum_optimization/script_runner.py:273: FutureWarning: Series.__getitem__ treating keys as positions is deprecated. In a future version, integer keys will always be treated as labels (consistent with DataFrame behavior). To access a value by position, use `ser.iloc[pos]`\n",
      "  cum_ret = 100 * (portfolio_val['Total Pos'][-1] / portfolio_val['Total Pos'][0] - 1)\n"
     ]
    },
    {
     "name": "stdout",
     "output_type": "stream",
     "text": [
      "Using sampling vqe...\n"
     ]
    },
    {
     "name": "stderr",
     "output_type": "stream",
     "text": [
      "[*********************100%%**********************]  1 of 1 completed\n",
      "[*********************100%%**********************]  1 of 1 completed\n",
      "[*********************100%%**********************]  1 of 1 completed\n",
      "[*********************100%%**********************]  1 of 1 completed\n",
      "[*********************100%%**********************]  1 of 1 completed\n",
      "/home/ag/qfin/backend/scripts/portfolio_optimization/quantum_optimization/script_runner.py:128: FutureWarning: Series.__getitem__ treating keys as positions is deprecated. In a future version, integer keys will always be treated as labels (consistent with DataFrame behavior). To access a value by position, use `ser.iloc[pos]`\n",
      "  cum_ret = 100 * (portfolio_val['Total Pos'][-1] / portfolio_val['Total Pos'][0] - 1)\n",
      "[*********************100%%**********************]  1 of 1 completed\n",
      "[*********************100%%**********************]  1 of 1 completed\n",
      "[*********************100%%**********************]  1 of 1 completed\n",
      "[*********************100%%**********************]  1 of 1 completed\n",
      "[*********************100%%**********************]  1 of 1 completed\n",
      "/home/ag/qfin/backend/scripts/portfolio_optimization/quantum_optimization/script_runner.py:273: FutureWarning: Series.__getitem__ treating keys as positions is deprecated. In a future version, integer keys will always be treated as labels (consistent with DataFrame behavior). To access a value by position, use `ser.iloc[pos]`\n",
      "  cum_ret = 100 * (portfolio_val['Total Pos'][-1] / portfolio_val['Total Pos'][0] - 1)\n"
     ]
    },
    {
     "name": "stdout",
     "output_type": "stream",
     "text": [
      "Using numpy minimum eigensolver...\n"
     ]
    },
    {
     "name": "stderr",
     "output_type": "stream",
     "text": [
      "[*********************100%%**********************]  1 of 1 completed\n",
      "[*********************100%%**********************]  1 of 1 completed\n",
      "[*********************100%%**********************]  1 of 1 completed\n",
      "[*********************100%%**********************]  1 of 1 completed\n",
      "[*********************100%%**********************]  1 of 1 completed\n",
      "/home/ag/qfin/backend/scripts/portfolio_optimization/quantum_optimization/script_runner.py:128: FutureWarning: Series.__getitem__ treating keys as positions is deprecated. In a future version, integer keys will always be treated as labels (consistent with DataFrame behavior). To access a value by position, use `ser.iloc[pos]`\n",
      "  cum_ret = 100 * (portfolio_val['Total Pos'][-1] / portfolio_val['Total Pos'][0] - 1)\n",
      "[*********************100%%**********************]  1 of 1 completed\n",
      "[*********************100%%**********************]  1 of 1 completed\n",
      "[*********************100%%**********************]  1 of 1 completed\n",
      "[*********************100%%**********************]  1 of 1 completed\n",
      "[*********************100%%**********************]  1 of 1 completed\n",
      "/home/ag/qfin/backend/scripts/portfolio_optimization/quantum_optimization/script_runner.py:273: FutureWarning: Series.__getitem__ treating keys as positions is deprecated. In a future version, integer keys will always be treated as labels (consistent with DataFrame behavior). To access a value by position, use `ser.iloc[pos]`\n",
      "  cum_ret = 100 * (portfolio_val['Total Pos'][-1] / portfolio_val['Total Pos'][0] - 1)\n"
     ]
    },
    {
     "name": "stdout",
     "output_type": "stream",
     "text": [
      "Using qaoa...\n"
     ]
    },
    {
     "name": "stderr",
     "output_type": "stream",
     "text": [
      "[*********************100%%**********************]  1 of 1 completed\n",
      "[*********************100%%**********************]  1 of 1 completed\n",
      "[*********************100%%**********************]  1 of 1 completed\n",
      "[*********************100%%**********************]  1 of 1 completed\n",
      "[*********************100%%**********************]  1 of 1 completed\n",
      "/home/ag/qfin/backend/scripts/portfolio_optimization/quantum_optimization/script_runner.py:128: FutureWarning: Series.__getitem__ treating keys as positions is deprecated. In a future version, integer keys will always be treated as labels (consistent with DataFrame behavior). To access a value by position, use `ser.iloc[pos]`\n",
      "  cum_ret = 100 * (portfolio_val['Total Pos'][-1] / portfolio_val['Total Pos'][0] - 1)\n",
      "[*********************100%%**********************]  1 of 1 completed\n",
      "[*********************100%%**********************]  1 of 1 completed\n",
      "[*********************100%%**********************]  1 of 1 completed\n",
      "[*********************100%%**********************]  1 of 1 completed\n",
      "[*********************100%%**********************]  1 of 1 completed\n",
      "/home/ag/qfin/backend/scripts/portfolio_optimization/quantum_optimization/script_runner.py:273: FutureWarning: Series.__getitem__ treating keys as positions is deprecated. In a future version, integer keys will always be treated as labels (consistent with DataFrame behavior). To access a value by position, use `ser.iloc[pos]`\n",
      "  cum_ret = 100 * (portfolio_val['Total Pos'][-1] / portfolio_val['Total Pos'][0] - 1)\n"
     ]
    },
    {
     "name": "stdout",
     "output_type": "stream",
     "text": [
      "Using sampling vqe...\n"
     ]
    },
    {
     "name": "stderr",
     "output_type": "stream",
     "text": [
      "[*********************100%%**********************]  1 of 1 completed\n",
      "[*********************100%%**********************]  1 of 1 completed\n",
      "[*********************100%%**********************]  1 of 1 completed\n",
      "[*********************100%%**********************]  1 of 1 completed\n",
      "[*********************100%%**********************]  1 of 1 completed\n",
      "/home/ag/qfin/backend/scripts/portfolio_optimization/quantum_optimization/script_runner.py:128: FutureWarning: Series.__getitem__ treating keys as positions is deprecated. In a future version, integer keys will always be treated as labels (consistent with DataFrame behavior). To access a value by position, use `ser.iloc[pos]`\n",
      "  cum_ret = 100 * (portfolio_val['Total Pos'][-1] / portfolio_val['Total Pos'][0] - 1)\n",
      "[*********************100%%**********************]  1 of 1 completed\n",
      "[*********************100%%**********************]  1 of 1 completed\n",
      "[*********************100%%**********************]  1 of 1 completed\n",
      "[*********************100%%**********************]  1 of 1 completed\n",
      "[*********************100%%**********************]  1 of 1 completed\n",
      "/home/ag/qfin/backend/scripts/portfolio_optimization/quantum_optimization/script_runner.py:273: FutureWarning: Series.__getitem__ treating keys as positions is deprecated. In a future version, integer keys will always be treated as labels (consistent with DataFrame behavior). To access a value by position, use `ser.iloc[pos]`\n",
      "  cum_ret = 100 * (portfolio_val['Total Pos'][-1] / portfolio_val['Total Pos'][0] - 1)\n"
     ]
    },
    {
     "name": "stdout",
     "output_type": "stream",
     "text": [
      "Using numpy minimum eigensolver...\n"
     ]
    },
    {
     "name": "stderr",
     "output_type": "stream",
     "text": [
      "[*********************100%%**********************]  1 of 1 completed\n",
      "[*********************100%%**********************]  1 of 1 completed\n",
      "[*********************100%%**********************]  1 of 1 completed\n",
      "[*********************100%%**********************]  1 of 1 completed\n",
      "[*********************100%%**********************]  1 of 1 completed\n",
      "/home/ag/qfin/backend/scripts/portfolio_optimization/quantum_optimization/script_runner.py:128: FutureWarning: Series.__getitem__ treating keys as positions is deprecated. In a future version, integer keys will always be treated as labels (consistent with DataFrame behavior). To access a value by position, use `ser.iloc[pos]`\n",
      "  cum_ret = 100 * (portfolio_val['Total Pos'][-1] / portfolio_val['Total Pos'][0] - 1)\n",
      "[*********************100%%**********************]  1 of 1 completed\n",
      "[*********************100%%**********************]  1 of 1 completed\n",
      "[*********************100%%**********************]  1 of 1 completed\n",
      "[*********************100%%**********************]  1 of 1 completed\n",
      "[*********************100%%**********************]  1 of 1 completed\n",
      "/home/ag/qfin/backend/scripts/portfolio_optimization/quantum_optimization/script_runner.py:273: FutureWarning: Series.__getitem__ treating keys as positions is deprecated. In a future version, integer keys will always be treated as labels (consistent with DataFrame behavior). To access a value by position, use `ser.iloc[pos]`\n",
      "  cum_ret = 100 * (portfolio_val['Total Pos'][-1] / portfolio_val['Total Pos'][0] - 1)\n"
     ]
    },
    {
     "name": "stdout",
     "output_type": "stream",
     "text": [
      "Using qaoa...\n"
     ]
    },
    {
     "name": "stderr",
     "output_type": "stream",
     "text": [
      "[*********************100%%**********************]  1 of 1 completed\n",
      "[*********************100%%**********************]  1 of 1 completed\n",
      "[*********************100%%**********************]  1 of 1 completed\n",
      "[*********************100%%**********************]  1 of 1 completed\n",
      "[*********************100%%**********************]  1 of 1 completed\n",
      "/home/ag/qfin/backend/scripts/portfolio_optimization/quantum_optimization/script_runner.py:128: FutureWarning: Series.__getitem__ treating keys as positions is deprecated. In a future version, integer keys will always be treated as labels (consistent with DataFrame behavior). To access a value by position, use `ser.iloc[pos]`\n",
      "  cum_ret = 100 * (portfolio_val['Total Pos'][-1] / portfolio_val['Total Pos'][0] - 1)\n",
      "[*********************100%%**********************]  1 of 1 completed\n",
      "[*********************100%%**********************]  1 of 1 completed\n",
      "[*********************100%%**********************]  1 of 1 completed\n",
      "[*********************100%%**********************]  1 of 1 completed\n",
      "[*********************100%%**********************]  1 of 1 completed\n",
      "/home/ag/qfin/backend/scripts/portfolio_optimization/quantum_optimization/script_runner.py:273: FutureWarning: Series.__getitem__ treating keys as positions is deprecated. In a future version, integer keys will always be treated as labels (consistent with DataFrame behavior). To access a value by position, use `ser.iloc[pos]`\n",
      "  cum_ret = 100 * (portfolio_val['Total Pos'][-1] / portfolio_val['Total Pos'][0] - 1)\n"
     ]
    },
    {
     "name": "stdout",
     "output_type": "stream",
     "text": [
      "Using sampling vqe...\n"
     ]
    },
    {
     "name": "stderr",
     "output_type": "stream",
     "text": [
      "[*********************100%%**********************]  1 of 1 completed\n",
      "[*********************100%%**********************]  1 of 1 completed\n",
      "[*********************100%%**********************]  1 of 1 completed\n",
      "[*********************100%%**********************]  1 of 1 completed\n",
      "[*********************100%%**********************]  1 of 1 completed\n",
      "/home/ag/qfin/backend/scripts/portfolio_optimization/quantum_optimization/script_runner.py:128: FutureWarning: Series.__getitem__ treating keys as positions is deprecated. In a future version, integer keys will always be treated as labels (consistent with DataFrame behavior). To access a value by position, use `ser.iloc[pos]`\n",
      "  cum_ret = 100 * (portfolio_val['Total Pos'][-1] / portfolio_val['Total Pos'][0] - 1)\n",
      "[*********************100%%**********************]  1 of 1 completed\n",
      "[*********************100%%**********************]  1 of 1 completed\n",
      "[*********************100%%**********************]  1 of 1 completed\n",
      "[*********************100%%**********************]  1 of 1 completed\n",
      "[*********************100%%**********************]  1 of 1 completed\n",
      "/home/ag/qfin/backend/scripts/portfolio_optimization/quantum_optimization/script_runner.py:273: FutureWarning: Series.__getitem__ treating keys as positions is deprecated. In a future version, integer keys will always be treated as labels (consistent with DataFrame behavior). To access a value by position, use `ser.iloc[pos]`\n",
      "  cum_ret = 100 * (portfolio_val['Total Pos'][-1] / portfolio_val['Total Pos'][0] - 1)\n"
     ]
    },
    {
     "name": "stdout",
     "output_type": "stream",
     "text": [
      "Using numpy minimum eigensolver...\n"
     ]
    },
    {
     "name": "stderr",
     "output_type": "stream",
     "text": [
      "[*********************100%%**********************]  1 of 1 completed\n",
      "[*********************100%%**********************]  1 of 1 completed\n",
      "[*********************100%%**********************]  1 of 1 completed\n",
      "[*********************100%%**********************]  1 of 1 completed\n",
      "[*********************100%%**********************]  1 of 1 completed\n",
      "/home/ag/qfin/backend/scripts/portfolio_optimization/quantum_optimization/script_runner.py:128: FutureWarning: Series.__getitem__ treating keys as positions is deprecated. In a future version, integer keys will always be treated as labels (consistent with DataFrame behavior). To access a value by position, use `ser.iloc[pos]`\n",
      "  cum_ret = 100 * (portfolio_val['Total Pos'][-1] / portfolio_val['Total Pos'][0] - 1)\n",
      "[*********************100%%**********************]  1 of 1 completed\n",
      "[*********************100%%**********************]  1 of 1 completed\n",
      "[*********************100%%**********************]  1 of 1 completed\n",
      "[*********************100%%**********************]  1 of 1 completed\n",
      "[*********************100%%**********************]  1 of 1 completed\n",
      "/home/ag/qfin/backend/scripts/portfolio_optimization/quantum_optimization/script_runner.py:273: FutureWarning: Series.__getitem__ treating keys as positions is deprecated. In a future version, integer keys will always be treated as labels (consistent with DataFrame behavior). To access a value by position, use `ser.iloc[pos]`\n",
      "  cum_ret = 100 * (portfolio_val['Total Pos'][-1] / portfolio_val['Total Pos'][0] - 1)\n"
     ]
    },
    {
     "name": "stdout",
     "output_type": "stream",
     "text": [
      "Using qaoa...\n"
     ]
    },
    {
     "name": "stderr",
     "output_type": "stream",
     "text": [
      "[*********************100%%**********************]  1 of 1 completed\n",
      "[*********************100%%**********************]  1 of 1 completed\n",
      "[*********************100%%**********************]  1 of 1 completed\n",
      "[*********************100%%**********************]  1 of 1 completed\n",
      "[*********************100%%**********************]  1 of 1 completed\n",
      "/home/ag/qfin/backend/scripts/portfolio_optimization/quantum_optimization/script_runner.py:128: FutureWarning: Series.__getitem__ treating keys as positions is deprecated. In a future version, integer keys will always be treated as labels (consistent with DataFrame behavior). To access a value by position, use `ser.iloc[pos]`\n",
      "  cum_ret = 100 * (portfolio_val['Total Pos'][-1] / portfolio_val['Total Pos'][0] - 1)\n",
      "[*********************100%%**********************]  1 of 1 completed\n",
      "[*********************100%%**********************]  1 of 1 completed\n",
      "[*********************100%%**********************]  1 of 1 completed\n",
      "[*********************100%%**********************]  1 of 1 completed\n",
      "[*********************100%%**********************]  1 of 1 completed\n",
      "/home/ag/qfin/backend/scripts/portfolio_optimization/quantum_optimization/script_runner.py:273: FutureWarning: Series.__getitem__ treating keys as positions is deprecated. In a future version, integer keys will always be treated as labels (consistent with DataFrame behavior). To access a value by position, use `ser.iloc[pos]`\n",
      "  cum_ret = 100 * (portfolio_val['Total Pos'][-1] / portfolio_val['Total Pos'][0] - 1)\n"
     ]
    },
    {
     "name": "stdout",
     "output_type": "stream",
     "text": [
      "Using sampling vqe...\n"
     ]
    },
    {
     "name": "stderr",
     "output_type": "stream",
     "text": [
      "[*********************100%%**********************]  1 of 1 completed\n",
      "[*********************100%%**********************]  1 of 1 completed\n",
      "[*********************100%%**********************]  1 of 1 completed\n",
      "[*********************100%%**********************]  1 of 1 completed\n",
      "[*********************100%%**********************]  1 of 1 completed\n",
      "/home/ag/qfin/backend/scripts/portfolio_optimization/quantum_optimization/script_runner.py:128: FutureWarning: Series.__getitem__ treating keys as positions is deprecated. In a future version, integer keys will always be treated as labels (consistent with DataFrame behavior). To access a value by position, use `ser.iloc[pos]`\n",
      "  cum_ret = 100 * (portfolio_val['Total Pos'][-1] / portfolio_val['Total Pos'][0] - 1)\n",
      "[*********************100%%**********************]  1 of 1 completed\n",
      "[*********************100%%**********************]  1 of 1 completed\n",
      "[*********************100%%**********************]  1 of 1 completed\n",
      "[*********************100%%**********************]  1 of 1 completed\n",
      "[*********************100%%**********************]  1 of 1 completed\n",
      "/home/ag/qfin/backend/scripts/portfolio_optimization/quantum_optimization/script_runner.py:273: FutureWarning: Series.__getitem__ treating keys as positions is deprecated. In a future version, integer keys will always be treated as labels (consistent with DataFrame behavior). To access a value by position, use `ser.iloc[pos]`\n",
      "  cum_ret = 100 * (portfolio_val['Total Pos'][-1] / portfolio_val['Total Pos'][0] - 1)\n"
     ]
    },
    {
     "name": "stdout",
     "output_type": "stream",
     "text": [
      "Using numpy minimum eigensolver...\n"
     ]
    },
    {
     "name": "stderr",
     "output_type": "stream",
     "text": [
      "[*********************100%%**********************]  1 of 1 completed\n",
      "[*********************100%%**********************]  1 of 1 completed\n",
      "[*********************100%%**********************]  1 of 1 completed\n",
      "[*********************100%%**********************]  1 of 1 completed\n",
      "[*********************100%%**********************]  1 of 1 completed\n",
      "/home/ag/qfin/backend/scripts/portfolio_optimization/quantum_optimization/script_runner.py:128: FutureWarning: Series.__getitem__ treating keys as positions is deprecated. In a future version, integer keys will always be treated as labels (consistent with DataFrame behavior). To access a value by position, use `ser.iloc[pos]`\n",
      "  cum_ret = 100 * (portfolio_val['Total Pos'][-1] / portfolio_val['Total Pos'][0] - 1)\n",
      "[*********************100%%**********************]  1 of 1 completed\n",
      "[*********************100%%**********************]  1 of 1 completed\n",
      "[*********************100%%**********************]  1 of 1 completed\n",
      "[*********************100%%**********************]  1 of 1 completed\n",
      "[*********************100%%**********************]  1 of 1 completed\n",
      "/home/ag/qfin/backend/scripts/portfolio_optimization/quantum_optimization/script_runner.py:273: FutureWarning: Series.__getitem__ treating keys as positions is deprecated. In a future version, integer keys will always be treated as labels (consistent with DataFrame behavior). To access a value by position, use `ser.iloc[pos]`\n",
      "  cum_ret = 100 * (portfolio_val['Total Pos'][-1] / portfolio_val['Total Pos'][0] - 1)\n"
     ]
    },
    {
     "name": "stdout",
     "output_type": "stream",
     "text": [
      "Using qaoa...\n"
     ]
    },
    {
     "name": "stderr",
     "output_type": "stream",
     "text": [
      "[*********************100%%**********************]  1 of 1 completed\n",
      "[*********************100%%**********************]  1 of 1 completed\n",
      "[*********************100%%**********************]  1 of 1 completed\n",
      "[*********************100%%**********************]  1 of 1 completed\n",
      "[*********************100%%**********************]  1 of 1 completed\n",
      "/home/ag/qfin/backend/scripts/portfolio_optimization/quantum_optimization/script_runner.py:128: FutureWarning: Series.__getitem__ treating keys as positions is deprecated. In a future version, integer keys will always be treated as labels (consistent with DataFrame behavior). To access a value by position, use `ser.iloc[pos]`\n",
      "  cum_ret = 100 * (portfolio_val['Total Pos'][-1] / portfolio_val['Total Pos'][0] - 1)\n",
      "[*********************100%%**********************]  1 of 1 completed\n",
      "[*********************100%%**********************]  1 of 1 completed\n",
      "[*********************100%%**********************]  1 of 1 completed\n",
      "[*********************100%%**********************]  1 of 1 completed\n",
      "[*********************100%%**********************]  1 of 1 completed\n",
      "/home/ag/qfin/backend/scripts/portfolio_optimization/quantum_optimization/script_runner.py:273: FutureWarning: Series.__getitem__ treating keys as positions is deprecated. In a future version, integer keys will always be treated as labels (consistent with DataFrame behavior). To access a value by position, use `ser.iloc[pos]`\n",
      "  cum_ret = 100 * (portfolio_val['Total Pos'][-1] / portfolio_val['Total Pos'][0] - 1)\n"
     ]
    },
    {
     "name": "stdout",
     "output_type": "stream",
     "text": [
      "Using sampling vqe...\n"
     ]
    },
    {
     "name": "stderr",
     "output_type": "stream",
     "text": [
      "[*********************100%%**********************]  1 of 1 completed\n",
      "[*********************100%%**********************]  1 of 1 completed\n",
      "[*********************100%%**********************]  1 of 1 completed\n",
      "[*********************100%%**********************]  1 of 1 completed\n",
      "[*********************100%%**********************]  1 of 1 completed\n",
      "/home/ag/qfin/backend/scripts/portfolio_optimization/quantum_optimization/script_runner.py:128: FutureWarning: Series.__getitem__ treating keys as positions is deprecated. In a future version, integer keys will always be treated as labels (consistent with DataFrame behavior). To access a value by position, use `ser.iloc[pos]`\n",
      "  cum_ret = 100 * (portfolio_val['Total Pos'][-1] / portfolio_val['Total Pos'][0] - 1)\n",
      "[*********************100%%**********************]  1 of 1 completed\n",
      "[*********************100%%**********************]  1 of 1 completed\n",
      "[*********************100%%**********************]  1 of 1 completed\n",
      "[*********************100%%**********************]  1 of 1 completed\n",
      "[*********************100%%**********************]  1 of 1 completed\n",
      "/home/ag/qfin/backend/scripts/portfolio_optimization/quantum_optimization/script_runner.py:273: FutureWarning: Series.__getitem__ treating keys as positions is deprecated. In a future version, integer keys will always be treated as labels (consistent with DataFrame behavior). To access a value by position, use `ser.iloc[pos]`\n",
      "  cum_ret = 100 * (portfolio_val['Total Pos'][-1] / portfolio_val['Total Pos'][0] - 1)\n"
     ]
    },
    {
     "name": "stdout",
     "output_type": "stream",
     "text": [
      "Using numpy minimum eigensolver...\n"
     ]
    },
    {
     "name": "stderr",
     "output_type": "stream",
     "text": [
      "[*********************100%%**********************]  1 of 1 completed\n",
      "[*********************100%%**********************]  1 of 1 completed\n",
      "[*********************100%%**********************]  1 of 1 completed\n",
      "[*********************100%%**********************]  1 of 1 completed\n",
      "[*********************100%%**********************]  1 of 1 completed\n",
      "/home/ag/qfin/backend/scripts/portfolio_optimization/quantum_optimization/script_runner.py:128: FutureWarning: Series.__getitem__ treating keys as positions is deprecated. In a future version, integer keys will always be treated as labels (consistent with DataFrame behavior). To access a value by position, use `ser.iloc[pos]`\n",
      "  cum_ret = 100 * (portfolio_val['Total Pos'][-1] / portfolio_val['Total Pos'][0] - 1)\n",
      "[*********************100%%**********************]  1 of 1 completed\n",
      "[*********************100%%**********************]  1 of 1 completed\n",
      "[*********************100%%**********************]  1 of 1 completed\n",
      "[*********************100%%**********************]  1 of 1 completed\n",
      "[*********************100%%**********************]  1 of 1 completed\n",
      "/home/ag/qfin/backend/scripts/portfolio_optimization/quantum_optimization/script_runner.py:273: FutureWarning: Series.__getitem__ treating keys as positions is deprecated. In a future version, integer keys will always be treated as labels (consistent with DataFrame behavior). To access a value by position, use `ser.iloc[pos]`\n",
      "  cum_ret = 100 * (portfolio_val['Total Pos'][-1] / portfolio_val['Total Pos'][0] - 1)\n"
     ]
    },
    {
     "name": "stdout",
     "output_type": "stream",
     "text": [
      "Using qaoa...\n"
     ]
    },
    {
     "name": "stderr",
     "output_type": "stream",
     "text": [
      "[*********************100%%**********************]  1 of 1 completed\n",
      "[*********************100%%**********************]  1 of 1 completed\n",
      "[*********************100%%**********************]  1 of 1 completed\n",
      "[*********************100%%**********************]  1 of 1 completed\n",
      "[*********************100%%**********************]  1 of 1 completed\n",
      "/home/ag/qfin/backend/scripts/portfolio_optimization/quantum_optimization/script_runner.py:128: FutureWarning: Series.__getitem__ treating keys as positions is deprecated. In a future version, integer keys will always be treated as labels (consistent with DataFrame behavior). To access a value by position, use `ser.iloc[pos]`\n",
      "  cum_ret = 100 * (portfolio_val['Total Pos'][-1] / portfolio_val['Total Pos'][0] - 1)\n",
      "[*********************100%%**********************]  1 of 1 completed\n",
      "[*********************100%%**********************]  1 of 1 completed\n",
      "[*********************100%%**********************]  1 of 1 completed\n",
      "[*********************100%%**********************]  1 of 1 completed\n",
      "[*********************100%%**********************]  1 of 1 completed\n",
      "/home/ag/qfin/backend/scripts/portfolio_optimization/quantum_optimization/script_runner.py:273: FutureWarning: Series.__getitem__ treating keys as positions is deprecated. In a future version, integer keys will always be treated as labels (consistent with DataFrame behavior). To access a value by position, use `ser.iloc[pos]`\n",
      "  cum_ret = 100 * (portfolio_val['Total Pos'][-1] / portfolio_val['Total Pos'][0] - 1)\n"
     ]
    },
    {
     "name": "stdout",
     "output_type": "stream",
     "text": [
      "Using sampling vqe...\n"
     ]
    },
    {
     "name": "stderr",
     "output_type": "stream",
     "text": [
      "[*********************100%%**********************]  1 of 1 completed\n",
      "[*********************100%%**********************]  1 of 1 completed\n",
      "[*********************100%%**********************]  1 of 1 completed\n",
      "[*********************100%%**********************]  1 of 1 completed\n",
      "[*********************100%%**********************]  1 of 1 completed\n",
      "/home/ag/qfin/backend/scripts/portfolio_optimization/quantum_optimization/script_runner.py:128: FutureWarning: Series.__getitem__ treating keys as positions is deprecated. In a future version, integer keys will always be treated as labels (consistent with DataFrame behavior). To access a value by position, use `ser.iloc[pos]`\n",
      "  cum_ret = 100 * (portfolio_val['Total Pos'][-1] / portfolio_val['Total Pos'][0] - 1)\n",
      "[*********************100%%**********************]  1 of 1 completed\n",
      "[*********************100%%**********************]  1 of 1 completed\n",
      "[*********************100%%**********************]  1 of 1 completed\n",
      "[*********************100%%**********************]  1 of 1 completed\n",
      "[*********************100%%**********************]  1 of 1 completed\n",
      "/home/ag/qfin/backend/scripts/portfolio_optimization/quantum_optimization/script_runner.py:273: FutureWarning: Series.__getitem__ treating keys as positions is deprecated. In a future version, integer keys will always be treated as labels (consistent with DataFrame behavior). To access a value by position, use `ser.iloc[pos]`\n",
      "  cum_ret = 100 * (portfolio_val['Total Pos'][-1] / portfolio_val['Total Pos'][0] - 1)\n"
     ]
    },
    {
     "name": "stdout",
     "output_type": "stream",
     "text": [
      "Using numpy minimum eigensolver...\n"
     ]
    },
    {
     "name": "stderr",
     "output_type": "stream",
     "text": [
      "[*********************100%%**********************]  1 of 1 completed\n",
      "[*********************100%%**********************]  1 of 1 completed\n",
      "[*********************100%%**********************]  1 of 1 completed\n",
      "[*********************100%%**********************]  1 of 1 completed\n",
      "[*********************100%%**********************]  1 of 1 completed\n",
      "/home/ag/qfin/backend/scripts/portfolio_optimization/quantum_optimization/script_runner.py:128: FutureWarning: Series.__getitem__ treating keys as positions is deprecated. In a future version, integer keys will always be treated as labels (consistent with DataFrame behavior). To access a value by position, use `ser.iloc[pos]`\n",
      "  cum_ret = 100 * (portfolio_val['Total Pos'][-1] / portfolio_val['Total Pos'][0] - 1)\n",
      "[*********************100%%**********************]  1 of 1 completed\n",
      "[*********************100%%**********************]  1 of 1 completed\n",
      "[*********************100%%**********************]  1 of 1 completed\n",
      "[*********************100%%**********************]  1 of 1 completed\n",
      "[*********************100%%**********************]  1 of 1 completed\n",
      "/home/ag/qfin/backend/scripts/portfolio_optimization/quantum_optimization/script_runner.py:273: FutureWarning: Series.__getitem__ treating keys as positions is deprecated. In a future version, integer keys will always be treated as labels (consistent with DataFrame behavior). To access a value by position, use `ser.iloc[pos]`\n",
      "  cum_ret = 100 * (portfolio_val['Total Pos'][-1] / portfolio_val['Total Pos'][0] - 1)\n"
     ]
    },
    {
     "name": "stdout",
     "output_type": "stream",
     "text": [
      "Using qaoa...\n"
     ]
    },
    {
     "name": "stderr",
     "output_type": "stream",
     "text": [
      "[*********************100%%**********************]  1 of 1 completed\n",
      "[*********************100%%**********************]  1 of 1 completed\n",
      "[*********************100%%**********************]  1 of 1 completed\n",
      "[*********************100%%**********************]  1 of 1 completed\n",
      "[*********************100%%**********************]  1 of 1 completed\n",
      "/home/ag/qfin/backend/scripts/portfolio_optimization/quantum_optimization/script_runner.py:128: FutureWarning: Series.__getitem__ treating keys as positions is deprecated. In a future version, integer keys will always be treated as labels (consistent with DataFrame behavior). To access a value by position, use `ser.iloc[pos]`\n",
      "  cum_ret = 100 * (portfolio_val['Total Pos'][-1] / portfolio_val['Total Pos'][0] - 1)\n",
      "[*********************100%%**********************]  1 of 1 completed\n",
      "[*********************100%%**********************]  1 of 1 completed\n",
      "[*********************100%%**********************]  1 of 1 completed\n",
      "[*********************100%%**********************]  1 of 1 completed\n",
      "[*********************100%%**********************]  1 of 1 completed\n",
      "/home/ag/qfin/backend/scripts/portfolio_optimization/quantum_optimization/script_runner.py:273: FutureWarning: Series.__getitem__ treating keys as positions is deprecated. In a future version, integer keys will always be treated as labels (consistent with DataFrame behavior). To access a value by position, use `ser.iloc[pos]`\n",
      "  cum_ret = 100 * (portfolio_val['Total Pos'][-1] / portfolio_val['Total Pos'][0] - 1)\n"
     ]
    },
    {
     "name": "stdout",
     "output_type": "stream",
     "text": [
      "Using sampling vqe...\n"
     ]
    },
    {
     "name": "stderr",
     "output_type": "stream",
     "text": [
      "[*********************100%%**********************]  1 of 1 completed\n",
      "[*********************100%%**********************]  1 of 1 completed\n",
      "[*********************100%%**********************]  1 of 1 completed\n",
      "[*********************100%%**********************]  1 of 1 completed\n",
      "[*********************100%%**********************]  1 of 1 completed\n",
      "/home/ag/qfin/backend/scripts/portfolio_optimization/quantum_optimization/script_runner.py:128: FutureWarning: Series.__getitem__ treating keys as positions is deprecated. In a future version, integer keys will always be treated as labels (consistent with DataFrame behavior). To access a value by position, use `ser.iloc[pos]`\n",
      "  cum_ret = 100 * (portfolio_val['Total Pos'][-1] / portfolio_val['Total Pos'][0] - 1)\n",
      "[*********************100%%**********************]  1 of 1 completed\n",
      "[*********************100%%**********************]  1 of 1 completed\n",
      "[*********************100%%**********************]  1 of 1 completed\n",
      "[*********************100%%**********************]  1 of 1 completed\n",
      "[*********************100%%**********************]  1 of 1 completed\n",
      "/home/ag/qfin/backend/scripts/portfolio_optimization/quantum_optimization/script_runner.py:273: FutureWarning: Series.__getitem__ treating keys as positions is deprecated. In a future version, integer keys will always be treated as labels (consistent with DataFrame behavior). To access a value by position, use `ser.iloc[pos]`\n",
      "  cum_ret = 100 * (portfolio_val['Total Pos'][-1] / portfolio_val['Total Pos'][0] - 1)\n"
     ]
    },
    {
     "name": "stdout",
     "output_type": "stream",
     "text": [
      "Using numpy minimum eigensolver...\n"
     ]
    },
    {
     "name": "stderr",
     "output_type": "stream",
     "text": [
      "[*********************100%%**********************]  1 of 1 completed\n",
      "[*********************100%%**********************]  1 of 1 completed\n",
      "[*********************100%%**********************]  1 of 1 completed\n",
      "[*********************100%%**********************]  1 of 1 completed\n",
      "[*********************100%%**********************]  1 of 1 completed\n",
      "/home/ag/qfin/backend/scripts/portfolio_optimization/quantum_optimization/script_runner.py:128: FutureWarning: Series.__getitem__ treating keys as positions is deprecated. In a future version, integer keys will always be treated as labels (consistent with DataFrame behavior). To access a value by position, use `ser.iloc[pos]`\n",
      "  cum_ret = 100 * (portfolio_val['Total Pos'][-1] / portfolio_val['Total Pos'][0] - 1)\n",
      "[*********************100%%**********************]  1 of 1 completed\n",
      "[*********************100%%**********************]  1 of 1 completed\n",
      "[*********************100%%**********************]  1 of 1 completed\n",
      "[*********************100%%**********************]  1 of 1 completed\n",
      "[*********************100%%**********************]  1 of 1 completed\n",
      "/home/ag/qfin/backend/scripts/portfolio_optimization/quantum_optimization/script_runner.py:273: FutureWarning: Series.__getitem__ treating keys as positions is deprecated. In a future version, integer keys will always be treated as labels (consistent with DataFrame behavior). To access a value by position, use `ser.iloc[pos]`\n",
      "  cum_ret = 100 * (portfolio_val['Total Pos'][-1] / portfolio_val['Total Pos'][0] - 1)\n"
     ]
    },
    {
     "name": "stdout",
     "output_type": "stream",
     "text": [
      "Using qaoa...\n"
     ]
    },
    {
     "name": "stderr",
     "output_type": "stream",
     "text": [
      "[*********************100%%**********************]  1 of 1 completed\n",
      "[*********************100%%**********************]  1 of 1 completed\n",
      "[*********************100%%**********************]  1 of 1 completed\n",
      "[*********************100%%**********************]  1 of 1 completed\n",
      "[*********************100%%**********************]  1 of 1 completed\n",
      "/home/ag/qfin/backend/scripts/portfolio_optimization/quantum_optimization/script_runner.py:128: FutureWarning: Series.__getitem__ treating keys as positions is deprecated. In a future version, integer keys will always be treated as labels (consistent with DataFrame behavior). To access a value by position, use `ser.iloc[pos]`\n",
      "  cum_ret = 100 * (portfolio_val['Total Pos'][-1] / portfolio_val['Total Pos'][0] - 1)\n",
      "[*********************100%%**********************]  1 of 1 completed\n",
      "[*********************100%%**********************]  1 of 1 completed\n",
      "[*********************100%%**********************]  1 of 1 completed\n",
      "[*********************100%%**********************]  1 of 1 completed\n",
      "[*********************100%%**********************]  1 of 1 completed\n",
      "/home/ag/qfin/backend/scripts/portfolio_optimization/quantum_optimization/script_runner.py:273: FutureWarning: Series.__getitem__ treating keys as positions is deprecated. In a future version, integer keys will always be treated as labels (consistent with DataFrame behavior). To access a value by position, use `ser.iloc[pos]`\n",
      "  cum_ret = 100 * (portfolio_val['Total Pos'][-1] / portfolio_val['Total Pos'][0] - 1)\n"
     ]
    },
    {
     "name": "stdout",
     "output_type": "stream",
     "text": [
      "Using sampling vqe...\n"
     ]
    },
    {
     "name": "stderr",
     "output_type": "stream",
     "text": [
      "[*********************100%%**********************]  1 of 1 completed\n",
      "[*********************100%%**********************]  1 of 1 completed\n",
      "[*********************100%%**********************]  1 of 1 completed\n",
      "[*********************100%%**********************]  1 of 1 completed\n",
      "[*********************100%%**********************]  1 of 1 completed\n",
      "/home/ag/qfin/backend/scripts/portfolio_optimization/quantum_optimization/script_runner.py:128: FutureWarning: Series.__getitem__ treating keys as positions is deprecated. In a future version, integer keys will always be treated as labels (consistent with DataFrame behavior). To access a value by position, use `ser.iloc[pos]`\n",
      "  cum_ret = 100 * (portfolio_val['Total Pos'][-1] / portfolio_val['Total Pos'][0] - 1)\n",
      "[*********************100%%**********************]  1 of 1 completed\n",
      "[*********************100%%**********************]  1 of 1 completed\n",
      "[*********************100%%**********************]  1 of 1 completed\n",
      "[*********************100%%**********************]  1 of 1 completed\n",
      "[*********************100%%**********************]  1 of 1 completed\n",
      "/home/ag/qfin/backend/scripts/portfolio_optimization/quantum_optimization/script_runner.py:273: FutureWarning: Series.__getitem__ treating keys as positions is deprecated. In a future version, integer keys will always be treated as labels (consistent with DataFrame behavior). To access a value by position, use `ser.iloc[pos]`\n",
      "  cum_ret = 100 * (portfolio_val['Total Pos'][-1] / portfolio_val['Total Pos'][0] - 1)\n"
     ]
    },
    {
     "name": "stdout",
     "output_type": "stream",
     "text": [
      "Using numpy minimum eigensolver...\n"
     ]
    },
    {
     "name": "stderr",
     "output_type": "stream",
     "text": [
      "[*********************100%%**********************]  1 of 1 completed\n",
      "[*********************100%%**********************]  1 of 1 completed\n",
      "[*********************100%%**********************]  1 of 1 completed\n",
      "[*********************100%%**********************]  1 of 1 completed\n",
      "[*********************100%%**********************]  1 of 1 completed\n",
      "/home/ag/qfin/backend/scripts/portfolio_optimization/quantum_optimization/script_runner.py:128: FutureWarning: Series.__getitem__ treating keys as positions is deprecated. In a future version, integer keys will always be treated as labels (consistent with DataFrame behavior). To access a value by position, use `ser.iloc[pos]`\n",
      "  cum_ret = 100 * (portfolio_val['Total Pos'][-1] / portfolio_val['Total Pos'][0] - 1)\n",
      "[*********************100%%**********************]  1 of 1 completed\n",
      "[*********************100%%**********************]  1 of 1 completed\n",
      "[*********************100%%**********************]  1 of 1 completed\n",
      "[*********************100%%**********************]  1 of 1 completed\n",
      "[*********************100%%**********************]  1 of 1 completed\n",
      "/home/ag/qfin/backend/scripts/portfolio_optimization/quantum_optimization/script_runner.py:273: FutureWarning: Series.__getitem__ treating keys as positions is deprecated. In a future version, integer keys will always be treated as labels (consistent with DataFrame behavior). To access a value by position, use `ser.iloc[pos]`\n",
      "  cum_ret = 100 * (portfolio_val['Total Pos'][-1] / portfolio_val['Total Pos'][0] - 1)\n"
     ]
    },
    {
     "name": "stdout",
     "output_type": "stream",
     "text": [
      "Using qaoa...\n"
     ]
    },
    {
     "name": "stderr",
     "output_type": "stream",
     "text": [
      "[*********************100%%**********************]  1 of 1 completed\n",
      "[*********************100%%**********************]  1 of 1 completed\n",
      "[*********************100%%**********************]  1 of 1 completed\n",
      "[*********************100%%**********************]  1 of 1 completed\n",
      "[*********************100%%**********************]  1 of 1 completed\n",
      "/home/ag/qfin/backend/scripts/portfolio_optimization/quantum_optimization/script_runner.py:128: FutureWarning: Series.__getitem__ treating keys as positions is deprecated. In a future version, integer keys will always be treated as labels (consistent with DataFrame behavior). To access a value by position, use `ser.iloc[pos]`\n",
      "  cum_ret = 100 * (portfolio_val['Total Pos'][-1] / portfolio_val['Total Pos'][0] - 1)\n",
      "[*********************100%%**********************]  1 of 1 completed\n",
      "[*********************100%%**********************]  1 of 1 completed\n",
      "[*********************100%%**********************]  1 of 1 completed\n",
      "[*********************100%%**********************]  1 of 1 completed\n",
      "[*********************100%%**********************]  1 of 1 completed\n",
      "/home/ag/qfin/backend/scripts/portfolio_optimization/quantum_optimization/script_runner.py:273: FutureWarning: Series.__getitem__ treating keys as positions is deprecated. In a future version, integer keys will always be treated as labels (consistent with DataFrame behavior). To access a value by position, use `ser.iloc[pos]`\n",
      "  cum_ret = 100 * (portfolio_val['Total Pos'][-1] / portfolio_val['Total Pos'][0] - 1)\n"
     ]
    },
    {
     "name": "stdout",
     "output_type": "stream",
     "text": [
      "Using sampling vqe...\n"
     ]
    },
    {
     "name": "stderr",
     "output_type": "stream",
     "text": [
      "[*********************100%%**********************]  1 of 1 completed\n",
      "[*********************100%%**********************]  1 of 1 completed\n",
      "[*********************100%%**********************]  1 of 1 completed\n",
      "[*********************100%%**********************]  1 of 1 completed\n",
      "[*********************100%%**********************]  1 of 1 completed\n",
      "/home/ag/qfin/backend/scripts/portfolio_optimization/quantum_optimization/script_runner.py:128: FutureWarning: Series.__getitem__ treating keys as positions is deprecated. In a future version, integer keys will always be treated as labels (consistent with DataFrame behavior). To access a value by position, use `ser.iloc[pos]`\n",
      "  cum_ret = 100 * (portfolio_val['Total Pos'][-1] / portfolio_val['Total Pos'][0] - 1)\n",
      "[*********************100%%**********************]  1 of 1 completed\n",
      "[*********************100%%**********************]  1 of 1 completed\n",
      "[*********************100%%**********************]  1 of 1 completed\n",
      "[*********************100%%**********************]  1 of 1 completed\n",
      "[*********************100%%**********************]  1 of 1 completed\n",
      "/home/ag/qfin/backend/scripts/portfolio_optimization/quantum_optimization/script_runner.py:273: FutureWarning: Series.__getitem__ treating keys as positions is deprecated. In a future version, integer keys will always be treated as labels (consistent with DataFrame behavior). To access a value by position, use `ser.iloc[pos]`\n",
      "  cum_ret = 100 * (portfolio_val['Total Pos'][-1] / portfolio_val['Total Pos'][0] - 1)\n"
     ]
    },
    {
     "name": "stdout",
     "output_type": "stream",
     "text": [
      "Using numpy minimum eigensolver...\n"
     ]
    },
    {
     "name": "stderr",
     "output_type": "stream",
     "text": [
      "[*********************100%%**********************]  1 of 1 completed\n",
      "[*********************100%%**********************]  1 of 1 completed\n",
      "[*********************100%%**********************]  1 of 1 completed\n",
      "[*********************100%%**********************]  1 of 1 completed\n",
      "[*********************100%%**********************]  1 of 1 completed\n",
      "/home/ag/qfin/backend/scripts/portfolio_optimization/quantum_optimization/script_runner.py:128: FutureWarning: Series.__getitem__ treating keys as positions is deprecated. In a future version, integer keys will always be treated as labels (consistent with DataFrame behavior). To access a value by position, use `ser.iloc[pos]`\n",
      "  cum_ret = 100 * (portfolio_val['Total Pos'][-1] / portfolio_val['Total Pos'][0] - 1)\n",
      "[*********************100%%**********************]  1 of 1 completed\n",
      "[*********************100%%**********************]  1 of 1 completed\n",
      "[*********************100%%**********************]  1 of 1 completed\n",
      "[*********************100%%**********************]  1 of 1 completed\n",
      "[*********************100%%**********************]  1 of 1 completed\n",
      "/home/ag/qfin/backend/scripts/portfolio_optimization/quantum_optimization/script_runner.py:273: FutureWarning: Series.__getitem__ treating keys as positions is deprecated. In a future version, integer keys will always be treated as labels (consistent with DataFrame behavior). To access a value by position, use `ser.iloc[pos]`\n",
      "  cum_ret = 100 * (portfolio_val['Total Pos'][-1] / portfolio_val['Total Pos'][0] - 1)\n"
     ]
    },
    {
     "name": "stdout",
     "output_type": "stream",
     "text": [
      "Using qaoa...\n"
     ]
    },
    {
     "name": "stderr",
     "output_type": "stream",
     "text": [
      "[*********************100%%**********************]  1 of 1 completed\n",
      "[*********************100%%**********************]  1 of 1 completed\n",
      "[*********************100%%**********************]  1 of 1 completed\n",
      "[*********************100%%**********************]  1 of 1 completed\n",
      "[*********************100%%**********************]  1 of 1 completed\n",
      "/home/ag/qfin/backend/scripts/portfolio_optimization/quantum_optimization/script_runner.py:128: FutureWarning: Series.__getitem__ treating keys as positions is deprecated. In a future version, integer keys will always be treated as labels (consistent with DataFrame behavior). To access a value by position, use `ser.iloc[pos]`\n",
      "  cum_ret = 100 * (portfolio_val['Total Pos'][-1] / portfolio_val['Total Pos'][0] - 1)\n",
      "[*********************100%%**********************]  1 of 1 completed\n",
      "[*********************100%%**********************]  1 of 1 completed\n",
      "[*********************100%%**********************]  1 of 1 completed\n",
      "[*********************100%%**********************]  1 of 1 completed\n",
      "[*********************100%%**********************]  1 of 1 completed\n",
      "/home/ag/qfin/backend/scripts/portfolio_optimization/quantum_optimization/script_runner.py:273: FutureWarning: Series.__getitem__ treating keys as positions is deprecated. In a future version, integer keys will always be treated as labels (consistent with DataFrame behavior). To access a value by position, use `ser.iloc[pos]`\n",
      "  cum_ret = 100 * (portfolio_val['Total Pos'][-1] / portfolio_val['Total Pos'][0] - 1)\n"
     ]
    },
    {
     "name": "stdout",
     "output_type": "stream",
     "text": [
      "Using sampling vqe...\n"
     ]
    },
    {
     "name": "stderr",
     "output_type": "stream",
     "text": [
      "[*********************100%%**********************]  1 of 1 completed\n",
      "[*********************100%%**********************]  1 of 1 completed\n",
      "[*********************100%%**********************]  1 of 1 completed\n",
      "[*********************100%%**********************]  1 of 1 completed\n",
      "[*********************100%%**********************]  1 of 1 completed\n",
      "/home/ag/qfin/backend/scripts/portfolio_optimization/quantum_optimization/script_runner.py:128: FutureWarning: Series.__getitem__ treating keys as positions is deprecated. In a future version, integer keys will always be treated as labels (consistent with DataFrame behavior). To access a value by position, use `ser.iloc[pos]`\n",
      "  cum_ret = 100 * (portfolio_val['Total Pos'][-1] / portfolio_val['Total Pos'][0] - 1)\n",
      "[*********************100%%**********************]  1 of 1 completed\n",
      "[*********************100%%**********************]  1 of 1 completed\n",
      "[*********************100%%**********************]  1 of 1 completed\n",
      "[*********************100%%**********************]  1 of 1 completed\n",
      "[*********************100%%**********************]  1 of 1 completed\n",
      "/home/ag/qfin/backend/scripts/portfolio_optimization/quantum_optimization/script_runner.py:273: FutureWarning: Series.__getitem__ treating keys as positions is deprecated. In a future version, integer keys will always be treated as labels (consistent with DataFrame behavior). To access a value by position, use `ser.iloc[pos]`\n",
      "  cum_ret = 100 * (portfolio_val['Total Pos'][-1] / portfolio_val['Total Pos'][0] - 1)\n"
     ]
    },
    {
     "name": "stdout",
     "output_type": "stream",
     "text": [
      "Using numpy minimum eigensolver...\n"
     ]
    },
    {
     "name": "stderr",
     "output_type": "stream",
     "text": [
      "[*********************100%%**********************]  1 of 1 completed\n",
      "[*********************100%%**********************]  1 of 1 completed\n",
      "[*********************100%%**********************]  1 of 1 completed\n",
      "[*********************100%%**********************]  1 of 1 completed\n",
      "[*********************100%%**********************]  1 of 1 completed\n",
      "/home/ag/qfin/backend/scripts/portfolio_optimization/quantum_optimization/script_runner.py:128: FutureWarning: Series.__getitem__ treating keys as positions is deprecated. In a future version, integer keys will always be treated as labels (consistent with DataFrame behavior). To access a value by position, use `ser.iloc[pos]`\n",
      "  cum_ret = 100 * (portfolio_val['Total Pos'][-1] / portfolio_val['Total Pos'][0] - 1)\n",
      "[*********************100%%**********************]  1 of 1 completed\n",
      "[*********************100%%**********************]  1 of 1 completed\n",
      "[*********************100%%**********************]  1 of 1 completed\n",
      "[*********************100%%**********************]  1 of 1 completed\n",
      "[*********************100%%**********************]  1 of 1 completed\n",
      "/home/ag/qfin/backend/scripts/portfolio_optimization/quantum_optimization/script_runner.py:273: FutureWarning: Series.__getitem__ treating keys as positions is deprecated. In a future version, integer keys will always be treated as labels (consistent with DataFrame behavior). To access a value by position, use `ser.iloc[pos]`\n",
      "  cum_ret = 100 * (portfolio_val['Total Pos'][-1] / portfolio_val['Total Pos'][0] - 1)\n"
     ]
    },
    {
     "name": "stdout",
     "output_type": "stream",
     "text": [
      "Using qaoa...\n"
     ]
    },
    {
     "name": "stderr",
     "output_type": "stream",
     "text": [
      "[*********************100%%**********************]  1 of 1 completed\n",
      "[*********************100%%**********************]  1 of 1 completed\n",
      "[*********************100%%**********************]  1 of 1 completed\n",
      "[*********************100%%**********************]  1 of 1 completed\n",
      "[*********************100%%**********************]  1 of 1 completed\n",
      "/home/ag/qfin/backend/scripts/portfolio_optimization/quantum_optimization/script_runner.py:128: FutureWarning: Series.__getitem__ treating keys as positions is deprecated. In a future version, integer keys will always be treated as labels (consistent with DataFrame behavior). To access a value by position, use `ser.iloc[pos]`\n",
      "  cum_ret = 100 * (portfolio_val['Total Pos'][-1] / portfolio_val['Total Pos'][0] - 1)\n",
      "[*********************100%%**********************]  1 of 1 completed\n",
      "[*********************100%%**********************]  1 of 1 completed\n",
      "[*********************100%%**********************]  1 of 1 completed\n",
      "[*********************100%%**********************]  1 of 1 completed\n",
      "[*********************100%%**********************]  1 of 1 completed\n",
      "/home/ag/qfin/backend/scripts/portfolio_optimization/quantum_optimization/script_runner.py:273: FutureWarning: Series.__getitem__ treating keys as positions is deprecated. In a future version, integer keys will always be treated as labels (consistent with DataFrame behavior). To access a value by position, use `ser.iloc[pos]`\n",
      "  cum_ret = 100 * (portfolio_val['Total Pos'][-1] / portfolio_val['Total Pos'][0] - 1)\n"
     ]
    },
    {
     "name": "stdout",
     "output_type": "stream",
     "text": [
      "Using sampling vqe...\n"
     ]
    },
    {
     "name": "stderr",
     "output_type": "stream",
     "text": [
      "[*********************100%%**********************]  1 of 1 completed\n",
      "[*********************100%%**********************]  1 of 1 completed\n",
      "[*********************100%%**********************]  1 of 1 completed\n",
      "[*********************100%%**********************]  1 of 1 completed\n",
      "[*********************100%%**********************]  1 of 1 completed\n",
      "/home/ag/qfin/backend/scripts/portfolio_optimization/quantum_optimization/script_runner.py:128: FutureWarning: Series.__getitem__ treating keys as positions is deprecated. In a future version, integer keys will always be treated as labels (consistent with DataFrame behavior). To access a value by position, use `ser.iloc[pos]`\n",
      "  cum_ret = 100 * (portfolio_val['Total Pos'][-1] / portfolio_val['Total Pos'][0] - 1)\n",
      "[*********************100%%**********************]  1 of 1 completed\n",
      "[*********************100%%**********************]  1 of 1 completed\n",
      "[*********************100%%**********************]  1 of 1 completed\n",
      "[*********************100%%**********************]  1 of 1 completed\n",
      "[*********************100%%**********************]  1 of 1 completed\n",
      "/home/ag/qfin/backend/scripts/portfolio_optimization/quantum_optimization/script_runner.py:273: FutureWarning: Series.__getitem__ treating keys as positions is deprecated. In a future version, integer keys will always be treated as labels (consistent with DataFrame behavior). To access a value by position, use `ser.iloc[pos]`\n",
      "  cum_ret = 100 * (portfolio_val['Total Pos'][-1] / portfolio_val['Total Pos'][0] - 1)\n"
     ]
    },
    {
     "name": "stdout",
     "output_type": "stream",
     "text": [
      "Using numpy minimum eigensolver...\n"
     ]
    },
    {
     "name": "stderr",
     "output_type": "stream",
     "text": [
      "[*********************100%%**********************]  1 of 1 completed\n",
      "[*********************100%%**********************]  1 of 1 completed\n",
      "[*********************100%%**********************]  1 of 1 completed\n",
      "[*********************100%%**********************]  1 of 1 completed\n",
      "[*********************100%%**********************]  1 of 1 completed\n",
      "/home/ag/qfin/backend/scripts/portfolio_optimization/quantum_optimization/script_runner.py:128: FutureWarning: Series.__getitem__ treating keys as positions is deprecated. In a future version, integer keys will always be treated as labels (consistent with DataFrame behavior). To access a value by position, use `ser.iloc[pos]`\n",
      "  cum_ret = 100 * (portfolio_val['Total Pos'][-1] / portfolio_val['Total Pos'][0] - 1)\n",
      "[*********************100%%**********************]  1 of 1 completed\n",
      "[*********************100%%**********************]  1 of 1 completed\n",
      "[*********************100%%**********************]  1 of 1 completed\n",
      "[*********************100%%**********************]  1 of 1 completed\n",
      "[*********************100%%**********************]  1 of 1 completed\n",
      "/home/ag/qfin/backend/scripts/portfolio_optimization/quantum_optimization/script_runner.py:273: FutureWarning: Series.__getitem__ treating keys as positions is deprecated. In a future version, integer keys will always be treated as labels (consistent with DataFrame behavior). To access a value by position, use `ser.iloc[pos]`\n",
      "  cum_ret = 100 * (portfolio_val['Total Pos'][-1] / portfolio_val['Total Pos'][0] - 1)\n"
     ]
    },
    {
     "name": "stdout",
     "output_type": "stream",
     "text": [
      "Using qaoa...\n"
     ]
    },
    {
     "name": "stderr",
     "output_type": "stream",
     "text": [
      "[*********************100%%**********************]  1 of 1 completed\n",
      "[*********************100%%**********************]  1 of 1 completed\n",
      "[*********************100%%**********************]  1 of 1 completed\n",
      "[*********************100%%**********************]  1 of 1 completed\n",
      "[*********************100%%**********************]  1 of 1 completed\n",
      "/home/ag/qfin/backend/scripts/portfolio_optimization/quantum_optimization/script_runner.py:128: FutureWarning: Series.__getitem__ treating keys as positions is deprecated. In a future version, integer keys will always be treated as labels (consistent with DataFrame behavior). To access a value by position, use `ser.iloc[pos]`\n",
      "  cum_ret = 100 * (portfolio_val['Total Pos'][-1] / portfolio_val['Total Pos'][0] - 1)\n",
      "[*********************100%%**********************]  1 of 1 completed\n",
      "[*********************100%%**********************]  1 of 1 completed\n",
      "[*********************100%%**********************]  1 of 1 completed\n",
      "[*********************100%%**********************]  1 of 1 completed\n",
      "[*********************100%%**********************]  1 of 1 completed\n",
      "/home/ag/qfin/backend/scripts/portfolio_optimization/quantum_optimization/script_runner.py:273: FutureWarning: Series.__getitem__ treating keys as positions is deprecated. In a future version, integer keys will always be treated as labels (consistent with DataFrame behavior). To access a value by position, use `ser.iloc[pos]`\n",
      "  cum_ret = 100 * (portfolio_val['Total Pos'][-1] / portfolio_val['Total Pos'][0] - 1)\n"
     ]
    },
    {
     "name": "stdout",
     "output_type": "stream",
     "text": [
      "Using sampling vqe...\n"
     ]
    },
    {
     "name": "stderr",
     "output_type": "stream",
     "text": [
      "[*********************100%%**********************]  1 of 1 completed\n",
      "[*********************100%%**********************]  1 of 1 completed\n",
      "[*********************100%%**********************]  1 of 1 completed\n",
      "[*********************100%%**********************]  1 of 1 completed\n",
      "[*********************100%%**********************]  1 of 1 completed\n",
      "/home/ag/qfin/backend/scripts/portfolio_optimization/quantum_optimization/script_runner.py:128: FutureWarning: Series.__getitem__ treating keys as positions is deprecated. In a future version, integer keys will always be treated as labels (consistent with DataFrame behavior). To access a value by position, use `ser.iloc[pos]`\n",
      "  cum_ret = 100 * (portfolio_val['Total Pos'][-1] / portfolio_val['Total Pos'][0] - 1)\n",
      "[*********************100%%**********************]  1 of 1 completed\n",
      "[*********************100%%**********************]  1 of 1 completed\n",
      "[*********************100%%**********************]  1 of 1 completed\n",
      "[*********************100%%**********************]  1 of 1 completed\n",
      "[*********************100%%**********************]  1 of 1 completed\n",
      "/home/ag/qfin/backend/scripts/portfolio_optimization/quantum_optimization/script_runner.py:273: FutureWarning: Series.__getitem__ treating keys as positions is deprecated. In a future version, integer keys will always be treated as labels (consistent with DataFrame behavior). To access a value by position, use `ser.iloc[pos]`\n",
      "  cum_ret = 100 * (portfolio_val['Total Pos'][-1] / portfolio_val['Total Pos'][0] - 1)\n"
     ]
    },
    {
     "name": "stdout",
     "output_type": "stream",
     "text": [
      "Using numpy minimum eigensolver...\n"
     ]
    },
    {
     "name": "stderr",
     "output_type": "stream",
     "text": [
      "[*********************100%%**********************]  1 of 1 completed\n",
      "[*********************100%%**********************]  1 of 1 completed\n",
      "[*********************100%%**********************]  1 of 1 completed\n",
      "[*********************100%%**********************]  1 of 1 completed\n",
      "[*********************100%%**********************]  1 of 1 completed\n",
      "/home/ag/qfin/backend/scripts/portfolio_optimization/quantum_optimization/script_runner.py:128: FutureWarning: Series.__getitem__ treating keys as positions is deprecated. In a future version, integer keys will always be treated as labels (consistent with DataFrame behavior). To access a value by position, use `ser.iloc[pos]`\n",
      "  cum_ret = 100 * (portfolio_val['Total Pos'][-1] / portfolio_val['Total Pos'][0] - 1)\n",
      "[*********************100%%**********************]  1 of 1 completed\n",
      "[*********************100%%**********************]  1 of 1 completed\n",
      "[*********************100%%**********************]  1 of 1 completed\n",
      "[*********************100%%**********************]  1 of 1 completed\n",
      "[*********************100%%**********************]  1 of 1 completed\n",
      "/home/ag/qfin/backend/scripts/portfolio_optimization/quantum_optimization/script_runner.py:273: FutureWarning: Series.__getitem__ treating keys as positions is deprecated. In a future version, integer keys will always be treated as labels (consistent with DataFrame behavior). To access a value by position, use `ser.iloc[pos]`\n",
      "  cum_ret = 100 * (portfolio_val['Total Pos'][-1] / portfolio_val['Total Pos'][0] - 1)\n"
     ]
    },
    {
     "name": "stdout",
     "output_type": "stream",
     "text": [
      "Using qaoa...\n"
     ]
    },
    {
     "name": "stderr",
     "output_type": "stream",
     "text": [
      "[*********************100%%**********************]  1 of 1 completed\n",
      "[*********************100%%**********************]  1 of 1 completed\n",
      "[*********************100%%**********************]  1 of 1 completed\n",
      "[*********************100%%**********************]  1 of 1 completed\n",
      "[*********************100%%**********************]  1 of 1 completed\n",
      "/home/ag/qfin/backend/scripts/portfolio_optimization/quantum_optimization/script_runner.py:128: FutureWarning: Series.__getitem__ treating keys as positions is deprecated. In a future version, integer keys will always be treated as labels (consistent with DataFrame behavior). To access a value by position, use `ser.iloc[pos]`\n",
      "  cum_ret = 100 * (portfolio_val['Total Pos'][-1] / portfolio_val['Total Pos'][0] - 1)\n",
      "[*********************100%%**********************]  1 of 1 completed\n",
      "[*********************100%%**********************]  1 of 1 completed\n",
      "[*********************100%%**********************]  1 of 1 completed\n",
      "[*********************100%%**********************]  1 of 1 completed\n",
      "[*********************100%%**********************]  1 of 1 completed\n",
      "/home/ag/qfin/backend/scripts/portfolio_optimization/quantum_optimization/script_runner.py:273: FutureWarning: Series.__getitem__ treating keys as positions is deprecated. In a future version, integer keys will always be treated as labels (consistent with DataFrame behavior). To access a value by position, use `ser.iloc[pos]`\n",
      "  cum_ret = 100 * (portfolio_val['Total Pos'][-1] / portfolio_val['Total Pos'][0] - 1)\n"
     ]
    },
    {
     "name": "stdout",
     "output_type": "stream",
     "text": [
      "Using sampling vqe...\n"
     ]
    },
    {
     "name": "stderr",
     "output_type": "stream",
     "text": [
      "[*********************100%%**********************]  1 of 1 completed\n",
      "[*********************100%%**********************]  1 of 1 completed\n",
      "[*********************100%%**********************]  1 of 1 completed\n",
      "[*********************100%%**********************]  1 of 1 completed\n",
      "[*********************100%%**********************]  1 of 1 completed\n",
      "/home/ag/qfin/backend/scripts/portfolio_optimization/quantum_optimization/script_runner.py:128: FutureWarning: Series.__getitem__ treating keys as positions is deprecated. In a future version, integer keys will always be treated as labels (consistent with DataFrame behavior). To access a value by position, use `ser.iloc[pos]`\n",
      "  cum_ret = 100 * (portfolio_val['Total Pos'][-1] / portfolio_val['Total Pos'][0] - 1)\n",
      "[*********************100%%**********************]  1 of 1 completed\n",
      "[*********************100%%**********************]  1 of 1 completed\n",
      "[*********************100%%**********************]  1 of 1 completed\n",
      "[*********************100%%**********************]  1 of 1 completed\n",
      "[*********************100%%**********************]  1 of 1 completed\n",
      "/home/ag/qfin/backend/scripts/portfolio_optimization/quantum_optimization/script_runner.py:273: FutureWarning: Series.__getitem__ treating keys as positions is deprecated. In a future version, integer keys will always be treated as labels (consistent with DataFrame behavior). To access a value by position, use `ser.iloc[pos]`\n",
      "  cum_ret = 100 * (portfolio_val['Total Pos'][-1] / portfolio_val['Total Pos'][0] - 1)\n"
     ]
    },
    {
     "name": "stdout",
     "output_type": "stream",
     "text": [
      "Using numpy minimum eigensolver...\n"
     ]
    },
    {
     "name": "stderr",
     "output_type": "stream",
     "text": [
      "[*********************100%%**********************]  1 of 1 completed\n",
      "[*********************100%%**********************]  1 of 1 completed\n",
      "[*********************100%%**********************]  1 of 1 completed\n",
      "[*********************100%%**********************]  1 of 1 completed\n",
      "[*********************100%%**********************]  1 of 1 completed\n",
      "/home/ag/qfin/backend/scripts/portfolio_optimization/quantum_optimization/script_runner.py:128: FutureWarning: Series.__getitem__ treating keys as positions is deprecated. In a future version, integer keys will always be treated as labels (consistent with DataFrame behavior). To access a value by position, use `ser.iloc[pos]`\n",
      "  cum_ret = 100 * (portfolio_val['Total Pos'][-1] / portfolio_val['Total Pos'][0] - 1)\n",
      "[*********************100%%**********************]  1 of 1 completed\n",
      "[*********************100%%**********************]  1 of 1 completed\n",
      "[*********************100%%**********************]  1 of 1 completed\n",
      "[*********************100%%**********************]  1 of 1 completed\n",
      "[*********************100%%**********************]  1 of 1 completed\n",
      "/home/ag/qfin/backend/scripts/portfolio_optimization/quantum_optimization/script_runner.py:273: FutureWarning: Series.__getitem__ treating keys as positions is deprecated. In a future version, integer keys will always be treated as labels (consistent with DataFrame behavior). To access a value by position, use `ser.iloc[pos]`\n",
      "  cum_ret = 100 * (portfolio_val['Total Pos'][-1] / portfolio_val['Total Pos'][0] - 1)\n"
     ]
    },
    {
     "name": "stdout",
     "output_type": "stream",
     "text": [
      "Using qaoa...\n"
     ]
    },
    {
     "name": "stderr",
     "output_type": "stream",
     "text": [
      "[*********************100%%**********************]  1 of 1 completed\n",
      "[*********************100%%**********************]  1 of 1 completed\n",
      "[*********************100%%**********************]  1 of 1 completed\n",
      "[*********************100%%**********************]  1 of 1 completed\n",
      "[*********************100%%**********************]  1 of 1 completed\n",
      "/home/ag/qfin/backend/scripts/portfolio_optimization/quantum_optimization/script_runner.py:128: FutureWarning: Series.__getitem__ treating keys as positions is deprecated. In a future version, integer keys will always be treated as labels (consistent with DataFrame behavior). To access a value by position, use `ser.iloc[pos]`\n",
      "  cum_ret = 100 * (portfolio_val['Total Pos'][-1] / portfolio_val['Total Pos'][0] - 1)\n",
      "[*********************100%%**********************]  1 of 1 completed\n",
      "[*********************100%%**********************]  1 of 1 completed\n",
      "[*********************100%%**********************]  1 of 1 completed\n",
      "[*********************100%%**********************]  1 of 1 completed\n",
      "[*********************100%%**********************]  1 of 1 completed\n",
      "/home/ag/qfin/backend/scripts/portfolio_optimization/quantum_optimization/script_runner.py:273: FutureWarning: Series.__getitem__ treating keys as positions is deprecated. In a future version, integer keys will always be treated as labels (consistent with DataFrame behavior). To access a value by position, use `ser.iloc[pos]`\n",
      "  cum_ret = 100 * (portfolio_val['Total Pos'][-1] / portfolio_val['Total Pos'][0] - 1)\n"
     ]
    },
    {
     "name": "stdout",
     "output_type": "stream",
     "text": [
      "Using sampling vqe...\n"
     ]
    },
    {
     "name": "stderr",
     "output_type": "stream",
     "text": [
      "[*********************100%%**********************]  1 of 1 completed\n",
      "[*********************100%%**********************]  1 of 1 completed\n",
      "[*********************100%%**********************]  1 of 1 completed\n",
      "[*********************100%%**********************]  1 of 1 completed\n",
      "[*********************100%%**********************]  1 of 1 completed\n",
      "/home/ag/qfin/backend/scripts/portfolio_optimization/quantum_optimization/script_runner.py:128: FutureWarning: Series.__getitem__ treating keys as positions is deprecated. In a future version, integer keys will always be treated as labels (consistent with DataFrame behavior). To access a value by position, use `ser.iloc[pos]`\n",
      "  cum_ret = 100 * (portfolio_val['Total Pos'][-1] / portfolio_val['Total Pos'][0] - 1)\n",
      "[*********************100%%**********************]  1 of 1 completed\n",
      "[*********************100%%**********************]  1 of 1 completed\n",
      "[*********************100%%**********************]  1 of 1 completed\n",
      "[*********************100%%**********************]  1 of 1 completed\n",
      "[*********************100%%**********************]  1 of 1 completed\n",
      "/home/ag/qfin/backend/scripts/portfolio_optimization/quantum_optimization/script_runner.py:273: FutureWarning: Series.__getitem__ treating keys as positions is deprecated. In a future version, integer keys will always be treated as labels (consistent with DataFrame behavior). To access a value by position, use `ser.iloc[pos]`\n",
      "  cum_ret = 100 * (portfolio_val['Total Pos'][-1] / portfolio_val['Total Pos'][0] - 1)\n"
     ]
    },
    {
     "name": "stdout",
     "output_type": "stream",
     "text": [
      "Using numpy minimum eigensolver...\n"
     ]
    },
    {
     "name": "stderr",
     "output_type": "stream",
     "text": [
      "\n",
      "1 Failed download:\n",
      "['MRNA']: YFChartError(\"%ticker%: Data doesn't exist for startDate = 1514782800, endDate = 1519880400\")\n"
     ]
    },
    {
     "name": "stdout",
     "output_type": "stream",
     "text": [
      "\"No data found for this date range, symbols may be delisted: ['MRNA'].\"\n",
      "Error encountered whil running job: \"No data found for this date range, symbols may be delisted: ['MRNA'].\"\n",
      "Using numpy minimum eigensolver...\n"
     ]
    },
    {
     "name": "stderr",
     "output_type": "stream",
     "text": [
      "\n",
      "1 Failed download:\n",
      "['MRNA']: YFChartError(\"%ticker%: Data doesn't exist for startDate = 1514782800, endDate = 1527825600\")\n"
     ]
    },
    {
     "name": "stdout",
     "output_type": "stream",
     "text": [
      "\"No data found for this date range, symbols may be delisted: ['MRNA'].\"\n",
      "Error encountered whil running job: \"No data found for this date range, symbols may be delisted: ['MRNA'].\"\n",
      "Using numpy minimum eigensolver...\n"
     ]
    },
    {
     "name": "stderr",
     "output_type": "stream",
     "text": [
      "\n",
      "1 Failed download:\n",
      "['MRNA']: YFChartError(\"%ticker%: Data doesn't exist for startDate = 1514782800, endDate = 1535774400\")\n"
     ]
    },
    {
     "name": "stdout",
     "output_type": "stream",
     "text": [
      "\"No data found for this date range, symbols may be delisted: ['MRNA'].\"\n",
      "Error encountered whil running job: \"No data found for this date range, symbols may be delisted: ['MRNA'].\"\n",
      "Using numpy minimum eigensolver...\n",
      "Error encountered whil running job: Expecting valid float number, got: nan\n",
      "Using numpy minimum eigensolver...\n",
      "Error encountered whil running job: Expecting valid float number, got: nan\n",
      "Using numpy minimum eigensolver...\n",
      "Error encountered whil running job: Expecting valid float number, got: nan\n",
      "Using numpy minimum eigensolver...\n",
      "Error encountered whil running job: Expecting valid float number, got: nan\n",
      "Using numpy minimum eigensolver...\n",
      "Error encountered whil running job: Expecting valid float number, got: nan\n",
      "Using numpy minimum eigensolver...\n"
     ]
    },
    {
     "name": "stderr",
     "output_type": "stream",
     "text": [
      "[*********************100%%**********************]  1 of 1 completed\n",
      "[*********************100%%**********************]  1 of 1 completed\n",
      "[*********************100%%**********************]  1 of 1 completed\n",
      "[*********************100%%**********************]  1 of 1 completed\n",
      "[*********************100%%**********************]  1 of 1 completed\n",
      "/home/ag/qfin/backend/scripts/portfolio_optimization/quantum_optimization/script_runner.py:128: FutureWarning: Series.__getitem__ treating keys as positions is deprecated. In a future version, integer keys will always be treated as labels (consistent with DataFrame behavior). To access a value by position, use `ser.iloc[pos]`\n",
      "  cum_ret = 100 * (portfolio_val['Total Pos'][-1] / portfolio_val['Total Pos'][0] - 1)\n",
      "[*********************100%%**********************]  1 of 1 completed\n",
      "[*********************100%%**********************]  1 of 1 completed\n",
      "[*********************100%%**********************]  1 of 1 completed\n",
      "[*********************100%%**********************]  1 of 1 completed\n",
      "[*********************100%%**********************]  1 of 1 completed\n",
      "/home/ag/qfin/backend/scripts/portfolio_optimization/quantum_optimization/script_runner.py:273: FutureWarning: Series.__getitem__ treating keys as positions is deprecated. In a future version, integer keys will always be treated as labels (consistent with DataFrame behavior). To access a value by position, use `ser.iloc[pos]`\n",
      "  cum_ret = 100 * (portfolio_val['Total Pos'][-1] / portfolio_val['Total Pos'][0] - 1)\n"
     ]
    },
    {
     "name": "stdout",
     "output_type": "stream",
     "text": [
      "Using qaoa...\n"
     ]
    },
    {
     "name": "stderr",
     "output_type": "stream",
     "text": [
      "[*********************100%%**********************]  1 of 1 completed\n",
      "[*********************100%%**********************]  1 of 1 completed\n",
      "[*********************100%%**********************]  1 of 1 completed\n",
      "[*********************100%%**********************]  1 of 1 completed\n",
      "[*********************100%%**********************]  1 of 1 completed\n",
      "/home/ag/qfin/backend/scripts/portfolio_optimization/quantum_optimization/script_runner.py:128: FutureWarning: Series.__getitem__ treating keys as positions is deprecated. In a future version, integer keys will always be treated as labels (consistent with DataFrame behavior). To access a value by position, use `ser.iloc[pos]`\n",
      "  cum_ret = 100 * (portfolio_val['Total Pos'][-1] / portfolio_val['Total Pos'][0] - 1)\n",
      "[*********************100%%**********************]  1 of 1 completed\n",
      "[*********************100%%**********************]  1 of 1 completed\n",
      "[*********************100%%**********************]  1 of 1 completed\n",
      "[*********************100%%**********************]  1 of 1 completed\n",
      "[*********************100%%**********************]  1 of 1 completed\n",
      "/home/ag/qfin/backend/scripts/portfolio_optimization/quantum_optimization/script_runner.py:273: FutureWarning: Series.__getitem__ treating keys as positions is deprecated. In a future version, integer keys will always be treated as labels (consistent with DataFrame behavior). To access a value by position, use `ser.iloc[pos]`\n",
      "  cum_ret = 100 * (portfolio_val['Total Pos'][-1] / portfolio_val['Total Pos'][0] - 1)\n"
     ]
    },
    {
     "name": "stdout",
     "output_type": "stream",
     "text": [
      "Using sampling vqe...\n"
     ]
    },
    {
     "name": "stderr",
     "output_type": "stream",
     "text": [
      "[*********************100%%**********************]  1 of 1 completed\n",
      "[*********************100%%**********************]  1 of 1 completed\n",
      "[*********************100%%**********************]  1 of 1 completed\n",
      "[*********************100%%**********************]  1 of 1 completed\n",
      "[*********************100%%**********************]  1 of 1 completed\n",
      "/home/ag/qfin/backend/scripts/portfolio_optimization/quantum_optimization/script_runner.py:128: FutureWarning: Series.__getitem__ treating keys as positions is deprecated. In a future version, integer keys will always be treated as labels (consistent with DataFrame behavior). To access a value by position, use `ser.iloc[pos]`\n",
      "  cum_ret = 100 * (portfolio_val['Total Pos'][-1] / portfolio_val['Total Pos'][0] - 1)\n",
      "[*********************100%%**********************]  1 of 1 completed\n",
      "[*********************100%%**********************]  1 of 1 completed\n",
      "[*********************100%%**********************]  1 of 1 completed\n",
      "[*********************100%%**********************]  1 of 1 completed\n",
      "[*********************100%%**********************]  1 of 1 completed\n",
      "/home/ag/qfin/backend/scripts/portfolio_optimization/quantum_optimization/script_runner.py:273: FutureWarning: Series.__getitem__ treating keys as positions is deprecated. In a future version, integer keys will always be treated as labels (consistent with DataFrame behavior). To access a value by position, use `ser.iloc[pos]`\n",
      "  cum_ret = 100 * (portfolio_val['Total Pos'][-1] / portfolio_val['Total Pos'][0] - 1)\n"
     ]
    },
    {
     "name": "stdout",
     "output_type": "stream",
     "text": [
      "Using numpy minimum eigensolver...\n"
     ]
    },
    {
     "name": "stderr",
     "output_type": "stream",
     "text": [
      "[*********************100%%**********************]  1 of 1 completed\n",
      "[*********************100%%**********************]  1 of 1 completed\n",
      "[*********************100%%**********************]  1 of 1 completed\n",
      "[*********************100%%**********************]  1 of 1 completed\n",
      "[*********************100%%**********************]  1 of 1 completed\n",
      "/home/ag/qfin/backend/scripts/portfolio_optimization/quantum_optimization/script_runner.py:128: FutureWarning: Series.__getitem__ treating keys as positions is deprecated. In a future version, integer keys will always be treated as labels (consistent with DataFrame behavior). To access a value by position, use `ser.iloc[pos]`\n",
      "  cum_ret = 100 * (portfolio_val['Total Pos'][-1] / portfolio_val['Total Pos'][0] - 1)\n",
      "[*********************100%%**********************]  1 of 1 completed\n",
      "[*********************100%%**********************]  1 of 1 completed\n",
      "[*********************100%%**********************]  1 of 1 completed\n",
      "[*********************100%%**********************]  1 of 1 completed\n",
      "[*********************100%%**********************]  1 of 1 completed\n",
      "/home/ag/qfin/backend/scripts/portfolio_optimization/quantum_optimization/script_runner.py:273: FutureWarning: Series.__getitem__ treating keys as positions is deprecated. In a future version, integer keys will always be treated as labels (consistent with DataFrame behavior). To access a value by position, use `ser.iloc[pos]`\n",
      "  cum_ret = 100 * (portfolio_val['Total Pos'][-1] / portfolio_val['Total Pos'][0] - 1)\n"
     ]
    },
    {
     "name": "stdout",
     "output_type": "stream",
     "text": [
      "Using qaoa...\n"
     ]
    },
    {
     "name": "stderr",
     "output_type": "stream",
     "text": [
      "[*********************100%%**********************]  1 of 1 completed\n",
      "[*********************100%%**********************]  1 of 1 completed\n",
      "[*********************100%%**********************]  1 of 1 completed\n",
      "[*********************100%%**********************]  1 of 1 completed\n",
      "[*********************100%%**********************]  1 of 1 completed\n",
      "/home/ag/qfin/backend/scripts/portfolio_optimization/quantum_optimization/script_runner.py:128: FutureWarning: Series.__getitem__ treating keys as positions is deprecated. In a future version, integer keys will always be treated as labels (consistent with DataFrame behavior). To access a value by position, use `ser.iloc[pos]`\n",
      "  cum_ret = 100 * (portfolio_val['Total Pos'][-1] / portfolio_val['Total Pos'][0] - 1)\n",
      "[*********************100%%**********************]  1 of 1 completed\n",
      "[*********************100%%**********************]  1 of 1 completed\n",
      "[*********************100%%**********************]  1 of 1 completed\n",
      "[*********************100%%**********************]  1 of 1 completed\n",
      "[*********************100%%**********************]  1 of 1 completed\n",
      "/home/ag/qfin/backend/scripts/portfolio_optimization/quantum_optimization/script_runner.py:273: FutureWarning: Series.__getitem__ treating keys as positions is deprecated. In a future version, integer keys will always be treated as labels (consistent with DataFrame behavior). To access a value by position, use `ser.iloc[pos]`\n",
      "  cum_ret = 100 * (portfolio_val['Total Pos'][-1] / portfolio_val['Total Pos'][0] - 1)\n"
     ]
    },
    {
     "name": "stdout",
     "output_type": "stream",
     "text": [
      "Using sampling vqe...\n"
     ]
    },
    {
     "name": "stderr",
     "output_type": "stream",
     "text": [
      "[*********************100%%**********************]  1 of 1 completed\n",
      "[*********************100%%**********************]  1 of 1 completed\n",
      "[*********************100%%**********************]  1 of 1 completed\n",
      "[*********************100%%**********************]  1 of 1 completed\n",
      "[*********************100%%**********************]  1 of 1 completed\n",
      "/home/ag/qfin/backend/scripts/portfolio_optimization/quantum_optimization/script_runner.py:128: FutureWarning: Series.__getitem__ treating keys as positions is deprecated. In a future version, integer keys will always be treated as labels (consistent with DataFrame behavior). To access a value by position, use `ser.iloc[pos]`\n",
      "  cum_ret = 100 * (portfolio_val['Total Pos'][-1] / portfolio_val['Total Pos'][0] - 1)\n",
      "[*********************100%%**********************]  1 of 1 completed\n",
      "[*********************100%%**********************]  1 of 1 completed\n",
      "[*********************100%%**********************]  1 of 1 completed\n",
      "[*********************100%%**********************]  1 of 1 completed\n",
      "[*********************100%%**********************]  1 of 1 completed\n",
      "/home/ag/qfin/backend/scripts/portfolio_optimization/quantum_optimization/script_runner.py:273: FutureWarning: Series.__getitem__ treating keys as positions is deprecated. In a future version, integer keys will always be treated as labels (consistent with DataFrame behavior). To access a value by position, use `ser.iloc[pos]`\n",
      "  cum_ret = 100 * (portfolio_val['Total Pos'][-1] / portfolio_val['Total Pos'][0] - 1)\n"
     ]
    },
    {
     "name": "stdout",
     "output_type": "stream",
     "text": [
      "Using numpy minimum eigensolver...\n"
     ]
    },
    {
     "name": "stderr",
     "output_type": "stream",
     "text": [
      "[*********************100%%**********************]  1 of 1 completed\n",
      "[*********************100%%**********************]  1 of 1 completed\n",
      "[*********************100%%**********************]  1 of 1 completed\n",
      "[*********************100%%**********************]  1 of 1 completed\n",
      "[*********************100%%**********************]  1 of 1 completed\n",
      "/home/ag/qfin/backend/scripts/portfolio_optimization/quantum_optimization/script_runner.py:128: FutureWarning: Series.__getitem__ treating keys as positions is deprecated. In a future version, integer keys will always be treated as labels (consistent with DataFrame behavior). To access a value by position, use `ser.iloc[pos]`\n",
      "  cum_ret = 100 * (portfolio_val['Total Pos'][-1] / portfolio_val['Total Pos'][0] - 1)\n",
      "[*********************100%%**********************]  1 of 1 completed\n",
      "[*********************100%%**********************]  1 of 1 completed\n",
      "[*********************100%%**********************]  1 of 1 completed\n",
      "[*********************100%%**********************]  1 of 1 completed\n",
      "[*********************100%%**********************]  1 of 1 completed\n",
      "/home/ag/qfin/backend/scripts/portfolio_optimization/quantum_optimization/script_runner.py:273: FutureWarning: Series.__getitem__ treating keys as positions is deprecated. In a future version, integer keys will always be treated as labels (consistent with DataFrame behavior). To access a value by position, use `ser.iloc[pos]`\n",
      "  cum_ret = 100 * (portfolio_val['Total Pos'][-1] / portfolio_val['Total Pos'][0] - 1)\n"
     ]
    },
    {
     "name": "stdout",
     "output_type": "stream",
     "text": [
      "Using qaoa...\n"
     ]
    },
    {
     "name": "stderr",
     "output_type": "stream",
     "text": [
      "[*********************100%%**********************]  1 of 1 completed\n",
      "[*********************100%%**********************]  1 of 1 completed\n",
      "[*********************100%%**********************]  1 of 1 completed\n",
      "[*********************100%%**********************]  1 of 1 completed\n",
      "[*********************100%%**********************]  1 of 1 completed\n",
      "/home/ag/qfin/backend/scripts/portfolio_optimization/quantum_optimization/script_runner.py:128: FutureWarning: Series.__getitem__ treating keys as positions is deprecated. In a future version, integer keys will always be treated as labels (consistent with DataFrame behavior). To access a value by position, use `ser.iloc[pos]`\n",
      "  cum_ret = 100 * (portfolio_val['Total Pos'][-1] / portfolio_val['Total Pos'][0] - 1)\n",
      "[*********************100%%**********************]  1 of 1 completed\n",
      "[*********************100%%**********************]  1 of 1 completed\n",
      "[*********************100%%**********************]  1 of 1 completed\n",
      "[*********************100%%**********************]  1 of 1 completed\n",
      "[*********************100%%**********************]  1 of 1 completed\n",
      "/home/ag/qfin/backend/scripts/portfolio_optimization/quantum_optimization/script_runner.py:273: FutureWarning: Series.__getitem__ treating keys as positions is deprecated. In a future version, integer keys will always be treated as labels (consistent with DataFrame behavior). To access a value by position, use `ser.iloc[pos]`\n",
      "  cum_ret = 100 * (portfolio_val['Total Pos'][-1] / portfolio_val['Total Pos'][0] - 1)\n"
     ]
    },
    {
     "name": "stdout",
     "output_type": "stream",
     "text": [
      "Using sampling vqe...\n"
     ]
    },
    {
     "name": "stderr",
     "output_type": "stream",
     "text": [
      "[*********************100%%**********************]  1 of 1 completed\n",
      "[*********************100%%**********************]  1 of 1 completed\n",
      "[*********************100%%**********************]  1 of 1 completed\n",
      "[*********************100%%**********************]  1 of 1 completed\n",
      "[*********************100%%**********************]  1 of 1 completed\n",
      "/home/ag/qfin/backend/scripts/portfolio_optimization/quantum_optimization/script_runner.py:128: FutureWarning: Series.__getitem__ treating keys as positions is deprecated. In a future version, integer keys will always be treated as labels (consistent with DataFrame behavior). To access a value by position, use `ser.iloc[pos]`\n",
      "  cum_ret = 100 * (portfolio_val['Total Pos'][-1] / portfolio_val['Total Pos'][0] - 1)\n",
      "[*********************100%%**********************]  1 of 1 completed\n",
      "[*********************100%%**********************]  1 of 1 completed\n",
      "[*********************100%%**********************]  1 of 1 completed\n",
      "[*********************100%%**********************]  1 of 1 completed\n",
      "[*********************100%%**********************]  1 of 1 completed\n",
      "/home/ag/qfin/backend/scripts/portfolio_optimization/quantum_optimization/script_runner.py:273: FutureWarning: Series.__getitem__ treating keys as positions is deprecated. In a future version, integer keys will always be treated as labels (consistent with DataFrame behavior). To access a value by position, use `ser.iloc[pos]`\n",
      "  cum_ret = 100 * (portfolio_val['Total Pos'][-1] / portfolio_val['Total Pos'][0] - 1)\n"
     ]
    },
    {
     "name": "stdout",
     "output_type": "stream",
     "text": [
      "Using numpy minimum eigensolver...\n"
     ]
    },
    {
     "name": "stderr",
     "output_type": "stream",
     "text": [
      "[*********************100%%**********************]  1 of 1 completed\n",
      "[*********************100%%**********************]  1 of 1 completed\n",
      "[*********************100%%**********************]  1 of 1 completed\n",
      "[*********************100%%**********************]  1 of 1 completed\n",
      "[*********************100%%**********************]  1 of 1 completed\n",
      "/home/ag/qfin/backend/scripts/portfolio_optimization/quantum_optimization/script_runner.py:128: FutureWarning: Series.__getitem__ treating keys as positions is deprecated. In a future version, integer keys will always be treated as labels (consistent with DataFrame behavior). To access a value by position, use `ser.iloc[pos]`\n",
      "  cum_ret = 100 * (portfolio_val['Total Pos'][-1] / portfolio_val['Total Pos'][0] - 1)\n",
      "[*********************100%%**********************]  1 of 1 completed\n",
      "[*********************100%%**********************]  1 of 1 completed\n",
      "[*********************100%%**********************]  1 of 1 completed\n",
      "[*********************100%%**********************]  1 of 1 completed\n",
      "[*********************100%%**********************]  1 of 1 completed\n",
      "/home/ag/qfin/backend/scripts/portfolio_optimization/quantum_optimization/script_runner.py:273: FutureWarning: Series.__getitem__ treating keys as positions is deprecated. In a future version, integer keys will always be treated as labels (consistent with DataFrame behavior). To access a value by position, use `ser.iloc[pos]`\n",
      "  cum_ret = 100 * (portfolio_val['Total Pos'][-1] / portfolio_val['Total Pos'][0] - 1)\n"
     ]
    },
    {
     "name": "stdout",
     "output_type": "stream",
     "text": [
      "Using qaoa...\n"
     ]
    },
    {
     "name": "stderr",
     "output_type": "stream",
     "text": [
      "[*********************100%%**********************]  1 of 1 completed\n",
      "[*********************100%%**********************]  1 of 1 completed\n",
      "[*********************100%%**********************]  1 of 1 completed\n",
      "[*********************100%%**********************]  1 of 1 completed\n",
      "[*********************100%%**********************]  1 of 1 completed\n",
      "/home/ag/qfin/backend/scripts/portfolio_optimization/quantum_optimization/script_runner.py:128: FutureWarning: Series.__getitem__ treating keys as positions is deprecated. In a future version, integer keys will always be treated as labels (consistent with DataFrame behavior). To access a value by position, use `ser.iloc[pos]`\n",
      "  cum_ret = 100 * (portfolio_val['Total Pos'][-1] / portfolio_val['Total Pos'][0] - 1)\n",
      "[*********************100%%**********************]  1 of 1 completed\n",
      "[*********************100%%**********************]  1 of 1 completed\n",
      "[*********************100%%**********************]  1 of 1 completed\n",
      "[*********************100%%**********************]  1 of 1 completed\n",
      "[*********************100%%**********************]  1 of 1 completed\n",
      "/home/ag/qfin/backend/scripts/portfolio_optimization/quantum_optimization/script_runner.py:273: FutureWarning: Series.__getitem__ treating keys as positions is deprecated. In a future version, integer keys will always be treated as labels (consistent with DataFrame behavior). To access a value by position, use `ser.iloc[pos]`\n",
      "  cum_ret = 100 * (portfolio_val['Total Pos'][-1] / portfolio_val['Total Pos'][0] - 1)\n"
     ]
    },
    {
     "name": "stdout",
     "output_type": "stream",
     "text": [
      "Using sampling vqe...\n"
     ]
    },
    {
     "name": "stderr",
     "output_type": "stream",
     "text": [
      "[*********************100%%**********************]  1 of 1 completed\n",
      "[*********************100%%**********************]  1 of 1 completed\n",
      "[*********************100%%**********************]  1 of 1 completed\n",
      "[*********************100%%**********************]  1 of 1 completed\n",
      "[*********************100%%**********************]  1 of 1 completed\n",
      "/home/ag/qfin/backend/scripts/portfolio_optimization/quantum_optimization/script_runner.py:128: FutureWarning: Series.__getitem__ treating keys as positions is deprecated. In a future version, integer keys will always be treated as labels (consistent with DataFrame behavior). To access a value by position, use `ser.iloc[pos]`\n",
      "  cum_ret = 100 * (portfolio_val['Total Pos'][-1] / portfolio_val['Total Pos'][0] - 1)\n",
      "[*********************100%%**********************]  1 of 1 completed\n",
      "[*********************100%%**********************]  1 of 1 completed\n",
      "[*********************100%%**********************]  1 of 1 completed\n",
      "[*********************100%%**********************]  1 of 1 completed\n",
      "[*********************100%%**********************]  1 of 1 completed\n",
      "/home/ag/qfin/backend/scripts/portfolio_optimization/quantum_optimization/script_runner.py:273: FutureWarning: Series.__getitem__ treating keys as positions is deprecated. In a future version, integer keys will always be treated as labels (consistent with DataFrame behavior). To access a value by position, use `ser.iloc[pos]`\n",
      "  cum_ret = 100 * (portfolio_val['Total Pos'][-1] / portfolio_val['Total Pos'][0] - 1)\n"
     ]
    },
    {
     "name": "stdout",
     "output_type": "stream",
     "text": [
      "Using numpy minimum eigensolver...\n"
     ]
    },
    {
     "name": "stderr",
     "output_type": "stream",
     "text": [
      "[*********************100%%**********************]  1 of 1 completed\n",
      "[*********************100%%**********************]  1 of 1 completed\n",
      "[*********************100%%**********************]  1 of 1 completed\n",
      "[*********************100%%**********************]  1 of 1 completed\n",
      "[*********************100%%**********************]  1 of 1 completed\n",
      "/home/ag/qfin/backend/scripts/portfolio_optimization/quantum_optimization/script_runner.py:128: FutureWarning: Series.__getitem__ treating keys as positions is deprecated. In a future version, integer keys will always be treated as labels (consistent with DataFrame behavior). To access a value by position, use `ser.iloc[pos]`\n",
      "  cum_ret = 100 * (portfolio_val['Total Pos'][-1] / portfolio_val['Total Pos'][0] - 1)\n",
      "[*********************100%%**********************]  1 of 1 completed\n",
      "[*********************100%%**********************]  1 of 1 completed\n",
      "[*********************100%%**********************]  1 of 1 completed\n",
      "[*********************100%%**********************]  1 of 1 completed\n",
      "[*********************100%%**********************]  1 of 1 completed\n",
      "/home/ag/qfin/backend/scripts/portfolio_optimization/quantum_optimization/script_runner.py:273: FutureWarning: Series.__getitem__ treating keys as positions is deprecated. In a future version, integer keys will always be treated as labels (consistent with DataFrame behavior). To access a value by position, use `ser.iloc[pos]`\n",
      "  cum_ret = 100 * (portfolio_val['Total Pos'][-1] / portfolio_val['Total Pos'][0] - 1)\n"
     ]
    },
    {
     "name": "stdout",
     "output_type": "stream",
     "text": [
      "Using qaoa...\n"
     ]
    },
    {
     "name": "stderr",
     "output_type": "stream",
     "text": [
      "[*********************100%%**********************]  1 of 1 completed\n",
      "[*********************100%%**********************]  1 of 1 completed\n",
      "[*********************100%%**********************]  1 of 1 completed\n",
      "[*********************100%%**********************]  1 of 1 completed\n",
      "[*********************100%%**********************]  1 of 1 completed\n",
      "/home/ag/qfin/backend/scripts/portfolio_optimization/quantum_optimization/script_runner.py:128: FutureWarning: Series.__getitem__ treating keys as positions is deprecated. In a future version, integer keys will always be treated as labels (consistent with DataFrame behavior). To access a value by position, use `ser.iloc[pos]`\n",
      "  cum_ret = 100 * (portfolio_val['Total Pos'][-1] / portfolio_val['Total Pos'][0] - 1)\n",
      "[*********************100%%**********************]  1 of 1 completed\n",
      "[*********************100%%**********************]  1 of 1 completed\n",
      "[*********************100%%**********************]  1 of 1 completed\n",
      "[*********************100%%**********************]  1 of 1 completed\n",
      "[*********************100%%**********************]  1 of 1 completed\n",
      "/home/ag/qfin/backend/scripts/portfolio_optimization/quantum_optimization/script_runner.py:273: FutureWarning: Series.__getitem__ treating keys as positions is deprecated. In a future version, integer keys will always be treated as labels (consistent with DataFrame behavior). To access a value by position, use `ser.iloc[pos]`\n",
      "  cum_ret = 100 * (portfolio_val['Total Pos'][-1] / portfolio_val['Total Pos'][0] - 1)\n"
     ]
    },
    {
     "name": "stdout",
     "output_type": "stream",
     "text": [
      "Using sampling vqe...\n"
     ]
    },
    {
     "name": "stderr",
     "output_type": "stream",
     "text": [
      "[*********************100%%**********************]  1 of 1 completed\n",
      "[*********************100%%**********************]  1 of 1 completed\n",
      "[*********************100%%**********************]  1 of 1 completed\n",
      "[*********************100%%**********************]  1 of 1 completed\n",
      "[*********************100%%**********************]  1 of 1 completed\n",
      "/home/ag/qfin/backend/scripts/portfolio_optimization/quantum_optimization/script_runner.py:128: FutureWarning: Series.__getitem__ treating keys as positions is deprecated. In a future version, integer keys will always be treated as labels (consistent with DataFrame behavior). To access a value by position, use `ser.iloc[pos]`\n",
      "  cum_ret = 100 * (portfolio_val['Total Pos'][-1] / portfolio_val['Total Pos'][0] - 1)\n",
      "[*********************100%%**********************]  1 of 1 completed\n",
      "[*********************100%%**********************]  1 of 1 completed\n",
      "[*********************100%%**********************]  1 of 1 completed\n",
      "[*********************100%%**********************]  1 of 1 completed\n",
      "[*********************100%%**********************]  1 of 1 completed\n",
      "/home/ag/qfin/backend/scripts/portfolio_optimization/quantum_optimization/script_runner.py:273: FutureWarning: Series.__getitem__ treating keys as positions is deprecated. In a future version, integer keys will always be treated as labels (consistent with DataFrame behavior). To access a value by position, use `ser.iloc[pos]`\n",
      "  cum_ret = 100 * (portfolio_val['Total Pos'][-1] / portfolio_val['Total Pos'][0] - 1)\n"
     ]
    },
    {
     "name": "stdout",
     "output_type": "stream",
     "text": [
      "Using numpy minimum eigensolver...\n"
     ]
    },
    {
     "name": "stderr",
     "output_type": "stream",
     "text": [
      "[*********************100%%**********************]  1 of 1 completed\n",
      "[*********************100%%**********************]  1 of 1 completed\n",
      "[*********************100%%**********************]  1 of 1 completed\n",
      "[*********************100%%**********************]  1 of 1 completed\n",
      "[*********************100%%**********************]  1 of 1 completed\n",
      "/home/ag/qfin/backend/scripts/portfolio_optimization/quantum_optimization/script_runner.py:128: FutureWarning: Series.__getitem__ treating keys as positions is deprecated. In a future version, integer keys will always be treated as labels (consistent with DataFrame behavior). To access a value by position, use `ser.iloc[pos]`\n",
      "  cum_ret = 100 * (portfolio_val['Total Pos'][-1] / portfolio_val['Total Pos'][0] - 1)\n",
      "[*********************100%%**********************]  1 of 1 completed\n",
      "[*********************100%%**********************]  1 of 1 completed\n",
      "[*********************100%%**********************]  1 of 1 completed\n",
      "[*********************100%%**********************]  1 of 1 completed\n",
      "[*********************100%%**********************]  1 of 1 completed\n",
      "/home/ag/qfin/backend/scripts/portfolio_optimization/quantum_optimization/script_runner.py:273: FutureWarning: Series.__getitem__ treating keys as positions is deprecated. In a future version, integer keys will always be treated as labels (consistent with DataFrame behavior). To access a value by position, use `ser.iloc[pos]`\n",
      "  cum_ret = 100 * (portfolio_val['Total Pos'][-1] / portfolio_val['Total Pos'][0] - 1)\n"
     ]
    },
    {
     "name": "stdout",
     "output_type": "stream",
     "text": [
      "Using qaoa...\n"
     ]
    },
    {
     "name": "stderr",
     "output_type": "stream",
     "text": [
      "[*********************100%%**********************]  1 of 1 completed\n",
      "[*********************100%%**********************]  1 of 1 completed\n",
      "[*********************100%%**********************]  1 of 1 completed\n",
      "[*********************100%%**********************]  1 of 1 completed\n",
      "[*********************100%%**********************]  1 of 1 completed\n",
      "/home/ag/qfin/backend/scripts/portfolio_optimization/quantum_optimization/script_runner.py:128: FutureWarning: Series.__getitem__ treating keys as positions is deprecated. In a future version, integer keys will always be treated as labels (consistent with DataFrame behavior). To access a value by position, use `ser.iloc[pos]`\n",
      "  cum_ret = 100 * (portfolio_val['Total Pos'][-1] / portfolio_val['Total Pos'][0] - 1)\n",
      "[*********************100%%**********************]  1 of 1 completed\n",
      "[*********************100%%**********************]  1 of 1 completed\n",
      "[*********************100%%**********************]  1 of 1 completed\n",
      "[*********************100%%**********************]  1 of 1 completed\n",
      "[*********************100%%**********************]  1 of 1 completed\n",
      "/home/ag/qfin/backend/scripts/portfolio_optimization/quantum_optimization/script_runner.py:273: FutureWarning: Series.__getitem__ treating keys as positions is deprecated. In a future version, integer keys will always be treated as labels (consistent with DataFrame behavior). To access a value by position, use `ser.iloc[pos]`\n",
      "  cum_ret = 100 * (portfolio_val['Total Pos'][-1] / portfolio_val['Total Pos'][0] - 1)\n"
     ]
    },
    {
     "name": "stdout",
     "output_type": "stream",
     "text": [
      "Using sampling vqe...\n"
     ]
    },
    {
     "name": "stderr",
     "output_type": "stream",
     "text": [
      "[*********************100%%**********************]  1 of 1 completed\n",
      "[*********************100%%**********************]  1 of 1 completed\n",
      "[*********************100%%**********************]  1 of 1 completed\n",
      "[*********************100%%**********************]  1 of 1 completed\n",
      "[*********************100%%**********************]  1 of 1 completed\n",
      "/home/ag/qfin/backend/scripts/portfolio_optimization/quantum_optimization/script_runner.py:128: FutureWarning: Series.__getitem__ treating keys as positions is deprecated. In a future version, integer keys will always be treated as labels (consistent with DataFrame behavior). To access a value by position, use `ser.iloc[pos]`\n",
      "  cum_ret = 100 * (portfolio_val['Total Pos'][-1] / portfolio_val['Total Pos'][0] - 1)\n",
      "[*********************100%%**********************]  1 of 1 completed\n",
      "[*********************100%%**********************]  1 of 1 completed\n",
      "[*********************100%%**********************]  1 of 1 completed\n",
      "[*********************100%%**********************]  1 of 1 completed\n",
      "[*********************100%%**********************]  1 of 1 completed\n",
      "/home/ag/qfin/backend/scripts/portfolio_optimization/quantum_optimization/script_runner.py:273: FutureWarning: Series.__getitem__ treating keys as positions is deprecated. In a future version, integer keys will always be treated as labels (consistent with DataFrame behavior). To access a value by position, use `ser.iloc[pos]`\n",
      "  cum_ret = 100 * (portfolio_val['Total Pos'][-1] / portfolio_val['Total Pos'][0] - 1)\n"
     ]
    },
    {
     "name": "stdout",
     "output_type": "stream",
     "text": [
      "Using numpy minimum eigensolver...\n"
     ]
    },
    {
     "name": "stderr",
     "output_type": "stream",
     "text": [
      "[*********************100%%**********************]  1 of 1 completed\n",
      "[*********************100%%**********************]  1 of 1 completed\n",
      "[*********************100%%**********************]  1 of 1 completed\n",
      "[*********************100%%**********************]  1 of 1 completed\n",
      "[*********************100%%**********************]  1 of 1 completed\n",
      "/home/ag/qfin/backend/scripts/portfolio_optimization/quantum_optimization/script_runner.py:128: FutureWarning: Series.__getitem__ treating keys as positions is deprecated. In a future version, integer keys will always be treated as labels (consistent with DataFrame behavior). To access a value by position, use `ser.iloc[pos]`\n",
      "  cum_ret = 100 * (portfolio_val['Total Pos'][-1] / portfolio_val['Total Pos'][0] - 1)\n",
      "[*********************100%%**********************]  1 of 1 completed\n",
      "[*********************100%%**********************]  1 of 1 completed\n",
      "[*********************100%%**********************]  1 of 1 completed\n",
      "[*********************100%%**********************]  1 of 1 completed\n",
      "[*********************100%%**********************]  1 of 1 completed\n",
      "/home/ag/qfin/backend/scripts/portfolio_optimization/quantum_optimization/script_runner.py:273: FutureWarning: Series.__getitem__ treating keys as positions is deprecated. In a future version, integer keys will always be treated as labels (consistent with DataFrame behavior). To access a value by position, use `ser.iloc[pos]`\n",
      "  cum_ret = 100 * (portfolio_val['Total Pos'][-1] / portfolio_val['Total Pos'][0] - 1)\n"
     ]
    },
    {
     "name": "stdout",
     "output_type": "stream",
     "text": [
      "Using qaoa...\n"
     ]
    },
    {
     "name": "stderr",
     "output_type": "stream",
     "text": [
      "[*********************100%%**********************]  1 of 1 completed\n",
      "[*********************100%%**********************]  1 of 1 completed\n",
      "[*********************100%%**********************]  1 of 1 completed\n",
      "[*********************100%%**********************]  1 of 1 completed\n",
      "[*********************100%%**********************]  1 of 1 completed\n",
      "/home/ag/qfin/backend/scripts/portfolio_optimization/quantum_optimization/script_runner.py:128: FutureWarning: Series.__getitem__ treating keys as positions is deprecated. In a future version, integer keys will always be treated as labels (consistent with DataFrame behavior). To access a value by position, use `ser.iloc[pos]`\n",
      "  cum_ret = 100 * (portfolio_val['Total Pos'][-1] / portfolio_val['Total Pos'][0] - 1)\n",
      "[*********************100%%**********************]  1 of 1 completed\n",
      "[*********************100%%**********************]  1 of 1 completed\n",
      "[*********************100%%**********************]  1 of 1 completed\n",
      "[*********************100%%**********************]  1 of 1 completed\n",
      "[*********************100%%**********************]  1 of 1 completed\n",
      "/home/ag/qfin/backend/scripts/portfolio_optimization/quantum_optimization/script_runner.py:273: FutureWarning: Series.__getitem__ treating keys as positions is deprecated. In a future version, integer keys will always be treated as labels (consistent with DataFrame behavior). To access a value by position, use `ser.iloc[pos]`\n",
      "  cum_ret = 100 * (portfolio_val['Total Pos'][-1] / portfolio_val['Total Pos'][0] - 1)\n"
     ]
    },
    {
     "name": "stdout",
     "output_type": "stream",
     "text": [
      "Using sampling vqe...\n"
     ]
    },
    {
     "name": "stderr",
     "output_type": "stream",
     "text": [
      "[*********************100%%**********************]  1 of 1 completed\n",
      "[*********************100%%**********************]  1 of 1 completed\n",
      "[*********************100%%**********************]  1 of 1 completed\n",
      "[*********************100%%**********************]  1 of 1 completed\n",
      "[*********************100%%**********************]  1 of 1 completed\n",
      "/home/ag/qfin/backend/scripts/portfolio_optimization/quantum_optimization/script_runner.py:128: FutureWarning: Series.__getitem__ treating keys as positions is deprecated. In a future version, integer keys will always be treated as labels (consistent with DataFrame behavior). To access a value by position, use `ser.iloc[pos]`\n",
      "  cum_ret = 100 * (portfolio_val['Total Pos'][-1] / portfolio_val['Total Pos'][0] - 1)\n",
      "[*********************100%%**********************]  1 of 1 completed\n",
      "[*********************100%%**********************]  1 of 1 completed\n",
      "[*********************100%%**********************]  1 of 1 completed\n",
      "[*********************100%%**********************]  1 of 1 completed\n",
      "[*********************100%%**********************]  1 of 1 completed\n",
      "/home/ag/qfin/backend/scripts/portfolio_optimization/quantum_optimization/script_runner.py:273: FutureWarning: Series.__getitem__ treating keys as positions is deprecated. In a future version, integer keys will always be treated as labels (consistent with DataFrame behavior). To access a value by position, use `ser.iloc[pos]`\n",
      "  cum_ret = 100 * (portfolio_val['Total Pos'][-1] / portfolio_val['Total Pos'][0] - 1)\n"
     ]
    },
    {
     "name": "stdout",
     "output_type": "stream",
     "text": [
      "Using numpy minimum eigensolver...\n"
     ]
    },
    {
     "name": "stderr",
     "output_type": "stream",
     "text": [
      "[*********************100%%**********************]  1 of 1 completed\n",
      "[*********************100%%**********************]  1 of 1 completed\n",
      "[*********************100%%**********************]  1 of 1 completed\n",
      "[*********************100%%**********************]  1 of 1 completed\n",
      "[*********************100%%**********************]  1 of 1 completed\n",
      "/home/ag/qfin/backend/scripts/portfolio_optimization/quantum_optimization/script_runner.py:128: FutureWarning: Series.__getitem__ treating keys as positions is deprecated. In a future version, integer keys will always be treated as labels (consistent with DataFrame behavior). To access a value by position, use `ser.iloc[pos]`\n",
      "  cum_ret = 100 * (portfolio_val['Total Pos'][-1] / portfolio_val['Total Pos'][0] - 1)\n",
      "[*********************100%%**********************]  1 of 1 completed\n",
      "[*********************100%%**********************]  1 of 1 completed\n",
      "[*********************100%%**********************]  1 of 1 completed\n",
      "[*********************100%%**********************]  1 of 1 completed\n",
      "[*********************100%%**********************]  1 of 1 completed\n",
      "/home/ag/qfin/backend/scripts/portfolio_optimization/quantum_optimization/script_runner.py:273: FutureWarning: Series.__getitem__ treating keys as positions is deprecated. In a future version, integer keys will always be treated as labels (consistent with DataFrame behavior). To access a value by position, use `ser.iloc[pos]`\n",
      "  cum_ret = 100 * (portfolio_val['Total Pos'][-1] / portfolio_val['Total Pos'][0] - 1)\n"
     ]
    },
    {
     "name": "stdout",
     "output_type": "stream",
     "text": [
      "Using qaoa...\n"
     ]
    },
    {
     "name": "stderr",
     "output_type": "stream",
     "text": [
      "[*********************100%%**********************]  1 of 1 completed\n",
      "[*********************100%%**********************]  1 of 1 completed\n",
      "[*********************100%%**********************]  1 of 1 completed\n",
      "[*********************100%%**********************]  1 of 1 completed\n",
      "[*********************100%%**********************]  1 of 1 completed\n",
      "/home/ag/qfin/backend/scripts/portfolio_optimization/quantum_optimization/script_runner.py:128: FutureWarning: Series.__getitem__ treating keys as positions is deprecated. In a future version, integer keys will always be treated as labels (consistent with DataFrame behavior). To access a value by position, use `ser.iloc[pos]`\n",
      "  cum_ret = 100 * (portfolio_val['Total Pos'][-1] / portfolio_val['Total Pos'][0] - 1)\n",
      "[*********************100%%**********************]  1 of 1 completed\n",
      "[*********************100%%**********************]  1 of 1 completed\n",
      "[*********************100%%**********************]  1 of 1 completed\n",
      "[*********************100%%**********************]  1 of 1 completed\n",
      "[*********************100%%**********************]  1 of 1 completed\n",
      "/home/ag/qfin/backend/scripts/portfolio_optimization/quantum_optimization/script_runner.py:273: FutureWarning: Series.__getitem__ treating keys as positions is deprecated. In a future version, integer keys will always be treated as labels (consistent with DataFrame behavior). To access a value by position, use `ser.iloc[pos]`\n",
      "  cum_ret = 100 * (portfolio_val['Total Pos'][-1] / portfolio_val['Total Pos'][0] - 1)\n"
     ]
    },
    {
     "name": "stdout",
     "output_type": "stream",
     "text": [
      "Using sampling vqe...\n"
     ]
    },
    {
     "name": "stderr",
     "output_type": "stream",
     "text": [
      "[*********************100%%**********************]  1 of 1 completed\n",
      "[*********************100%%**********************]  1 of 1 completed\n",
      "[*********************100%%**********************]  1 of 1 completed\n",
      "[*********************100%%**********************]  1 of 1 completed\n",
      "[*********************100%%**********************]  1 of 1 completed\n",
      "/home/ag/qfin/backend/scripts/portfolio_optimization/quantum_optimization/script_runner.py:128: FutureWarning: Series.__getitem__ treating keys as positions is deprecated. In a future version, integer keys will always be treated as labels (consistent with DataFrame behavior). To access a value by position, use `ser.iloc[pos]`\n",
      "  cum_ret = 100 * (portfolio_val['Total Pos'][-1] / portfolio_val['Total Pos'][0] - 1)\n",
      "[*********************100%%**********************]  1 of 1 completed\n",
      "[*********************100%%**********************]  1 of 1 completed\n",
      "[*********************100%%**********************]  1 of 1 completed\n",
      "[*********************100%%**********************]  1 of 1 completed\n",
      "[*********************100%%**********************]  1 of 1 completed\n",
      "/home/ag/qfin/backend/scripts/portfolio_optimization/quantum_optimization/script_runner.py:273: FutureWarning: Series.__getitem__ treating keys as positions is deprecated. In a future version, integer keys will always be treated as labels (consistent with DataFrame behavior). To access a value by position, use `ser.iloc[pos]`\n",
      "  cum_ret = 100 * (portfolio_val['Total Pos'][-1] / portfolio_val['Total Pos'][0] - 1)\n"
     ]
    },
    {
     "name": "stdout",
     "output_type": "stream",
     "text": [
      "Using numpy minimum eigensolver...\n"
     ]
    },
    {
     "name": "stderr",
     "output_type": "stream",
     "text": [
      "\n",
      "1 Failed download:\n",
      "['FISV']: YFChartError(\"%ticker%: Data doesn't exist for startDate = 1514782800, endDate = 1519880400\")\n"
     ]
    },
    {
     "name": "stdout",
     "output_type": "stream",
     "text": [
      "\"No data found for this date range, symbols may be delisted: ['FISV'].\"\n",
      "Error encountered whil running job: \"No data found for this date range, symbols may be delisted: ['FISV'].\"\n",
      "Using numpy minimum eigensolver...\n"
     ]
    },
    {
     "name": "stderr",
     "output_type": "stream",
     "text": [
      "\n",
      "1 Failed download:\n",
      "['FISV']: YFChartError(\"%ticker%: Data doesn't exist for startDate = 1514782800, endDate = 1527825600\")\n"
     ]
    },
    {
     "name": "stdout",
     "output_type": "stream",
     "text": [
      "\"No data found for this date range, symbols may be delisted: ['FISV'].\"\n",
      "Error encountered whil running job: \"No data found for this date range, symbols may be delisted: ['FISV'].\"\n",
      "Using numpy minimum eigensolver...\n"
     ]
    },
    {
     "name": "stderr",
     "output_type": "stream",
     "text": [
      "\n",
      "1 Failed download:\n",
      "['FISV']: YFChartError(\"%ticker%: Data doesn't exist for startDate = 1514782800, endDate = 1535774400\")\n"
     ]
    },
    {
     "name": "stdout",
     "output_type": "stream",
     "text": [
      "\"No data found for this date range, symbols may be delisted: ['FISV'].\"\n",
      "Error encountered whil running job: \"No data found for this date range, symbols may be delisted: ['FISV'].\"\n",
      "Using numpy minimum eigensolver...\n"
     ]
    },
    {
     "name": "stderr",
     "output_type": "stream",
     "text": [
      "\n",
      "1 Failed download:\n",
      "['FISV']: YFChartError(\"%ticker%: Data doesn't exist for startDate = 1514782800, endDate = 1546318800\")\n"
     ]
    },
    {
     "name": "stdout",
     "output_type": "stream",
     "text": [
      "\"No data found for this date range, symbols may be delisted: ['FISV'].\"\n",
      "Error encountered whil running job: \"No data found for this date range, symbols may be delisted: ['FISV'].\"\n",
      "Using numpy minimum eigensolver...\n"
     ]
    },
    {
     "name": "stderr",
     "output_type": "stream",
     "text": [
      "\n",
      "1 Failed download:\n",
      "['FISV']: YFChartError(\"%ticker%: Data doesn't exist for startDate = 1514782800, endDate = 1559361600\")\n"
     ]
    },
    {
     "name": "stdout",
     "output_type": "stream",
     "text": [
      "\"No data found for this date range, symbols may be delisted: ['FISV'].\"\n",
      "Error encountered whil running job: \"No data found for this date range, symbols may be delisted: ['FISV'].\"\n",
      "Using numpy minimum eigensolver...\n"
     ]
    },
    {
     "name": "stderr",
     "output_type": "stream",
     "text": [
      "\n",
      "1 Failed download:\n",
      "['FISV']: YFChartError(\"%ticker%: Data doesn't exist for startDate = 1514782800, endDate = 1577854800\")\n"
     ]
    },
    {
     "name": "stdout",
     "output_type": "stream",
     "text": [
      "\"No data found for this date range, symbols may be delisted: ['FISV'].\"\n",
      "Error encountered whil running job: \"No data found for this date range, symbols may be delisted: ['FISV'].\"\n",
      "Using numpy minimum eigensolver...\n"
     ]
    },
    {
     "name": "stderr",
     "output_type": "stream",
     "text": [
      "\n",
      "1 Failed download:\n",
      "['FISV']: YFChartError(\"%ticker%: Data doesn't exist for startDate = 1514782800, endDate = 1609477200\")\n"
     ]
    },
    {
     "name": "stdout",
     "output_type": "stream",
     "text": [
      "\"No data found for this date range, symbols may be delisted: ['FISV'].\"\n",
      "Error encountered whil running job: \"No data found for this date range, symbols may be delisted: ['FISV'].\"\n",
      "Using numpy minimum eigensolver...\n"
     ]
    },
    {
     "name": "stderr",
     "output_type": "stream",
     "text": [
      "\n",
      "1 Failed download:\n",
      "['FISV']: YFChartError(\"%ticker%: Data doesn't exist for startDate = 1514782800, endDate = 1641013200\")\n"
     ]
    },
    {
     "name": "stdout",
     "output_type": "stream",
     "text": [
      "\"No data found for this date range, symbols may be delisted: ['FISV'].\"\n",
      "Error encountered whil running job: \"No data found for this date range, symbols may be delisted: ['FISV'].\"\n",
      "Using numpy minimum eigensolver...\n"
     ]
    },
    {
     "name": "stderr",
     "output_type": "stream",
     "text": [
      "\n",
      "6 Failed downloads:\n",
      "['DOCU', 'SNOW', 'ABNB', 'DDOG', 'CRWD', 'ZM']: YFChartError(\"%ticker%: Data doesn't exist for startDate = 1514782800, endDate = 1519880400\")\n"
     ]
    },
    {
     "name": "stdout",
     "output_type": "stream",
     "text": [
      "\"No data found for this date range, symbols may be delisted: ['SNOW', 'ZM', 'ABNB', 'CRWD', 'DDOG', 'DOCU'].\"\n",
      "Error encountered whil running job: \"No data found for this date range, symbols may be delisted: ['SNOW', 'ZM', 'ABNB', 'CRWD', 'DDOG', 'DOCU'].\"\n",
      "Using numpy minimum eigensolver...\n"
     ]
    },
    {
     "name": "stderr",
     "output_type": "stream",
     "text": [
      "\n",
      "5 Failed downloads:\n",
      "['SNOW', 'ABNB', 'DDOG', 'CRWD', 'ZM']: YFChartError(\"%ticker%: Data doesn't exist for startDate = 1514782800, endDate = 1527825600\")\n"
     ]
    },
    {
     "name": "stdout",
     "output_type": "stream",
     "text": [
      "\"No data found for this date range, symbols may be delisted: ['SNOW', 'ZM', 'ABNB', 'CRWD', 'DDOG'].\"\n",
      "Error encountered whil running job: \"No data found for this date range, symbols may be delisted: ['SNOW', 'ZM', 'ABNB', 'CRWD', 'DDOG'].\"\n",
      "Using numpy minimum eigensolver...\n"
     ]
    },
    {
     "name": "stderr",
     "output_type": "stream",
     "text": [
      "\n",
      "5 Failed downloads:\n",
      "['SNOW', 'ABNB', 'DDOG', 'CRWD', 'ZM']: YFChartError(\"%ticker%: Data doesn't exist for startDate = 1514782800, endDate = 1535774400\")\n"
     ]
    },
    {
     "name": "stdout",
     "output_type": "stream",
     "text": [
      "\"No data found for this date range, symbols may be delisted: ['SNOW', 'ZM', 'ABNB', 'CRWD', 'DDOG'].\"\n",
      "Error encountered whil running job: \"No data found for this date range, symbols may be delisted: ['SNOW', 'ZM', 'ABNB', 'CRWD', 'DDOG'].\"\n",
      "Using numpy minimum eigensolver...\n"
     ]
    },
    {
     "name": "stderr",
     "output_type": "stream",
     "text": [
      "\n",
      "5 Failed downloads:\n",
      "['SNOW', 'ABNB', 'DDOG', 'CRWD', 'ZM']: YFChartError(\"%ticker%: Data doesn't exist for startDate = 1514782800, endDate = 1546318800\")\n"
     ]
    },
    {
     "name": "stdout",
     "output_type": "stream",
     "text": [
      "\"No data found for this date range, symbols may be delisted: ['SNOW', 'ZM', 'ABNB', 'CRWD', 'DDOG'].\"\n",
      "Error encountered whil running job: \"No data found for this date range, symbols may be delisted: ['SNOW', 'ZM', 'ABNB', 'CRWD', 'DDOG'].\"\n",
      "Using numpy minimum eigensolver...\n"
     ]
    },
    {
     "name": "stderr",
     "output_type": "stream",
     "text": [
      "[*********************100%%**********************]  1 of 1 completed\n",
      "[*********************100%%**********************]  1 of 1 completed\n",
      "[*********************100%%**********************]  1 of 1 completed\n",
      "[*********************100%%**********************]  1 of 1 completed\n",
      "[*********************100%%**********************]  1 of 1 completed\n",
      "/home/ag/qfin/backend/scripts/portfolio_optimization/quantum_optimization/script_runner.py:128: FutureWarning: Series.__getitem__ treating keys as positions is deprecated. In a future version, integer keys will always be treated as labels (consistent with DataFrame behavior). To access a value by position, use `ser.iloc[pos]`\n",
      "  cum_ret = 100 * (portfolio_val['Total Pos'][-1] / portfolio_val['Total Pos'][0] - 1)\n",
      "[*********************100%%**********************]  1 of 1 completed\n",
      "[*********************100%%**********************]  1 of 1 completed\n",
      "[*********************100%%**********************]  1 of 1 completed\n",
      "[*********************100%%**********************]  1 of 1 completed\n",
      "[*********************100%%**********************]  1 of 1 completed\n",
      "/home/ag/qfin/backend/scripts/portfolio_optimization/quantum_optimization/script_runner.py:273: FutureWarning: Series.__getitem__ treating keys as positions is deprecated. In a future version, integer keys will always be treated as labels (consistent with DataFrame behavior). To access a value by position, use `ser.iloc[pos]`\n",
      "  cum_ret = 100 * (portfolio_val['Total Pos'][-1] / portfolio_val['Total Pos'][0] - 1)\n"
     ]
    },
    {
     "name": "stdout",
     "output_type": "stream",
     "text": [
      "Using qaoa...\n"
     ]
    },
    {
     "name": "stderr",
     "output_type": "stream",
     "text": [
      "[*********************100%%**********************]  1 of 1 completed\n",
      "[*********************100%%**********************]  1 of 1 completed\n",
      "[*********************100%%**********************]  1 of 1 completed\n",
      "[*********************100%%**********************]  1 of 1 completed\n",
      "[*********************100%%**********************]  1 of 1 completed\n",
      "/home/ag/qfin/backend/scripts/portfolio_optimization/quantum_optimization/script_runner.py:128: FutureWarning: Series.__getitem__ treating keys as positions is deprecated. In a future version, integer keys will always be treated as labels (consistent with DataFrame behavior). To access a value by position, use `ser.iloc[pos]`\n",
      "  cum_ret = 100 * (portfolio_val['Total Pos'][-1] / portfolio_val['Total Pos'][0] - 1)\n",
      "[*********************100%%**********************]  1 of 1 completed\n",
      "[*********************100%%**********************]  1 of 1 completed\n",
      "[*********************100%%**********************]  1 of 1 completed\n",
      "[*********************100%%**********************]  1 of 1 completed\n",
      "[*********************100%%**********************]  1 of 1 completed\n",
      "/home/ag/qfin/backend/scripts/portfolio_optimization/quantum_optimization/script_runner.py:273: FutureWarning: Series.__getitem__ treating keys as positions is deprecated. In a future version, integer keys will always be treated as labels (consistent with DataFrame behavior). To access a value by position, use `ser.iloc[pos]`\n",
      "  cum_ret = 100 * (portfolio_val['Total Pos'][-1] / portfolio_val['Total Pos'][0] - 1)\n"
     ]
    },
    {
     "name": "stdout",
     "output_type": "stream",
     "text": [
      "Using sampling vqe...\n"
     ]
    },
    {
     "name": "stderr",
     "output_type": "stream",
     "text": [
      "[*********************100%%**********************]  1 of 1 completed\n",
      "[*********************100%%**********************]  1 of 1 completed\n",
      "[*********************100%%**********************]  1 of 1 completed\n",
      "[*********************100%%**********************]  1 of 1 completed\n",
      "[*********************100%%**********************]  1 of 1 completed\n",
      "/home/ag/qfin/backend/scripts/portfolio_optimization/quantum_optimization/script_runner.py:128: FutureWarning: Series.__getitem__ treating keys as positions is deprecated. In a future version, integer keys will always be treated as labels (consistent with DataFrame behavior). To access a value by position, use `ser.iloc[pos]`\n",
      "  cum_ret = 100 * (portfolio_val['Total Pos'][-1] / portfolio_val['Total Pos'][0] - 1)\n",
      "[*********************100%%**********************]  1 of 1 completed\n",
      "[*********************100%%**********************]  1 of 1 completed\n",
      "[*********************100%%**********************]  1 of 1 completed\n",
      "[*********************100%%**********************]  1 of 1 completed\n",
      "[*********************100%%**********************]  1 of 1 completed\n",
      "/home/ag/qfin/backend/scripts/portfolio_optimization/quantum_optimization/script_runner.py:273: FutureWarning: Series.__getitem__ treating keys as positions is deprecated. In a future version, integer keys will always be treated as labels (consistent with DataFrame behavior). To access a value by position, use `ser.iloc[pos]`\n",
      "  cum_ret = 100 * (portfolio_val['Total Pos'][-1] / portfolio_val['Total Pos'][0] - 1)\n"
     ]
    },
    {
     "name": "stdout",
     "output_type": "stream",
     "text": [
      "Using numpy minimum eigensolver...\n"
     ]
    },
    {
     "name": "stderr",
     "output_type": "stream",
     "text": [
      "\n",
      "2 Failed downloads:\n",
      "['SNOW', 'ABNB']: YFChartError(\"%ticker%: Data doesn't exist for startDate = 1514782800, endDate = 1577854800\")\n"
     ]
    },
    {
     "name": "stdout",
     "output_type": "stream",
     "text": [
      "\"No data found for this date range, symbols may be delisted: ['SNOW', 'ABNB'].\"\n",
      "Error encountered whil running job: \"No data found for this date range, symbols may be delisted: ['SNOW', 'ABNB'].\"\n",
      "Using numpy minimum eigensolver...\n",
      "Error encountered whil running job: Expecting valid float number, got: nan\n",
      "Using numpy minimum eigensolver...\n",
      "Error encountered whil running job: Expecting valid float number, got: nan\n",
      "Using numpy minimum eigensolver...\n"
     ]
    },
    {
     "name": "stderr",
     "output_type": "stream",
     "text": [
      "\n",
      "5 Failed downloads:\n",
      "['PDD', 'ZS', 'ESTC', 'UBER']: YFChartError(\"%ticker%: Data doesn't exist for startDate = 1514782800, endDate = 1519880400\")\n",
      "['SPLK']: YFTzMissingError('$%ticker%: possibly delisted; No timezone found')\n"
     ]
    },
    {
     "name": "stdout",
     "output_type": "stream",
     "text": [
      "\"No data found for this date range, symbols may be delisted: ['PDD', 'SPLK', 'UBER', 'ZS', 'ESTC'].\"\n",
      "Error encountered whil running job: \"No data found for this date range, symbols may be delisted: ['PDD', 'SPLK', 'UBER', 'ZS', 'ESTC'].\"\n",
      "Using numpy minimum eigensolver...\n"
     ]
    },
    {
     "name": "stderr",
     "output_type": "stream",
     "text": [
      "\n",
      "4 Failed downloads:\n",
      "['PDD', 'ESTC', 'UBER']: YFChartError(\"%ticker%: Data doesn't exist for startDate = 1514782800, endDate = 1527825600\")\n",
      "['SPLK']: YFTzMissingError('$%ticker%: possibly delisted; No timezone found')\n"
     ]
    },
    {
     "name": "stdout",
     "output_type": "stream",
     "text": [
      "\"No data found for this date range, symbols may be delisted: ['PDD', 'SPLK', 'UBER', 'ESTC'].\"\n",
      "Error encountered whil running job: \"No data found for this date range, symbols may be delisted: ['PDD', 'SPLK', 'UBER', 'ESTC'].\"\n",
      "Using numpy minimum eigensolver...\n"
     ]
    },
    {
     "name": "stderr",
     "output_type": "stream",
     "text": [
      "\n",
      "3 Failed downloads:\n",
      "['SPLK']: YFTzMissingError('$%ticker%: possibly delisted; No timezone found')\n",
      "['ESTC', 'UBER']: YFChartError(\"%ticker%: Data doesn't exist for startDate = 1514782800, endDate = 1535774400\")\n"
     ]
    },
    {
     "name": "stdout",
     "output_type": "stream",
     "text": [
      "\"No data found for this date range, symbols may be delisted: ['SPLK', 'UBER', 'ESTC'].\"\n",
      "Error encountered whil running job: \"No data found for this date range, symbols may be delisted: ['SPLK', 'UBER', 'ESTC'].\"\n",
      "Using numpy minimum eigensolver...\n"
     ]
    },
    {
     "name": "stderr",
     "output_type": "stream",
     "text": [
      "\n",
      "2 Failed downloads:\n",
      "['SPLK']: YFTzMissingError('$%ticker%: possibly delisted; No timezone found')\n",
      "['UBER']: YFChartError(\"%ticker%: Data doesn't exist for startDate = 1514782800, endDate = 1546318800\")\n"
     ]
    },
    {
     "name": "stdout",
     "output_type": "stream",
     "text": [
      "\"No data found for this date range, symbols may be delisted: ['SPLK', 'UBER'].\"\n",
      "Error encountered whil running job: \"No data found for this date range, symbols may be delisted: ['SPLK', 'UBER'].\"\n",
      "Using numpy minimum eigensolver...\n"
     ]
    },
    {
     "name": "stderr",
     "output_type": "stream",
     "text": [
      "\n",
      "1 Failed download:\n",
      "['SPLK']: YFTzMissingError('$%ticker%: possibly delisted; No timezone found')\n"
     ]
    },
    {
     "name": "stdout",
     "output_type": "stream",
     "text": [
      "\"No data found for this date range, symbols may be delisted: ['SPLK'].\"\n",
      "Error encountered whil running job: \"No data found for this date range, symbols may be delisted: ['SPLK'].\"\n",
      "Using numpy minimum eigensolver...\n"
     ]
    },
    {
     "name": "stderr",
     "output_type": "stream",
     "text": [
      "\n",
      "1 Failed download:\n",
      "['SPLK']: YFTzMissingError('$%ticker%: possibly delisted; No timezone found')\n"
     ]
    },
    {
     "name": "stdout",
     "output_type": "stream",
     "text": [
      "\"No data found for this date range, symbols may be delisted: ['SPLK'].\"\n",
      "Error encountered whil running job: \"No data found for this date range, symbols may be delisted: ['SPLK'].\"\n",
      "Using numpy minimum eigensolver...\n"
     ]
    },
    {
     "name": "stderr",
     "output_type": "stream",
     "text": [
      "\n",
      "1 Failed download:\n",
      "['SPLK']: YFTzMissingError('$%ticker%: possibly delisted; No timezone found')\n"
     ]
    },
    {
     "name": "stdout",
     "output_type": "stream",
     "text": [
      "\"No data found for this date range, symbols may be delisted: ['SPLK'].\"\n",
      "Error encountered whil running job: \"No data found for this date range, symbols may be delisted: ['SPLK'].\"\n",
      "Using numpy minimum eigensolver...\n"
     ]
    },
    {
     "name": "stderr",
     "output_type": "stream",
     "text": [
      "\n",
      "1 Failed download:\n",
      "['SPLK']: YFTzMissingError('$%ticker%: possibly delisted; No timezone found')\n"
     ]
    },
    {
     "name": "stdout",
     "output_type": "stream",
     "text": [
      "\"No data found for this date range, symbols may be delisted: ['SPLK'].\"\n",
      "Error encountered whil running job: \"No data found for this date range, symbols may be delisted: ['SPLK'].\"\n",
      "Using numpy minimum eigensolver...\n"
     ]
    },
    {
     "name": "stderr",
     "output_type": "stream",
     "text": [
      "\n",
      "9 Failed downloads:\n",
      "['NET', 'U', 'DOCU', 'ZI', 'ASAN', 'PTON', 'BILL', 'AFRM', 'HOOD']: YFChartError(\"%ticker%: Data doesn't exist for startDate = 1514782800, endDate = 1519880400\")\n"
     ]
    },
    {
     "name": "stdout",
     "output_type": "stream",
     "text": [
      "\"No data found for this date range, symbols may be delisted: ['NET', 'U', 'BILL', 'ASAN', 'DOCU', 'PTON', 'ZI', 'HOOD', 'AFRM'].\"\n",
      "Error encountered whil running job: \"No data found for this date range, symbols may be delisted: ['NET', 'U', 'BILL', 'ASAN', 'DOCU', 'PTON', 'ZI', 'HOOD', 'AFRM'].\"\n",
      "Using numpy minimum eigensolver...\n"
     ]
    },
    {
     "name": "stderr",
     "output_type": "stream",
     "text": [
      "\n",
      "8 Failed downloads:\n",
      "['NET', 'U', 'ZI', 'ASAN', 'PTON', 'BILL', 'AFRM', 'HOOD']: YFChartError(\"%ticker%: Data doesn't exist for startDate = 1514782800, endDate = 1527825600\")\n"
     ]
    },
    {
     "name": "stdout",
     "output_type": "stream",
     "text": [
      "\"No data found for this date range, symbols may be delisted: ['NET', 'U', 'BILL', 'ASAN', 'PTON', 'ZI', 'HOOD', 'AFRM'].\"\n",
      "Error encountered whil running job: \"No data found for this date range, symbols may be delisted: ['NET', 'U', 'BILL', 'ASAN', 'PTON', 'ZI', 'HOOD', 'AFRM'].\"\n",
      "Using numpy minimum eigensolver...\n"
     ]
    },
    {
     "name": "stderr",
     "output_type": "stream",
     "text": [
      "\n",
      "8 Failed downloads:\n",
      "['NET', 'U', 'ZI', 'ASAN', 'PTON', 'BILL', 'AFRM', 'HOOD']: YFChartError(\"%ticker%: Data doesn't exist for startDate = 1514782800, endDate = 1535774400\")\n"
     ]
    },
    {
     "name": "stdout",
     "output_type": "stream",
     "text": [
      "\"No data found for this date range, symbols may be delisted: ['NET', 'U', 'BILL', 'ASAN', 'PTON', 'ZI', 'HOOD', 'AFRM'].\"\n",
      "Error encountered whil running job: \"No data found for this date range, symbols may be delisted: ['NET', 'U', 'BILL', 'ASAN', 'PTON', 'ZI', 'HOOD', 'AFRM'].\"\n",
      "Using numpy minimum eigensolver...\n"
     ]
    },
    {
     "name": "stderr",
     "output_type": "stream",
     "text": [
      "\n",
      "8 Failed downloads:\n",
      "['NET', 'U', 'ZI', 'ASAN', 'PTON', 'BILL', 'AFRM', 'HOOD']: YFChartError(\"%ticker%: Data doesn't exist for startDate = 1514782800, endDate = 1546318800\")\n"
     ]
    },
    {
     "name": "stdout",
     "output_type": "stream",
     "text": [
      "\"No data found for this date range, symbols may be delisted: ['NET', 'U', 'BILL', 'ASAN', 'PTON', 'ZI', 'HOOD', 'AFRM'].\"\n",
      "Error encountered whil running job: \"No data found for this date range, symbols may be delisted: ['NET', 'U', 'BILL', 'ASAN', 'PTON', 'ZI', 'HOOD', 'AFRM'].\"\n",
      "Using numpy minimum eigensolver...\n"
     ]
    },
    {
     "name": "stderr",
     "output_type": "stream",
     "text": [
      "\n",
      "8 Failed downloads:\n",
      "['NET', 'U', 'ZI', 'ASAN', 'PTON', 'BILL', 'AFRM', 'HOOD']: YFChartError(\"%ticker%: Data doesn't exist for startDate = 1514782800, endDate = 1559361600\")\n"
     ]
    },
    {
     "name": "stdout",
     "output_type": "stream",
     "text": [
      "\"No data found for this date range, symbols may be delisted: ['NET', 'U', 'BILL', 'ASAN', 'PTON', 'ZI', 'HOOD', 'AFRM'].\"\n",
      "Error encountered whil running job: \"No data found for this date range, symbols may be delisted: ['NET', 'U', 'BILL', 'ASAN', 'PTON', 'ZI', 'HOOD', 'AFRM'].\"\n",
      "Using numpy minimum eigensolver...\n"
     ]
    },
    {
     "name": "stderr",
     "output_type": "stream",
     "text": [
      "\n",
      "5 Failed downloads:\n",
      "['U', 'ZI', 'ASAN', 'AFRM', 'HOOD']: YFChartError(\"%ticker%: Data doesn't exist for startDate = 1514782800, endDate = 1577854800\")\n"
     ]
    },
    {
     "name": "stdout",
     "output_type": "stream",
     "text": [
      "\"No data found for this date range, symbols may be delisted: ['U', 'ASAN', 'ZI', 'HOOD', 'AFRM'].\"\n",
      "Error encountered whil running job: \"No data found for this date range, symbols may be delisted: ['U', 'ASAN', 'ZI', 'HOOD', 'AFRM'].\"\n",
      "Using numpy minimum eigensolver...\n"
     ]
    },
    {
     "name": "stderr",
     "output_type": "stream",
     "text": [
      "\n",
      "2 Failed downloads:\n",
      "['AFRM', 'HOOD']: YFChartError(\"%ticker%: Data doesn't exist for startDate = 1514782800, endDate = 1609477200\")\n"
     ]
    },
    {
     "name": "stdout",
     "output_type": "stream",
     "text": [
      "\"No data found for this date range, symbols may be delisted: ['HOOD', 'AFRM'].\"\n",
      "Error encountered whil running job: \"No data found for this date range, symbols may be delisted: ['HOOD', 'AFRM'].\"\n",
      "Using numpy minimum eigensolver...\n",
      "Error encountered whil running job: Expecting valid float number, got: nan\n",
      "Using numpy minimum eigensolver...\n"
     ]
    },
    {
     "name": "stderr",
     "output_type": "stream",
     "text": [
      "\n",
      "10 Failed downloads:\n",
      "['IOT', 'CFLT', 'PLTR', 'GTLB', 'SNOW', 'HCP', 'AI', 'MNDY', 'PATH']: YFChartError(\"%ticker%: Data doesn't exist for startDate = 1514782800, endDate = 1519880400\")\n",
      "['DATA']: YFTzMissingError('$%ticker%: possibly delisted; No timezone found')\n"
     ]
    },
    {
     "name": "stdout",
     "output_type": "stream",
     "text": [
      "\"No data found for this date range, symbols may be delisted: ['PLTR', 'SNOW', 'DATA', 'PATH', 'CFLT', 'AI', 'IOT', 'HCP', 'MNDY', 'GTLB'].\"\n",
      "Error encountered whil running job: \"No data found for this date range, symbols may be delisted: ['PLTR', 'SNOW', 'DATA', 'PATH', 'CFLT', 'AI', 'IOT', 'HCP', 'MNDY', 'GTLB'].\"\n",
      "Using numpy minimum eigensolver...\n"
     ]
    },
    {
     "name": "stderr",
     "output_type": "stream",
     "text": [
      "\n",
      "10 Failed downloads:\n",
      "['IOT', 'CFLT', 'PLTR', 'GTLB', 'SNOW', 'HCP', 'AI', 'MNDY', 'PATH']: YFChartError(\"%ticker%: Data doesn't exist for startDate = 1514782800, endDate = 1527825600\")\n",
      "['DATA']: YFTzMissingError('$%ticker%: possibly delisted; No timezone found')\n"
     ]
    },
    {
     "name": "stdout",
     "output_type": "stream",
     "text": [
      "\"No data found for this date range, symbols may be delisted: ['PLTR', 'SNOW', 'DATA', 'PATH', 'CFLT', 'AI', 'IOT', 'HCP', 'MNDY', 'GTLB'].\"\n",
      "Error encountered whil running job: \"No data found for this date range, symbols may be delisted: ['PLTR', 'SNOW', 'DATA', 'PATH', 'CFLT', 'AI', 'IOT', 'HCP', 'MNDY', 'GTLB'].\"\n",
      "Using numpy minimum eigensolver...\n"
     ]
    },
    {
     "name": "stderr",
     "output_type": "stream",
     "text": [
      "\n",
      "10 Failed downloads:\n",
      "['IOT', 'CFLT', 'PLTR', 'GTLB', 'SNOW', 'HCP', 'AI', 'MNDY', 'PATH']: YFChartError(\"%ticker%: Data doesn't exist for startDate = 1514782800, endDate = 1535774400\")\n",
      "['DATA']: YFTzMissingError('$%ticker%: possibly delisted; No timezone found')\n"
     ]
    },
    {
     "name": "stdout",
     "output_type": "stream",
     "text": [
      "\"No data found for this date range, symbols may be delisted: ['PLTR', 'SNOW', 'DATA', 'PATH', 'CFLT', 'AI', 'IOT', 'HCP', 'MNDY', 'GTLB'].\"\n",
      "Error encountered whil running job: \"No data found for this date range, symbols may be delisted: ['PLTR', 'SNOW', 'DATA', 'PATH', 'CFLT', 'AI', 'IOT', 'HCP', 'MNDY', 'GTLB'].\"\n",
      "Using numpy minimum eigensolver...\n"
     ]
    },
    {
     "name": "stderr",
     "output_type": "stream",
     "text": [
      "\n",
      "10 Failed downloads:\n",
      "['IOT', 'CFLT', 'PLTR', 'GTLB', 'SNOW', 'HCP', 'AI', 'MNDY', 'PATH']: YFChartError(\"%ticker%: Data doesn't exist for startDate = 1514782800, endDate = 1546318800\")\n",
      "['DATA']: YFTzMissingError('$%ticker%: possibly delisted; No timezone found')\n"
     ]
    },
    {
     "name": "stdout",
     "output_type": "stream",
     "text": [
      "\"No data found for this date range, symbols may be delisted: ['PLTR', 'SNOW', 'DATA', 'PATH', 'CFLT', 'AI', 'IOT', 'HCP', 'MNDY', 'GTLB'].\"\n",
      "Error encountered whil running job: \"No data found for this date range, symbols may be delisted: ['PLTR', 'SNOW', 'DATA', 'PATH', 'CFLT', 'AI', 'IOT', 'HCP', 'MNDY', 'GTLB'].\"\n",
      "Using numpy minimum eigensolver...\n"
     ]
    },
    {
     "name": "stderr",
     "output_type": "stream",
     "text": [
      "\n",
      "10 Failed downloads:\n",
      "['IOT', 'CFLT', 'PLTR', 'GTLB', 'SNOW', 'HCP', 'AI', 'MNDY', 'PATH']: YFChartError(\"%ticker%: Data doesn't exist for startDate = 1514782800, endDate = 1559361600\")\n",
      "['DATA']: YFTzMissingError('$%ticker%: possibly delisted; No timezone found')\n"
     ]
    },
    {
     "name": "stdout",
     "output_type": "stream",
     "text": [
      "\"No data found for this date range, symbols may be delisted: ['PLTR', 'SNOW', 'DATA', 'PATH', 'CFLT', 'AI', 'IOT', 'HCP', 'MNDY', 'GTLB'].\"\n",
      "Error encountered whil running job: \"No data found for this date range, symbols may be delisted: ['PLTR', 'SNOW', 'DATA', 'PATH', 'CFLT', 'AI', 'IOT', 'HCP', 'MNDY', 'GTLB'].\"\n",
      "Using numpy minimum eigensolver...\n"
     ]
    },
    {
     "name": "stderr",
     "output_type": "stream",
     "text": [
      "\n",
      "10 Failed downloads:\n",
      "['IOT', 'CFLT', 'PLTR', 'GTLB', 'SNOW', 'HCP', 'AI', 'MNDY', 'PATH']: YFChartError(\"%ticker%: Data doesn't exist for startDate = 1514782800, endDate = 1577854800\")\n",
      "['DATA']: YFTzMissingError('$%ticker%: possibly delisted; No timezone found')\n"
     ]
    },
    {
     "name": "stdout",
     "output_type": "stream",
     "text": [
      "\"No data found for this date range, symbols may be delisted: ['PLTR', 'SNOW', 'DATA', 'PATH', 'CFLT', 'AI', 'IOT', 'HCP', 'MNDY', 'GTLB'].\"\n",
      "Error encountered whil running job: \"No data found for this date range, symbols may be delisted: ['PLTR', 'SNOW', 'DATA', 'PATH', 'CFLT', 'AI', 'IOT', 'HCP', 'MNDY', 'GTLB'].\"\n",
      "Using numpy minimum eigensolver...\n"
     ]
    },
    {
     "name": "stderr",
     "output_type": "stream",
     "text": [
      "\n",
      "7 Failed downloads:\n",
      "['IOT', 'CFLT', 'GTLB', 'HCP', 'MNDY', 'PATH']: YFChartError(\"%ticker%: Data doesn't exist for startDate = 1514782800, endDate = 1609477200\")\n",
      "['DATA']: YFTzMissingError('$%ticker%: possibly delisted; No timezone found')\n"
     ]
    },
    {
     "name": "stdout",
     "output_type": "stream",
     "text": [
      "\"No data found for this date range, symbols may be delisted: ['DATA', 'PATH', 'CFLT', 'IOT', 'HCP', 'MNDY', 'GTLB'].\"\n",
      "Error encountered whil running job: \"No data found for this date range, symbols may be delisted: ['DATA', 'PATH', 'CFLT', 'IOT', 'HCP', 'MNDY', 'GTLB'].\"\n",
      "Using numpy minimum eigensolver...\n"
     ]
    },
    {
     "name": "stderr",
     "output_type": "stream",
     "text": [
      "\n",
      "1 Failed download:\n",
      "['DATA']: YFTzMissingError('$%ticker%: possibly delisted; No timezone found')\n"
     ]
    },
    {
     "name": "stdout",
     "output_type": "stream",
     "text": [
      "\"No data found for this date range, symbols may be delisted: ['DATA'].\"\n",
      "Error encountered whil running job: \"No data found for this date range, symbols may be delisted: ['DATA'].\"\n",
      "Using numpy minimum eigensolver...\n"
     ]
    },
    {
     "name": "stderr",
     "output_type": "stream",
     "text": [
      "\n",
      "8 Failed downloads:\n",
      "['S', 'COUR', 'DUOL', 'PRCH', 'BMBL', 'NRDS', 'HIPO', 'SQSP']: YFChartError(\"%ticker%: Data doesn't exist for startDate = 1514782800, endDate = 1519880400\")\n"
     ]
    },
    {
     "name": "stdout",
     "output_type": "stream",
     "text": [
      "\"No data found for this date range, symbols may be delisted: ['S', 'SQSP', 'BMBL', 'DUOL', 'COUR', 'NRDS', 'HIPO', 'PRCH'].\"\n",
      "Error encountered whil running job: \"No data found for this date range, symbols may be delisted: ['S', 'SQSP', 'BMBL', 'DUOL', 'COUR', 'NRDS', 'HIPO', 'PRCH'].\"\n",
      "Using numpy minimum eigensolver...\n"
     ]
    },
    {
     "name": "stderr",
     "output_type": "stream",
     "text": [
      "\n",
      "8 Failed downloads:\n",
      "['S', 'COUR', 'DUOL', 'PRCH', 'BMBL', 'NRDS', 'HIPO', 'SQSP']: YFChartError(\"%ticker%: Data doesn't exist for startDate = 1514782800, endDate = 1527825600\")\n"
     ]
    },
    {
     "name": "stdout",
     "output_type": "stream",
     "text": [
      "\"No data found for this date range, symbols may be delisted: ['S', 'SQSP', 'BMBL', 'DUOL', 'COUR', 'NRDS', 'HIPO', 'PRCH'].\"\n",
      "Error encountered whil running job: \"No data found for this date range, symbols may be delisted: ['S', 'SQSP', 'BMBL', 'DUOL', 'COUR', 'NRDS', 'HIPO', 'PRCH'].\"\n",
      "Using numpy minimum eigensolver...\n"
     ]
    },
    {
     "name": "stderr",
     "output_type": "stream",
     "text": [
      "\n",
      "8 Failed downloads:\n",
      "['S', 'COUR', 'DUOL', 'PRCH', 'BMBL', 'NRDS', 'HIPO', 'SQSP']: YFChartError(\"%ticker%: Data doesn't exist for startDate = 1514782800, endDate = 1535774400\")\n"
     ]
    },
    {
     "name": "stdout",
     "output_type": "stream",
     "text": [
      "\"No data found for this date range, symbols may be delisted: ['S', 'SQSP', 'BMBL', 'DUOL', 'COUR', 'NRDS', 'HIPO', 'PRCH'].\"\n",
      "Error encountered whil running job: \"No data found for this date range, symbols may be delisted: ['S', 'SQSP', 'BMBL', 'DUOL', 'COUR', 'NRDS', 'HIPO', 'PRCH'].\"\n",
      "Using numpy minimum eigensolver...\n"
     ]
    },
    {
     "name": "stderr",
     "output_type": "stream",
     "text": [
      "\n",
      "8 Failed downloads:\n",
      "['S', 'COUR', 'DUOL', 'PRCH', 'BMBL', 'NRDS', 'HIPO', 'SQSP']: YFChartError(\"%ticker%: Data doesn't exist for startDate = 1514782800, endDate = 1546318800\")\n"
     ]
    },
    {
     "name": "stdout",
     "output_type": "stream",
     "text": [
      "\"No data found for this date range, symbols may be delisted: ['S', 'SQSP', 'BMBL', 'DUOL', 'COUR', 'NRDS', 'HIPO', 'PRCH'].\"\n",
      "Error encountered whil running job: \"No data found for this date range, symbols may be delisted: ['S', 'SQSP', 'BMBL', 'DUOL', 'COUR', 'NRDS', 'HIPO', 'PRCH'].\"\n",
      "Using numpy minimum eigensolver...\n"
     ]
    },
    {
     "name": "stderr",
     "output_type": "stream",
     "text": [
      "\n",
      "8 Failed downloads:\n",
      "['S', 'COUR', 'DUOL', 'PRCH', 'BMBL', 'NRDS', 'HIPO', 'SQSP']: YFChartError(\"%ticker%: Data doesn't exist for startDate = 1514782800, endDate = 1559361600\")\n"
     ]
    },
    {
     "name": "stdout",
     "output_type": "stream",
     "text": [
      "\"No data found for this date range, symbols may be delisted: ['S', 'SQSP', 'BMBL', 'DUOL', 'COUR', 'NRDS', 'HIPO', 'PRCH'].\"\n",
      "Error encountered whil running job: \"No data found for this date range, symbols may be delisted: ['S', 'SQSP', 'BMBL', 'DUOL', 'COUR', 'NRDS', 'HIPO', 'PRCH'].\"\n",
      "Using numpy minimum eigensolver...\n"
     ]
    },
    {
     "name": "stderr",
     "output_type": "stream",
     "text": [
      "\n",
      "8 Failed downloads:\n",
      "['S', 'COUR', 'DUOL', 'PRCH', 'BMBL', 'NRDS', 'HIPO', 'SQSP']: YFChartError(\"%ticker%: Data doesn't exist for startDate = 1514782800, endDate = 1577854800\")\n"
     ]
    },
    {
     "name": "stdout",
     "output_type": "stream",
     "text": [
      "\"No data found for this date range, symbols may be delisted: ['S', 'SQSP', 'BMBL', 'DUOL', 'COUR', 'NRDS', 'HIPO', 'PRCH'].\"\n",
      "Error encountered whil running job: \"No data found for this date range, symbols may be delisted: ['S', 'SQSP', 'BMBL', 'DUOL', 'COUR', 'NRDS', 'HIPO', 'PRCH'].\"\n",
      "Using numpy minimum eigensolver...\n"
     ]
    },
    {
     "name": "stderr",
     "output_type": "stream",
     "text": [
      "\n",
      "7 Failed downloads:\n",
      "['S', 'COUR', 'DUOL', 'BMBL', 'NRDS', 'HIPO', 'SQSP']: YFChartError(\"%ticker%: Data doesn't exist for startDate = 1514782800, endDate = 1609477200\")\n"
     ]
    },
    {
     "name": "stdout",
     "output_type": "stream",
     "text": [
      "\"No data found for this date range, symbols may be delisted: ['S', 'SQSP', 'BMBL', 'DUOL', 'COUR', 'NRDS', 'HIPO'].\"\n",
      "Error encountered whil running job: \"No data found for this date range, symbols may be delisted: ['S', 'SQSP', 'BMBL', 'DUOL', 'COUR', 'NRDS', 'HIPO'].\"\n",
      "Using numpy minimum eigensolver...\n",
      "Error encountered whil running job: Expecting valid float number, got: nan\n"
     ]
    }
   ],
   "source": [
    "results = run_jobs(jobs_01)\n",
    "\n",
    "save_multiple_results(file_name=\"job_results_01_13June2024.csv\", all_results=results)"
   ]
  }
 ],
 "metadata": {
  "kernelspec": {
   "display_name": ".venv",
   "language": "python",
   "name": "python3"
  },
  "language_info": {
   "codemirror_mode": {
    "name": "ipython",
    "version": 3
   },
   "file_extension": ".py",
   "mimetype": "text/x-python",
   "name": "python",
   "nbconvert_exporter": "python",
   "pygments_lexer": "ipython3",
   "version": "3.10.12"
  }
 },
 "nbformat": 4,
 "nbformat_minor": 2
}
