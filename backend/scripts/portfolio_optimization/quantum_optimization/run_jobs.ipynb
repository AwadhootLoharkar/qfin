{
 "cells": [
  {
   "cell_type": "code",
   "execution_count": null,
   "metadata": {},
   "outputs": [],
   "source": [
    "from job_runner import run_jobs\n",
    "from save_result import save_multiple_results"
   ]
  },
  {
   "cell_type": "code",
   "execution_count": null,
   "metadata": {},
   "outputs": [],
   "source": [
    "from jobs import jobs_01\n",
    "\n",
    "results_01 = run_jobs(jobs_01)\n",
    "\n",
    "save_multiple_results(file_name=\"job_results_01_13June2024.csv\", all_results=results_01)"
   ]
  },
  {
   "cell_type": "code",
   "execution_count": null,
   "metadata": {},
   "outputs": [],
   "source": [
    "from jobs import jobs_02\n",
    "\n",
    "results_02 = run_jobs(jobs_02)\n",
    "\n",
    "save_multiple_results(file_name=\"job_results_02_13June2024.csv\", all_results=results_02)"
   ]
  },
  {
   "cell_type": "code",
   "execution_count": null,
   "metadata": {},
   "outputs": [],
   "source": [
    "from jobs import jobs_03\n",
    "\n",
    "results_03 = run_jobs(jobs_03)\n",
    "\n",
    "save_multiple_results(file_name=\"job_results_03_19June2024.csv\", all_results=results_03)"
   ]
  },
  {
   "cell_type": "code",
   "execution_count": null,
   "metadata": {},
   "outputs": [],
   "source": [
    "from jobs import jobs_04\n",
    "\n",
    "results_04 = run_jobs(jobs_04)\n",
    "\n",
    "save_multiple_results(file_name=\"job_results_04_19June2024.csv\", all_results=results_04)"
   ]
  },
  {
   "cell_type": "code",
   "execution_count": null,
   "metadata": {},
   "outputs": [],
   "source": [
    "from jobs import jobs_05\n",
    "\n",
    "results_05 = run_jobs(jobs_05)\n",
    "\n",
    "save_multiple_results(file_name=\"job_results_05_19June2024.csv\", all_results=results_05)"
   ]
  },
  {
   "cell_type": "code",
   "execution_count": null,
   "metadata": {},
   "outputs": [],
   "source": [
    "from jobs import jobs_06\n",
    "\n",
    "results_06 = run_jobs(jobs_06)\n",
    "\n",
    "save_multiple_results(file_name=\"job_results_06_19June2024.csv\", all_results=results_06)"
   ]
  },
  {
   "cell_type": "code",
   "execution_count": null,
   "metadata": {},
   "outputs": [],
   "source": [
    "from jobs import jobs_07\n",
    "\n",
    "results_07 = run_jobs(jobs_07)\n",
    "\n",
    "save_multiple_results(file_name=\"job_results_07_19June2024.csv\", all_results=results_07)"
   ]
  },
  {
   "cell_type": "code",
   "execution_count": null,
   "metadata": {},
   "outputs": [],
   "source": [
    "from jobs import jobs_08\n",
    "\n",
    "results_08 = run_jobs(jobs_08)\n",
    "\n",
    "save_multiple_results(file_name=\"job_results_08_19June2024.csv\", all_results=results_08)"
   ]
  },
  {
   "cell_type": "code",
   "execution_count": null,
   "metadata": {},
   "outputs": [],
   "source": [
    "from jobs import jobs_09\n",
    "\n",
    "results_09 = run_jobs(jobs_09)\n",
    "\n",
    "save_multiple_results(file_name=\"job_results_09_19June2024.csv\", all_results=results_09)"
   ]
  },
  {
   "cell_type": "code",
   "execution_count": null,
   "metadata": {},
   "outputs": [],
   "source": [
    "from jobs import jobs_10\n",
    "\n",
    "results_10 = run_jobs(jobs_10)\n",
    "\n",
    "save_multiple_results(file_name=\"job_results_10_19June2024.csv\", all_results=results_10)"
   ]
  },
  {
   "cell_type": "code",
   "execution_count": null,
   "metadata": {},
   "outputs": [],
   "source": [
    "from jobs import jobs_11\n",
    "\n",
    "results_11 = run_jobs(jobs_11)\n",
    "\n",
    "save_multiple_results(file_name=\"job_results_11_19June2024.csv\", all_results=results_11)"
   ]
  },
  {
   "cell_type": "code",
   "execution_count": null,
   "metadata": {},
   "outputs": [],
   "source": [
    "from jobs import jobs_12\n",
    "\n",
    "results_12 = run_jobs(jobs_12)\n",
    "\n",
    "save_multiple_results(file_name=\"job_results_12_19June2024.csv\", all_results=results_12)"
   ]
  },
  {
   "cell_type": "code",
   "execution_count": null,
   "metadata": {},
   "outputs": [],
   "source": [
    "from jobs import jobs_13\n",
    "\n",
    "results_13 = run_jobs(jobs_13)\n",
    "\n",
    "save_multiple_results(file_name=\"job_results_13_19June2024.csv\", all_results=results_13)"
   ]
  },
  {
   "cell_type": "code",
   "execution_count": null,
   "metadata": {},
   "outputs": [],
   "source": [
    "from jobs import jobs_14\n",
    "\n",
    "results_14 = run_jobs(jobs_14)\n",
    "\n",
    "save_multiple_results(file_name=\"job_results_14_19June2024.csv\", all_results=results_14)"
   ]
  },
  {
   "cell_type": "code",
   "execution_count": null,
   "metadata": {},
   "outputs": [],
   "source": [
    "from jobs import jobs_15\n",
    "\n",
    "results_15 = run_jobs(jobs_15)\n",
    "\n",
    "save_multiple_results(file_name=\"job_results_15_19June2024.csv\", all_results=results_15)"
   ]
  },
  {
   "cell_type": "code",
   "execution_count": null,
   "metadata": {},
   "outputs": [],
   "source": [
    "from jobs import jobs_16\n",
    "\n",
    "results_16 = run_jobs(jobs_16)\n",
    "\n",
    "save_multiple_results(file_name=\"job_results_16_19June2024.csv\", all_results=results_16)"
   ]
  },
  {
   "cell_type": "code",
   "execution_count": null,
   "metadata": {},
   "outputs": [],
   "source": []
  }
 ],
 "metadata": {
  "kernelspec": {
   "display_name": ".venv",
   "language": "python",
   "name": "python3"
  },
  "language_info": {
   "codemirror_mode": {
    "name": "ipython",
    "version": 3
   },
   "file_extension": ".py",
   "mimetype": "text/x-python",
   "name": "python",
   "nbconvert_exporter": "python",
   "pygments_lexer": "ipython3",
   "version": "3.10.12"
  }
 },
 "nbformat": 4,
 "nbformat_minor": 2
}
