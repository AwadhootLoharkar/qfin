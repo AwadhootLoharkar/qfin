{
 "cells": [
  {
   "cell_type": "code",
   "execution_count": null,
   "metadata": {},
   "outputs": [],
   "source": [
    "import pandas as pd\n",
    "import yfinance as yf\n",
    "import time\n",
    "import numpy as np\n",
    "import matplotlib.pyplot as plt\n",
    "\n",
    "\n",
    "# Define start and end dates\n",
    "start = pd.to_datetime('2013-01-01')\n",
    "end = pd.to_datetime('2018-01-01')\n",
    "\n",
    "# Create an empty dictionary to store dataframes\n",
    "stock_data = {}\n",
    "\n",
    "# Define the stock symbols (Yahoo Finance uses different symbols compared to Quandl)\n",
    "stock_symbols = ['JPM', 'C', 'BAC', 'WFC']\n",
    "\n",
    "# Fetch data from Yahoo Finance\n",
    "for stock_symbol in stock_symbols:\n",
    "    try:\n",
    "        stock_df = yf.download(stock_symbol, start=start, end=end)\n",
    "\n",
    "        # Process the stock data\n",
    "        stock_df['Normed Return'] = stock_df['Adj Close'] / stock_df.iloc[0]['Adj Close']\n",
    "\n",
    "        # Store the dataframe in the dictionary\n",
    "        stock_data[stock_symbol] = stock_df\n",
    "\n",
    "    except Exception as e:\n",
    "        print(f\"Error retrieving data for symbol: {stock_symbol}. Error message: {e}\")\n",
    "\n",
    "# Access and display dataframes (similar to the original loop)\n",
    "for stock_name, stock_df in stock_data.items():\n",
    "    print(f\"\\n{stock_name} DataFrame Head:\")\n",
    "    print(stock_df.head())\n",
    "\n",
    "allocations = [0.3, 0.2, 0.4, 0.1]\n",
    "for (stock_name, stock_df), allocation in zip(stock_data.items(), allocations):\n",
    "    stock_df['Allocation'] = stock_df['Normed Return'] * allocation\n",
    "\n",
    "# Display the head of the JPM dataframe with allocation\n",
    "print(\"\\nJPM DataFrame with Allocation Head:\")\n",
    "print(stock_data['JPM'].head())\n",
    "\n",
    "# Calculate and add position values to each dataframe\n",
    "for stock_df in stock_data.values():\n",
    "    stock_df['Position Values'] = stock_df['Allocation'] * 1000000\n",
    "\n",
    "# Display the head of the JPM dataframe with allocation and position values\n",
    "print(\"\\nJPM DataFrame with Allocation and Position Values Head:\")\n",
    "print(stock_data['JPM'].head())\n"
   ]
  },
  {
   "cell_type": "code",
   "execution_count": null,
   "metadata": {},
   "outputs": [],
   "source": [
    "# Extract the position values for each stock\n",
    "jpm = stock_data['JPM']\n",
    "citi = stock_data['C']\n",
    "bofa = stock_data['BAC']\n",
    "wfc = stock_data['WFC']\n",
    "\n",
    "# Combine the position values into a single DataFrame and calculate the total position\n",
    "portfolio_val = pd.concat([jpm['Position Values'], citi['Position Values'], bofa['Position Values'], wfc['Position Values']], axis=1)\n",
    "portfolio_val.columns = ['JPM Pos', 'CITI Pos', 'BOFA Pos', 'WFC Pos']\n",
    "portfolio_val['Total Pos'] = portfolio_val.sum(axis=1)\n",
    "\n",
    "# Display the head of the portfolio valuation DataFrame\n",
    "print(\"\\nPortfolio Valuation DataFrame Head:\")\n",
    "print(portfolio_val.head())"
   ]
  },
  {
   "cell_type": "code",
   "execution_count": null,
   "metadata": {},
   "outputs": [],
   "source": [
    "# Plot the total portfolio value\n",
    "portfolio_val['Total Pos'].plot(figsize=(10, 8))\n",
    "plt.title('Total Portfolio Value')\n",
    "plt.xlabel('Date')\n",
    "plt.ylabel('Portfolio Value')\n",
    "plt.show()\n",
    "\n",
    "# Plot the individual stock position values\n",
    "portfolio_val.drop('Total Pos', axis=1).plot(kind='line', figsize=(10, 8))\n",
    "plt.title('Individual Stock Position Values')\n",
    "plt.xlabel('Date')\n",
    "plt.ylabel('Position Value')\n",
    "plt.show()\n"
   ]
  },
  {
   "cell_type": "code",
   "execution_count": null,
   "metadata": {},
   "outputs": [],
   "source": [
    "portfolio_val['Daily Return'] = portfolio_val['Total Pos'].pct_change(1)\n",
    "portfolio_val"
   ]
  },
  {
   "cell_type": "code",
   "execution_count": null,
   "metadata": {},
   "outputs": [],
   "source": [
    "# Calculate the cumulative return\n",
    "cum_ret = 100 * (portfolio_val['Total Pos'][-1] / portfolio_val['Total Pos'][0] - 1)\n",
    "print('Our cumulative return is {} percent!'.format(cum_ret))"
   ]
  },
  {
   "cell_type": "code",
   "execution_count": null,
   "metadata": {},
   "outputs": [],
   "source": [
    "portfolio_val['Daily Return'].mean()"
   ]
  },
  {
   "cell_type": "code",
   "execution_count": null,
   "metadata": {},
   "outputs": [],
   "source": [
    "portfolio_val['Daily Return'].std()"
   ]
  },
  {
   "cell_type": "code",
   "execution_count": null,
   "metadata": {},
   "outputs": [],
   "source": [
    "SR = portfolio_val['Daily Return'].mean()/portfolio_val['Daily Return'].std()\n",
    "SR"
   ]
  },
  {
   "cell_type": "code",
   "execution_count": null,
   "metadata": {},
   "outputs": [],
   "source": [
    "ASR = (252**0.5)*SR\n",
    "ASR"
   ]
  },
  {
   "cell_type": "code",
   "execution_count": null,
   "metadata": {},
   "outputs": [],
   "source": [
    "\n",
    "\n",
    "# Extract and combine the adjusted close prices into a single DataFrame for daily returns\n",
    "jpm_close = jpm['Adj Close']\n",
    "citi_close = citi['Adj Close']\n",
    "bofa_close = bofa['Adj Close']\n",
    "wfc_close = wfc['Adj Close']\n",
    "\n",
    "# Combine daily close prices into a single DataFrame\n",
    "stocks = pd.concat([jpm_close, citi_close, bofa_close, wfc_close], axis=1)\n",
    "stocks.columns = ['jpm', 'citi', 'bofa', 'wfc']\n",
    "\n",
    "# Display the head of the daily returns DataFrame\n",
    "print(\"\\nDaily Returns DataFrame Head:\")\n",
    "print(stocks.head())"
   ]
  },
  {
   "cell_type": "code",
   "execution_count": null,
   "metadata": {},
   "outputs": [],
   "source": [
    "log_ret = np.log(stocks/stocks.shift(1))\n",
    "log_ret.head()"
   ]
  },
  {
   "cell_type": "code",
   "execution_count": null,
   "metadata": {},
   "outputs": [],
   "source": [
    "#calculate the log return mean of each stock\n",
    "log_ret.mean() * 252"
   ]
  },
  {
   "cell_type": "code",
   "execution_count": null,
   "metadata": {},
   "outputs": [],
   "source": [
    "# Compute pairwise covariance of columns\n",
    "log_ret.cov()*252"
   ]
  },
  {
   "cell_type": "code",
   "execution_count": null,
   "metadata": {},
   "outputs": [],
   "source": [
    "np.random.seed(101)\n",
    "\n",
    "# Stock Columns\n",
    "print('Stocks')\n",
    "print(stocks.columns)\n",
    "print('\\n')\n",
    "\n",
    "# Create Random Weights\n",
    "print('Creating Random Weights')\n",
    "weights = np.array(np.random.random(4))\n",
    "print(weights)\n",
    "print('\\n')\n",
    "\n",
    "# Rebalance Weights\n",
    "print('Rebalance to sum to 1.0')\n",
    "weights = weights / np.sum(weights)\n",
    "print(weights)\n",
    "print('\\n')\n",
    "\n",
    "# Expected Return\n",
    "print('Expected Portfolio Return')\n",
    "exp_ret = np.sum(log_ret.mean() * weights) *252\n",
    "print(exp_ret)\n",
    "print('\\n')\n",
    "\n",
    "# Expected Variance\n",
    "print('Expected Volatility')\n",
    "exp_vol = np.sqrt(np.dot(weights.T, np.dot(log_ret.cov() * 252, weights)))\n",
    "print(exp_vol)\n",
    "print('\\n')\n",
    "\n",
    "# Sharpe Ratio\n",
    "SR = exp_ret/exp_vol\n",
    "print('Sharpe Ratio')\n",
    "print(SR)"
   ]
  },
  {
   "cell_type": "code",
   "execution_count": null,
   "metadata": {},
   "outputs": [],
   "source": [
    "num_ports = 20000\n",
    "\n",
    "all_weights = np.zeros((num_ports,len(stocks.columns)))\n",
    "ret_arr = np.zeros(num_ports)\n",
    "vol_arr = np.zeros(num_ports)\n",
    "sharpe_arr = np.zeros(num_ports)\n",
    "\n",
    "for ind in range(num_ports):\n",
    "\n",
    "    # Create Random Weights\n",
    "    weights = np.array(np.random.random(4))\n",
    "\n",
    "    # Rebalance Weights\n",
    "    weights = weights / np.sum(weights)\n",
    "    \n",
    "    # Save Weights\n",
    "    all_weights[ind,:] = weights\n",
    "\n",
    "    # Expected Return\n",
    "    ret_arr[ind] = np.sum((log_ret.mean() * weights) *252)\n",
    "\n",
    "    # Expected Variance\n",
    "    vol_arr[ind] = np.sqrt(np.dot(weights.T, np.dot(log_ret.cov() * 252, weights)))\n",
    "\n",
    "    # Sharpe Ratio\n",
    "    sharpe_arr[ind] = ret_arr[ind]/vol_arr[ind]"
   ]
  },
  {
   "cell_type": "code",
   "execution_count": null,
   "metadata": {},
   "outputs": [],
   "source": [
    "sharpe_arr.max()"
   ]
  },
  {
   "cell_type": "code",
   "execution_count": null,
   "metadata": {},
   "outputs": [],
   "source": [
    "sharpe_arr.argmax()"
   ]
  },
  {
   "cell_type": "code",
   "execution_count": null,
   "metadata": {},
   "outputs": [],
   "source": [
    "all_weights[1248,:]"
   ]
  },
  {
   "cell_type": "code",
   "execution_count": null,
   "metadata": {},
   "outputs": [],
   "source": [
    "max_sr_ret = ret_arr[1248]\n",
    "max_sr_vol = vol_arr[1248]\n",
    "plt.figure(figsize=(17,9))\n",
    "plt.scatter(vol_arr,ret_arr,c=sharpe_arr,cmap='plasma')\n",
    "plt.colorbar(label='Sharpe Ratio')\n",
    "plt.xlabel('Volatility')\n",
    "plt.ylabel('Return')\n",
    "# Add red dot for max SR\n",
    "plt.scatter(max_sr_vol,max_sr_ret,c='red',s=50,edgecolors='black')"
   ]
  },
  {
   "cell_type": "code",
   "execution_count": null,
   "metadata": {},
   "outputs": [],
   "source": []
  }
 ],
 "metadata": {
  "kernelspec": {
   "display_name": "Python 3",
   "language": "python",
   "name": "python3"
  },
  "language_info": {
   "codemirror_mode": {
    "name": "ipython",
    "version": 3
   },
   "file_extension": ".py",
   "mimetype": "text/x-python",
   "name": "python",
   "nbconvert_exporter": "python",
   "pygments_lexer": "ipython3",
   "version": "3.12.0"
  }
 },
 "nbformat": 4,
 "nbformat_minor": 2
}
